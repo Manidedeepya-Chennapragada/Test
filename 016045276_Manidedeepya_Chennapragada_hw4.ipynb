{
 "cells": [
  {
   "cell_type": "code",
   "execution_count": 8,
   "id": "5a13b5bf",
   "metadata": {},
   "outputs": [
    {
     "data": {
      "text/html": [
       "        <script type=\"text/javascript\">\n",
       "        window.PlotlyConfig = {MathJaxConfig: 'local'};\n",
       "        if (window.MathJax && window.MathJax.Hub && window.MathJax.Hub.Config) {window.MathJax.Hub.Config({SVG: {font: \"STIX-Web\"}});}\n",
       "        if (typeof require !== 'undefined') {\n",
       "        require.undef(\"plotly\");\n",
       "        requirejs.config({\n",
       "            paths: {\n",
       "                'plotly': ['https://cdn.plot.ly/plotly-2.14.0.min']\n",
       "            }\n",
       "        });\n",
       "        require(['plotly'], function(Plotly) {\n",
       "            window._Plotly = Plotly;\n",
       "        });\n",
       "        }\n",
       "        </script>\n",
       "        "
      ]
     },
     "metadata": {},
     "output_type": "display_data"
    }
   ],
   "source": [
    "import numpy as np # linear algebra\n",
    "import pandas as pd # data processing, CSV file I/O (e.g. pd.read_csv)\n",
    "import plotly.graph_objs as go\n",
    "from plotly.tools import FigureFactory as ff\n",
    "import matplotlib.pyplot as plt\n",
    "import plotly.express as px\n",
    "import seaborn as sns\n",
    "from plotly.offline import init_notebook_mode,iplot\n",
    "init_notebook_mode(connected=True)"
   ]
  },
  {
   "cell_type": "code",
   "execution_count": 9,
   "id": "0fce25d9",
   "metadata": {},
   "outputs": [],
   "source": [
    "vg=pd.read_csv(\"vgsales.csv\")"
   ]
  },
  {
   "cell_type": "code",
   "execution_count": 10,
   "id": "4857ff0c",
   "metadata": {},
   "outputs": [
    {
     "data": {
      "text/plain": [
       "Rank              0\n",
       "Name              0\n",
       "Platform          0\n",
       "Year            271\n",
       "Genre             0\n",
       "Publisher        58\n",
       "NA_Sales          0\n",
       "EU_Sales          0\n",
       "JP_Sales          0\n",
       "Other_Sales       0\n",
       "Global_Sales      0\n",
       "dtype: int64"
      ]
     },
     "execution_count": 10,
     "metadata": {},
     "output_type": "execute_result"
    }
   ],
   "source": [
    "vg.isnull().sum()"
   ]
  },
  {
   "cell_type": "code",
   "execution_count": 23,
   "id": "964a15ff",
   "metadata": {},
   "outputs": [
    {
     "data": {
      "text/html": [
       "<div>\n",
       "<style scoped>\n",
       "    .dataframe tbody tr th:only-of-type {\n",
       "        vertical-align: middle;\n",
       "    }\n",
       "\n",
       "    .dataframe tbody tr th {\n",
       "        vertical-align: top;\n",
       "    }\n",
       "\n",
       "    .dataframe thead th {\n",
       "        text-align: right;\n",
       "    }\n",
       "</style>\n",
       "<table border=\"1\" class=\"dataframe\">\n",
       "  <thead>\n",
       "    <tr style=\"text-align: right;\">\n",
       "      <th></th>\n",
       "      <th>Rank</th>\n",
       "      <th>Name</th>\n",
       "      <th>Platform</th>\n",
       "      <th>Year</th>\n",
       "      <th>Genre</th>\n",
       "      <th>Publisher</th>\n",
       "      <th>NA_Sales</th>\n",
       "      <th>EU_Sales</th>\n",
       "      <th>JP_Sales</th>\n",
       "      <th>Other_Sales</th>\n",
       "      <th>Global_Sales</th>\n",
       "    </tr>\n",
       "  </thead>\n",
       "  <tbody>\n",
       "    <tr>\n",
       "      <th>0</th>\n",
       "      <td>1</td>\n",
       "      <td>Wii Sports</td>\n",
       "      <td>Wii</td>\n",
       "      <td>2006.0</td>\n",
       "      <td>Sports</td>\n",
       "      <td>Nintendo</td>\n",
       "      <td>41.49</td>\n",
       "      <td>29.02</td>\n",
       "      <td>3.77</td>\n",
       "      <td>8.46</td>\n",
       "      <td>82.74</td>\n",
       "    </tr>\n",
       "    <tr>\n",
       "      <th>1</th>\n",
       "      <td>2</td>\n",
       "      <td>Super Mario Bros.</td>\n",
       "      <td>NES</td>\n",
       "      <td>1985.0</td>\n",
       "      <td>Platform</td>\n",
       "      <td>Nintendo</td>\n",
       "      <td>29.08</td>\n",
       "      <td>3.58</td>\n",
       "      <td>6.81</td>\n",
       "      <td>0.77</td>\n",
       "      <td>40.24</td>\n",
       "    </tr>\n",
       "    <tr>\n",
       "      <th>2</th>\n",
       "      <td>3</td>\n",
       "      <td>Mario Kart Wii</td>\n",
       "      <td>Wii</td>\n",
       "      <td>2008.0</td>\n",
       "      <td>Racing</td>\n",
       "      <td>Nintendo</td>\n",
       "      <td>15.85</td>\n",
       "      <td>12.88</td>\n",
       "      <td>3.79</td>\n",
       "      <td>3.31</td>\n",
       "      <td>35.82</td>\n",
       "    </tr>\n",
       "    <tr>\n",
       "      <th>3</th>\n",
       "      <td>4</td>\n",
       "      <td>Wii Sports Resort</td>\n",
       "      <td>Wii</td>\n",
       "      <td>2009.0</td>\n",
       "      <td>Sports</td>\n",
       "      <td>Nintendo</td>\n",
       "      <td>15.75</td>\n",
       "      <td>11.01</td>\n",
       "      <td>3.28</td>\n",
       "      <td>2.96</td>\n",
       "      <td>33.00</td>\n",
       "    </tr>\n",
       "    <tr>\n",
       "      <th>4</th>\n",
       "      <td>5</td>\n",
       "      <td>Pokemon Red/Pokemon Blue</td>\n",
       "      <td>GB</td>\n",
       "      <td>1996.0</td>\n",
       "      <td>Role-Playing</td>\n",
       "      <td>Nintendo</td>\n",
       "      <td>11.27</td>\n",
       "      <td>8.89</td>\n",
       "      <td>10.22</td>\n",
       "      <td>1.00</td>\n",
       "      <td>31.37</td>\n",
       "    </tr>\n",
       "    <tr>\n",
       "      <th>...</th>\n",
       "      <td>...</td>\n",
       "      <td>...</td>\n",
       "      <td>...</td>\n",
       "      <td>...</td>\n",
       "      <td>...</td>\n",
       "      <td>...</td>\n",
       "      <td>...</td>\n",
       "      <td>...</td>\n",
       "      <td>...</td>\n",
       "      <td>...</td>\n",
       "      <td>...</td>\n",
       "    </tr>\n",
       "    <tr>\n",
       "      <th>95</th>\n",
       "      <td>96</td>\n",
       "      <td>Crash Bandicoot 2: Cortex Strikes Back</td>\n",
       "      <td>PS</td>\n",
       "      <td>1997.0</td>\n",
       "      <td>Platform</td>\n",
       "      <td>Sony Computer Entertainment</td>\n",
       "      <td>3.78</td>\n",
       "      <td>2.17</td>\n",
       "      <td>1.31</td>\n",
       "      <td>0.31</td>\n",
       "      <td>7.58</td>\n",
       "    </tr>\n",
       "    <tr>\n",
       "      <th>96</th>\n",
       "      <td>97</td>\n",
       "      <td>Super Mario Bros. 2</td>\n",
       "      <td>NES</td>\n",
       "      <td>1988.0</td>\n",
       "      <td>Platform</td>\n",
       "      <td>Nintendo</td>\n",
       "      <td>5.39</td>\n",
       "      <td>1.18</td>\n",
       "      <td>0.70</td>\n",
       "      <td>0.19</td>\n",
       "      <td>7.46</td>\n",
       "    </tr>\n",
       "    <tr>\n",
       "      <th>97</th>\n",
       "      <td>98</td>\n",
       "      <td>Super Smash Bros. for Wii U and 3DS</td>\n",
       "      <td>3DS</td>\n",
       "      <td>2014.0</td>\n",
       "      <td>Fighting</td>\n",
       "      <td>Nintendo</td>\n",
       "      <td>3.24</td>\n",
       "      <td>1.35</td>\n",
       "      <td>2.42</td>\n",
       "      <td>0.43</td>\n",
       "      <td>7.45</td>\n",
       "    </tr>\n",
       "    <tr>\n",
       "      <th>98</th>\n",
       "      <td>99</td>\n",
       "      <td>Call of Duty: World at War</td>\n",
       "      <td>X360</td>\n",
       "      <td>2008.0</td>\n",
       "      <td>Shooter</td>\n",
       "      <td>Activision</td>\n",
       "      <td>4.79</td>\n",
       "      <td>1.90</td>\n",
       "      <td>0.00</td>\n",
       "      <td>0.69</td>\n",
       "      <td>7.37</td>\n",
       "    </tr>\n",
       "    <tr>\n",
       "      <th>99</th>\n",
       "      <td>100</td>\n",
       "      <td>Battlefield 3</td>\n",
       "      <td>X360</td>\n",
       "      <td>2011.0</td>\n",
       "      <td>Shooter</td>\n",
       "      <td>Electronic Arts</td>\n",
       "      <td>4.46</td>\n",
       "      <td>2.13</td>\n",
       "      <td>0.06</td>\n",
       "      <td>0.69</td>\n",
       "      <td>7.34</td>\n",
       "    </tr>\n",
       "  </tbody>\n",
       "</table>\n",
       "<p>100 rows × 11 columns</p>\n",
       "</div>"
      ],
      "text/plain": [
       "    Rank                                    Name Platform    Year  \\\n",
       "0      1                              Wii Sports      Wii  2006.0   \n",
       "1      2                       Super Mario Bros.      NES  1985.0   \n",
       "2      3                          Mario Kart Wii      Wii  2008.0   \n",
       "3      4                       Wii Sports Resort      Wii  2009.0   \n",
       "4      5                Pokemon Red/Pokemon Blue       GB  1996.0   \n",
       "..   ...                                     ...      ...     ...   \n",
       "95    96  Crash Bandicoot 2: Cortex Strikes Back       PS  1997.0   \n",
       "96    97                     Super Mario Bros. 2      NES  1988.0   \n",
       "97    98     Super Smash Bros. for Wii U and 3DS      3DS  2014.0   \n",
       "98    99              Call of Duty: World at War     X360  2008.0   \n",
       "99   100                           Battlefield 3     X360  2011.0   \n",
       "\n",
       "           Genre                    Publisher  NA_Sales  EU_Sales  JP_Sales  \\\n",
       "0         Sports                     Nintendo     41.49     29.02      3.77   \n",
       "1       Platform                     Nintendo     29.08      3.58      6.81   \n",
       "2         Racing                     Nintendo     15.85     12.88      3.79   \n",
       "3         Sports                     Nintendo     15.75     11.01      3.28   \n",
       "4   Role-Playing                     Nintendo     11.27      8.89     10.22   \n",
       "..           ...                          ...       ...       ...       ...   \n",
       "95      Platform  Sony Computer Entertainment      3.78      2.17      1.31   \n",
       "96      Platform                     Nintendo      5.39      1.18      0.70   \n",
       "97      Fighting                     Nintendo      3.24      1.35      2.42   \n",
       "98       Shooter                   Activision      4.79      1.90      0.00   \n",
       "99       Shooter              Electronic Arts      4.46      2.13      0.06   \n",
       "\n",
       "    Other_Sales  Global_Sales  \n",
       "0          8.46         82.74  \n",
       "1          0.77         40.24  \n",
       "2          3.31         35.82  \n",
       "3          2.96         33.00  \n",
       "4          1.00         31.37  \n",
       "..          ...           ...  \n",
       "95         0.31          7.58  \n",
       "96         0.19          7.46  \n",
       "97         0.43          7.45  \n",
       "98         0.69          7.37  \n",
       "99         0.69          7.34  \n",
       "\n",
       "[100 rows x 11 columns]"
      ]
     },
     "execution_count": 23,
     "metadata": {},
     "output_type": "execute_result"
    }
   ],
   "source": [
    "vg= vg.dropna()\n",
    "vg"
   ]
  },
  {
   "cell_type": "markdown",
   "id": "2aee6903",
   "metadata": {},
   "source": [
    "# CHAPTER 10"
   ]
  },
  {
   "cell_type": "code",
   "execution_count": 12,
   "id": "34c78646",
   "metadata": {},
   "outputs": [
    {
     "data": {
      "text/plain": [
       "(array([ 0,  1,  2,  3,  4,  5,  6,  7,  8,  9, 10, 11]),\n",
       " [Text(0, 0, 'Action'),\n",
       "  Text(1, 0, 'Sports'),\n",
       "  Text(2, 0, 'Misc'),\n",
       "  Text(3, 0, 'Role-Playing'),\n",
       "  Text(4, 0, 'Shooter'),\n",
       "  Text(5, 0, 'Adventure'),\n",
       "  Text(6, 0, 'Racing'),\n",
       "  Text(7, 0, 'Platform'),\n",
       "  Text(8, 0, 'Simulation'),\n",
       "  Text(9, 0, 'Fighting'),\n",
       "  Text(10, 0, 'Strategy'),\n",
       "  Text(11, 0, 'Puzzle')])"
      ]
     },
     "execution_count": 12,
     "metadata": {},
     "output_type": "execute_result"
    },
    {
     "data": {
      "image/png": "[encoded data removed]",
      "text/plain": [
       "<Figure size 1200x800 with 1 Axes>"
      ]
     },
     "metadata": {},
     "output_type": "display_data"
    }
   ],
   "source": [
    "plt.figure(figsize=(12,8))\n",
    "sns.countplot(x=\"Genre\", data=vg, order = vg['Genre'].value_counts().index)\n",
    "plt.xticks(rotation=90)"
   ]
  },
  {
   "cell_type": "code",
   "execution_count": 17,
   "id": "4eb4b181",
   "metadata": {},
   "outputs": [],
   "source": [
    "vgsales=vg.head(100)"
   ]
  },
  {
   "cell_type": "code",
   "execution_count": 14,
   "id": "ccadfdc8",
   "metadata": {},
   "outputs": [
    {
     "data": {
      "text/html": [
       "<div>\n",
       "<style scoped>\n",
       "    .dataframe tbody tr th:only-of-type {\n",
       "        vertical-align: middle;\n",
       "    }\n",
       "\n",
       "    .dataframe tbody tr th {\n",
       "        vertical-align: top;\n",
       "    }\n",
       "\n",
       "    .dataframe thead th {\n",
       "        text-align: right;\n",
       "    }\n",
       "</style>\n",
       "<table border=\"1\" class=\"dataframe\">\n",
       "  <thead>\n",
       "    <tr style=\"text-align: right;\">\n",
       "      <th></th>\n",
       "      <th>Genre</th>\n",
       "      <th>Sale_Area</th>\n",
       "      <th>Sale_Price</th>\n",
       "    </tr>\n",
       "  </thead>\n",
       "  <tbody>\n",
       "    <tr>\n",
       "      <th>0</th>\n",
       "      <td>Action</td>\n",
       "      <td>NA_Sales</td>\n",
       "      <td>69.25</td>\n",
       "    </tr>\n",
       "    <tr>\n",
       "      <th>1</th>\n",
       "      <td>Adventure</td>\n",
       "      <td>NA_Sales</td>\n",
       "      <td>6.16</td>\n",
       "    </tr>\n",
       "    <tr>\n",
       "      <th>2</th>\n",
       "      <td>Fighting</td>\n",
       "      <td>NA_Sales</td>\n",
       "      <td>9.99</td>\n",
       "    </tr>\n",
       "    <tr>\n",
       "      <th>3</th>\n",
       "      <td>Misc</td>\n",
       "      <td>NA_Sales</td>\n",
       "      <td>61.28</td>\n",
       "    </tr>\n",
       "    <tr>\n",
       "      <th>4</th>\n",
       "      <td>Platform</td>\n",
       "      <td>NA_Sales</td>\n",
       "      <td>138.08</td>\n",
       "    </tr>\n",
       "  </tbody>\n",
       "</table>\n",
       "</div>"
      ],
      "text/plain": [
       "       Genre Sale_Area  Sale_Price\n",
       "0     Action  NA_Sales       69.25\n",
       "1  Adventure  NA_Sales        6.16\n",
       "2   Fighting  NA_Sales        9.99\n",
       "3       Misc  NA_Sales       61.28\n",
       "4   Platform  NA_Sales      138.08"
      ]
     },
     "execution_count": 14,
     "metadata": {},
     "output_type": "execute_result"
    }
   ],
   "source": [
    "comp_genre = vg[['Genre', 'NA_Sales', 'EU_Sales', 'JP_Sales', 'Other_Sales']]\n",
    "# comp_genre\n",
    "comp_map = comp_genre.groupby(by=['Genre']).sum()\n",
    "comp_table = comp_map.reset_index()\n",
    "comp_table = pd.melt(comp_table, id_vars=['Genre'], value_vars=['NA_Sales', 'EU_Sales', 'JP_Sales', 'Other_Sales'], var_name='Sale_Area', value_name='Sale_Price')\n",
    "comp_table.head()"
   ]
  },
  {
   "cell_type": "code",
   "execution_count": 15,
   "id": "19f35e7a",
   "metadata": {},
   "outputs": [
    {
     "data": {
      "text/plain": [
       "<AxesSubplot:xlabel='Genre', ylabel='Sale_Price'>"
      ]
     },
     "execution_count": 15,
     "metadata": {},
     "output_type": "execute_result"
    },
    {
     "data": {
      "image/png": "[encoded data removed]",
      "text/plain": [
       "<Figure size 1500x1000 with 1 Axes>"
      ]
     },
     "metadata": {},
     "output_type": "display_data"
    }
   ],
   "source": [
    "plt.figure(figsize=(15, 10))\n",
    "sns.barplot(x='Genre', y='Sale_Price', hue='Sale_Area', data=comp_table)"
   ]
  },
  {
   "cell_type": "code",
   "execution_count": 18,
   "id": "d2d57638",
   "metadata": {},
   "outputs": [],
   "source": [
    "xaction=vgsales[vgsales.Genre==\"Action\"]\n",
    "xsports=vgsales[vgsales.Genre==\"Sports\"]\n",
    "xmisc=vgsales[vgsales.Genre==\"Misc\"]\n",
    "xrole=vgsales[vgsales.Genre==\"Role-Playing\"]\n",
    "xshooter=vgsales[vgsales.Genre==\"Shooter\"]\n",
    "xadventure=vgsales[vgsales.Genre==\"Adventure\"]\n",
    "xrace=vgsales[vgsales.Genre==\"Racing\"]\n",
    "xplatform=vgsales[vgsales.Genre==\"Platform\"]\n",
    "xsimulation=vgsales[vgsales.Genre==\"Simulation\"]\n",
    "xfight=vgsales[vgsales.Genre==\"Fighting\"]\n",
    "xstrategy=vgsales[vgsales.Genre==\"Strategy\"]\n",
    "xpuzzle=vgsales[vgsales.Genre==\"Puzzle\"]"
   ]
  },
  {
   "cell_type": "code",
   "execution_count": 19,
   "id": "0fb43b9e",
   "metadata": {},
   "outputs": [
    {
     "data": {
      "application/vnd.plotly.v1+json": {
       "config": {
        "linkText": "Export to plot.ly",
        "plotlyServerURL": "https://plot.ly",
        "showLink": false
       },
       "data": [
        {
         "marker": {
          "color": "rgb(165,10,38)"
         },
         "name": "Action",
         "opacity": 0.75,
         "type": "histogram",
         "x": [
          "PS3",
          "PS2",
          "X360",
          "PS2",
          "PS2",
          "PS4",
          "DS",
          "X360",
          "PS3",
          "PS3",
          "PSP",
          "N64"
         ]
        },
        {
         "marker": {
          "color": "rgb(215,44,39)"
         },
         "name": "Sports",
         "opacity": 0.75,
         "type": "histogram",
         "x": [
          "Wii",
          "Wii",
          "Wii",
          "Wii",
          "PS4",
          "Wii"
         ]
        },
        {
         "marker": {
          "color": "rgb(244,103,67)"
         },
         "name": "Misc",
         "opacity": 0.75,
         "type": "histogram",
         "x": [
          "Wii",
          "X360",
          "DS",
          "Wii",
          "Wii",
          "X360",
          "DS",
          "Wii",
          "Wii"
         ]
        },
        {
         "marker": {
          "color": "rgb(253,186,97)"
         },
         "name": "Role Playing",
         "opacity": 0.75,
         "type": "histogram",
         "x": [
          "GB",
          "GB",
          "DS",
          "GBA",
          "DS",
          "GB",
          "3DS",
          "3DS",
          "GBA",
          "PS",
          "X360",
          "DS",
          "PS2",
          "PS",
          "DS"
         ]
        },
        {
         "marker": {
          "color": "rgb(254,204,144)"
         },
         "name": "Shooter",
         "opacity": 0.75,
         "type": "histogram",
         "x": [
          "NES",
          "X360",
          "X360",
          "PS4",
          "PS3",
          "X360",
          "X360",
          "PS3",
          "PS3",
          "X360",
          "PS3",
          "X360",
          "X360",
          "X360",
          "PS3",
          "X360",
          "XB",
          "N64",
          "PS4",
          "PS4",
          "X360",
          "X360"
         ]
        },
        {
         "marker": {
          "color": "rgb(170,203,87)"
         },
         "name": "Adventure",
         "opacity": 0.75,
         "type": "histogram",
         "x": [
          "GB"
         ]
        },
        {
         "marker": {
          "color": "rgb(171,217,233)"
         },
         "name": "Racing",
         "opacity": 0.75,
         "type": "histogram",
         "x": [
          "Wii",
          "DS",
          "PS2",
          "3DS",
          "PS2",
          "PS",
          "PS3",
          "N64",
          "PS",
          "SNES"
         ]
        },
        {
         "marker": {
          "color": "rgb(116,173,209)"
         },
         "name": "Platform",
         "opacity": 0.75,
         "type": "histogram",
         "x": [
          "NES",
          "DS",
          "Wii",
          "SNES",
          "GB",
          "NES",
          "N64",
          "Wii",
          "3DS",
          "SNES",
          "DS",
          "3DS",
          "SNES",
          "Wii",
          "PS",
          "NES"
         ]
        },
        {
         "marker": {
          "color": "rgb(69,117,180)"
         },
         "name": "Simulation",
         "opacity": 0.75,
         "type": "histogram",
         "x": [
          "DS",
          "DS",
          "3DS",
          "PC"
         ]
        },
        {
         "marker": {
          "color": "rgb(49,54,149)"
         },
         "name": "Fighting",
         "opacity": 0.75,
         "type": "histogram",
         "x": [
          "Wii",
          "3DS"
         ]
        },
        {
         "marker": {
          "color": "rgb(10,77,131)"
         },
         "name": "Strategy",
         "opacity": 0.75,
         "type": "histogram",
         "x": []
        },
        {
         "marker": {
          "color": "rgb(1,15,139)"
         },
         "name": "Puzzle",
         "opacity": 0.75,
         "type": "histogram",
         "x": [
          "GB",
          "DS",
          "2600"
         ]
        }
       ],
       "layout": {
        "barmode": "stack",
        "paper_bgcolor": "white",
        "plot_bgcolor": "white",
        "template": {
         "data": {
          "bar": [
           {
            "error_x": {
             "color": "#2a3f5f"
            },
            "error_y": {
             "color": "#2a3f5f"
            },
            "marker": {
             "line": {
              "color": "#E5ECF6",
              "width": 0.5
             },
             "pattern": {
              "fillmode": "overlay",
              "size": 10,
              "solidity": 0.2
             }
            },
            "type": "bar"
           }
          ],
          "barpolar": [
           {
            "marker": {
             "line": {
              "color": "#E5ECF6",
              "width": 0.5
             },
             "pattern": {
              "fillmode": "overlay",
              "size": 10,
              "solidity": 0.2
             }
            },
            "type": "barpolar"
           }
          ],
          "carpet": [
           {
            "aaxis": {
             "endlinecolor": "#2a3f5f",
             "gridcolor": "white",
             "linecolor": "white",
             "minorgridcolor": "white",
             "startlinecolor": "#2a3f5f"
            },
            "baxis": {
             "endlinecolor": "#2a3f5f",
             "gridcolor": "white",
             "linecolor": "white",
             "minorgridcolor": "white",
             "startlinecolor": "#2a3f5f"
            },
            "type": "carpet"
           }
          ],
          "choropleth": [
           {
            "colorbar": {
             "outlinewidth": 0,
             "ticks": ""
            },
            "type": "choropleth"
           }
          ],
          "contour": [
           {
            "colorbar": {
             "outlinewidth": 0,
             "ticks": ""
            },
            "colorscale": [
             [
              0,
              "#0d0887"
             ],
             [
              0.1111111111111111,
              "#46039f"
             ],
             [
              0.2222222222222222,
              "#7201a8"
             ],
             [
              0.3333333333333333,
              "#9c179e"
             ],
             [
              0.4444444444444444,
              "#bd3786"
             ],
             [
              0.5555555555555556,
              "#d8576b"
             ],
             [
              0.6666666666666666,
              "#ed7953"
             ],
             [
              0.7777777777777778,
              "#fb9f3a"
             ],
             [
              0.8888888888888888,
              "#fdca26"
             ],
             [
              1,
              "#f0f921"
             ]
            ],
            "type": "contour"
           }
          ],
          "contourcarpet": [
           {
            "colorbar": {
             "outlinewidth": 0,
             "ticks": ""
            },
            "type": "contourcarpet"
           }
          ],
          "heatmap": [
           {
            "colorbar": {
             "outlinewidth": 0,
             "ticks": ""
            },
            "colorscale": [
             [
              0,
              "#0d0887"
             ],
             [
              0.1111111111111111,
              "#46039f"
             ],
             [
              0.2222222222222222,
              "#7201a8"
             ],
             [
              0.3333333333333333,
              "#9c179e"
             ],
             [
              0.4444444444444444,
              "#bd3786"
             ],
             [
              0.5555555555555556,
              "#d8576b"
             ],
             [
              0.6666666666666666,
              "#ed7953"
             ],
             [
              0.7777777777777778,
              "#fb9f3a"
             ],
             [
              0.8888888888888888,
              "#fdca26"
             ],
             [
              1,
              "#f0f921"
             ]
            ],
            "type": "heatmap"
           }
          ],
          "heatmapgl": [
           {
            "colorbar": {
             "outlinewidth": 0,
             "ticks": ""
            },
            "colorscale": [
             [
              0,
              "#0d0887"
             ],
             [
              0.1111111111111111,
              "#46039f"
             ],
             [
              0.2222222222222222,
              "#7201a8"
             ],
             [
              0.3333333333333333,
              "#9c179e"
             ],
             [
              0.4444444444444444,
              "#bd3786"
             ],
             [
              0.5555555555555556,
              "#d8576b"
             ],
             [
              0.6666666666666666,
              "#ed7953"
             ],
             [
              0.7777777777777778,
              "#fb9f3a"
             ],
             [
              0.8888888888888888,
              "#fdca26"
             ],
             [
              1,
              "#f0f921"
             ]
            ],
            "type": "heatmapgl"
           }
          ],
          "histogram": [
           {
            "marker": {
             "pattern": {
              "fillmode": "overlay",
              "size": 10,
              "solidity": 0.2
             }
            },
            "type": "histogram"
           }
          ],
          "histogram2d": [
           {
            "colorbar": {
             "outlinewidth": 0,
             "ticks": ""
            },
            "colorscale": [
             [
              0,
              "#0d0887"
             ],
             [
              0.1111111111111111,
              "#46039f"
             ],
             [
              0.2222222222222222,
              "#7201a8"
             ],
             [
              0.3333333333333333,
              "#9c179e"
             ],
             [
              0.4444444444444444,
              "#bd3786"
             ],
             [
              0.5555555555555556,
              "#d8576b"
             ],
             [
              0.6666666666666666,
              "#ed7953"
             ],
             [
              0.7777777777777778,
              "#fb9f3a"
             ],
             [
              0.8888888888888888,
              "#fdca26"
             ],
             [
              1,
              "#f0f921"
             ]
            ],
            "type": "histogram2d"
           }
          ],
          "histogram2dcontour": [
           {
            "colorbar": {
             "outlinewidth": 0,
             "ticks": ""
            },
            "colorscale": [
             [
              0,
              "#0d0887"
             ],
             [
              0.1111111111111111,
              "#46039f"
             ],
             [
              0.2222222222222222,
              "#7201a8"
             ],
             [
              0.3333333333333333,
              "#9c179e"
             ],
             [
              0.4444444444444444,
              "#bd3786"
             ],
             [
              0.5555555555555556,
              "#d8576b"
             ],
             [
              0.6666666666666666,
              "#ed7953"
             ],
             [
              0.7777777777777778,
              "#fb9f3a"
             ],
             [
              0.8888888888888888,
              "#fdca26"
             ],
             [
              1,
              "#f0f921"
             ]
            ],
            "type": "histogram2dcontour"
           }
          ],
          "mesh3d": [
           {
            "colorbar": {
             "outlinewidth": 0,
             "ticks": ""
            },
            "type": "mesh3d"
           }
          ],
          "parcoords": [
           {
            "line": {
             "colorbar": {
              "outlinewidth": 0,
              "ticks": ""
             }
            },
            "type": "parcoords"
           }
          ],
          "pie": [
           {
            "automargin": true,
            "type": "pie"
           }
          ],
          "scatter": [
           {
            "fillpattern": {
             "fillmode": "overlay",
             "size": 10,
             "solidity": 0.2
            },
            "type": "scatter"
           }
          ],
          "scatter3d": [
           {
            "line": {
             "colorbar": {
              "outlinewidth": 0,
              "ticks": ""
             }
            },
            "marker": {
             "colorbar": {
              "outlinewidth": 0,
              "ticks": ""
             }
            },
            "type": "scatter3d"
           }
          ],
          "scattercarpet": [
           {
            "marker": {
             "colorbar": {
              "outlinewidth": 0,
              "ticks": ""
             }
            },
            "type": "scattercarpet"
           }
          ],
          "scattergeo": [
           {
            "marker": {
             "colorbar": {
              "outlinewidth": 0,
              "ticks": ""
             }
            },
            "type": "scattergeo"
           }
          ],
          "scattergl": [
           {
            "marker": {
             "colorbar": {
              "outlinewidth": 0,
              "ticks": ""
             }
            },
            "type": "scattergl"
           }
          ],
          "scattermapbox": [
           {
            "marker": {
             "colorbar": {
              "outlinewidth": 0,
              "ticks": ""
             }
            },
            "type": "scattermapbox"
           }
          ],
          "scatterpolar": [
           {
            "marker": {
             "colorbar": {
              "outlinewidth": 0,
              "ticks": ""
             }
            },
            "type": "scatterpolar"
           }
          ],
          "scatterpolargl": [
           {
            "marker": {
             "colorbar": {
              "outlinewidth": 0,
              "ticks": ""
             }
            },
            "type": "scatterpolargl"
           }
          ],
          "scatterternary": [
           {
            "marker": {
             "colorbar": {
              "outlinewidth": 0,
              "ticks": ""
             }
            },
            "type": "scatterternary"
           }
          ],
          "surface": [
           {
            "colorbar": {
             "outlinewidth": 0,
             "ticks": ""
            },
            "colorscale": [
             [
              0,
              "#0d0887"
             ],
             [
              0.1111111111111111,
              "#46039f"
             ],
             [
              0.2222222222222222,
              "#7201a8"
             ],
             [
              0.3333333333333333,
              "#9c179e"
             ],
             [
              0.4444444444444444,
              "#bd3786"
             ],
             [
              0.5555555555555556,
              "#d8576b"
             ],
             [
              0.6666666666666666,
              "#ed7953"
             ],
             [
              0.7777777777777778,
              "#fb9f3a"
             ],
             [
              0.8888888888888888,
              "#fdca26"
             ],
             [
              1,
              "#f0f921"
             ]
            ],
            "type": "surface"
           }
          ],
          "table": [
           {
            "cells": {
             "fill": {
              "color": "#EBF0F8"
             },
             "line": {
              "color": "white"
             }
            },
            "header": {
             "fill": {
              "color": "#C8D4E3"
             },
             "line": {
              "color": "white"
             }
            },
            "type": "table"
           }
          ]
         },
         "layout": {
          "annotationdefaults": {
           "arrowcolor": "#2a3f5f",
           "arrowhead": 0,
           "arrowwidth": 1
          },
          "autotypenumbers": "strict",
          "coloraxis": {
           "colorbar": {
            "outlinewidth": 0,
            "ticks": ""
           }
          },
          "colorscale": {
           "diverging": [
            [
             0,
             "#8e0152"
            ],
            [
             0.1,
             "#c51b7d"
            ],
            [
             0.2,
             "#de77ae"
            ],
            [
             0.3,
             "#f1b6da"
            ],
            [
             0.4,
             "#fde0ef"
            ],
            [
             0.5,
             "#f7f7f7"
            ],
            [
             0.6,
             "#e6f5d0"
            ],
            [
             0.7,
             "#b8e186"
            ],
            [
             0.8,
             "#7fbc41"
            ],
            [
             0.9,
             "#4d9221"
            ],
            [
             1,
             "#276419"
            ]
           ],
           "sequential": [
            [
             0,
             "#0d0887"
            ],
            [
             0.1111111111111111,
             "#46039f"
            ],
            [
             0.2222222222222222,
             "#7201a8"
            ],
            [
             0.3333333333333333,
             "#9c179e"
            ],
            [
             0.4444444444444444,
             "#bd3786"
            ],
            [
             0.5555555555555556,
             "#d8576b"
            ],
            [
             0.6666666666666666,
             "#ed7953"
            ],
            [
             0.7777777777777778,
             "#fb9f3a"
            ],
            [
             0.8888888888888888,
             "#fdca26"
            ],
            [
             1,
             "#f0f921"
            ]
           ],
           "sequentialminus": [
            [
             0,
             "#0d0887"
            ],
            [
             0.1111111111111111,
             "#46039f"
            ],
            [
             0.2222222222222222,
             "#7201a8"
            ],
            [
             0.3333333333333333,
             "#9c179e"
            ],
            [
             0.4444444444444444,
             "#bd3786"
            ],
            [
             0.5555555555555556,
             "#d8576b"
            ],
            [
             0.6666666666666666,
             "#ed7953"
            ],
            [
             0.7777777777777778,
             "#fb9f3a"
            ],
            [
             0.8888888888888888,
             "#fdca26"
            ],
            [
             1,
             "#f0f921"
            ]
           ]
          },
          "colorway": [
           "#636efa",
           "#EF553B",
           "#00cc96",
           "#ab63fa",
           "#FFA15A",
           "#19d3f3",
           "#FF6692",
           "#B6E880",
           "#FF97FF",
           "#FECB52"
          ],
          "font": {
           "color": "#2a3f5f"
          },
          "geo": {
           "bgcolor": "white",
           "lakecolor": "white",
           "landcolor": "#E5ECF6",
           "showlakes": true,
           "showland": true,
           "subunitcolor": "white"
          },
          "hoverlabel": {
           "align": "left"
          },
          "hovermode": "closest",
          "mapbox": {
           "style": "light"
          },
          "paper_bgcolor": "white",
          "plot_bgcolor": "#E5ECF6",
          "polar": {
           "angularaxis": {
            "gridcolor": "white",
            "linecolor": "white",
            "ticks": ""
           },
           "bgcolor": "#E5ECF6",
           "radialaxis": {
            "gridcolor": "white",
            "linecolor": "white",
            "ticks": ""
           }
          },
          "scene": {
           "xaxis": {
            "backgroundcolor": "#E5ECF6",
            "gridcolor": "white",
            "gridwidth": 2,
            "linecolor": "white",
            "showbackground": true,
            "ticks": "",
            "zerolinecolor": "white"
           },
           "yaxis": {
            "backgroundcolor": "#E5ECF6",
            "gridcolor": "white",
            "gridwidth": 2,
            "linecolor": "white",
            "showbackground": true,
            "ticks": "",
            "zerolinecolor": "white"
           },
           "zaxis": {
            "backgroundcolor": "#E5ECF6",
            "gridcolor": "white",
            "gridwidth": 2,
            "linecolor": "white",
            "showbackground": true,
            "ticks": "",
            "zerolinecolor": "white"
           }
          },
          "shapedefaults": {
           "line": {
            "color": "#2a3f5f"
           }
          },
          "ternary": {
           "aaxis": {
            "gridcolor": "white",
            "linecolor": "white",
            "ticks": ""
           },
           "baxis": {
            "gridcolor": "white",
            "linecolor": "white",
            "ticks": ""
           },
           "bgcolor": "#E5ECF6",
           "caxis": {
            "gridcolor": "white",
            "linecolor": "white",
            "ticks": ""
           }
          },
          "title": {
           "x": 0.05
          },
          "xaxis": {
           "automargin": true,
           "gridcolor": "white",
           "linecolor": "white",
           "ticks": "",
           "title": {
            "standoff": 15
           },
           "zerolinecolor": "white",
           "zerolinewidth": 2
          },
          "yaxis": {
           "automargin": true,
           "gridcolor": "white",
           "linecolor": "white",
           "ticks": "",
           "title": {
            "standoff": 15
           },
           "zerolinecolor": "white",
           "zerolinewidth": 2
          }
         }
        },
        "title": {
         "text": "Genre Counts According to Platform"
        },
        "xaxis": {
         "title": {
          "text": "Platform"
         }
        },
        "yaxis": {
         "title": {
          "text": "Count"
         }
        }
       }
      },
      "text/html": [
       "<div>                            <div id=\"b46ad96a-3cb5-4183-a083-c0be703127cd\" class=\"plotly-graph-div\" style=\"height:525px; width:100%;\"></div>            <script type=\"text/javascript\">                require([\"plotly\"], function(Plotly) {                    window.PLOTLYENV=window.PLOTLYENV || {};                                    if (document.getElementById(\"b46ad96a-3cb5-4183-a083-c0be703127cd\")) {                    Plotly.newPlot(                        \"b46ad96a-3cb5-4183-a083-c0be703127cd\",                        [{\"marker\":{\"color\":\"rgb(165,10,38)\"},\"name\":\"Action\",\"opacity\":0.75,\"x\":[\"PS3\",\"PS2\",\"X360\",\"PS2\",\"PS2\",\"PS4\",\"DS\",\"X360\",\"PS3\",\"PS3\",\"PSP\",\"N64\"],\"type\":\"histogram\"},{\"marker\":{\"color\":\"rgb(215,44,39)\"},\"name\":\"Sports\",\"opacity\":0.75,\"x\":[\"Wii\",\"Wii\",\"Wii\",\"Wii\",\"PS4\",\"Wii\"],\"type\":\"histogram\"},{\"marker\":{\"color\":\"rgb(244,103,67)\"},\"name\":\"Misc\",\"opacity\":0.75,\"x\":[\"Wii\",\"X360\",\"DS\",\"Wii\",\"Wii\",\"X360\",\"DS\",\"Wii\",\"Wii\"],\"type\":\"histogram\"},{\"marker\":{\"color\":\"rgb(253,186,97)\"},\"name\":\"Role Playing\",\"opacity\":0.75,\"x\":[\"GB\",\"GB\",\"DS\",\"GBA\",\"DS\",\"GB\",\"3DS\",\"3DS\",\"GBA\",\"PS\",\"X360\",\"DS\",\"PS2\",\"PS\",\"DS\"],\"type\":\"histogram\"},{\"marker\":{\"color\":\"rgb(254,204,144)\"},\"name\":\"Shooter\",\"opacity\":0.75,\"x\":[\"NES\",\"X360\",\"X360\",\"PS4\",\"PS3\",\"X360\",\"X360\",\"PS3\",\"PS3\",\"X360\",\"PS3\",\"X360\",\"X360\",\"X360\",\"PS3\",\"X360\",\"XB\",\"N64\",\"PS4\",\"PS4\",\"X360\",\"X360\"],\"type\":\"histogram\"},{\"marker\":{\"color\":\"rgb(170,203,87)\"},\"name\":\"Adventure\",\"opacity\":0.75,\"x\":[\"GB\"],\"type\":\"histogram\"},{\"marker\":{\"color\":\"rgb(171,217,233)\"},\"name\":\"Racing\",\"opacity\":0.75,\"x\":[\"Wii\",\"DS\",\"PS2\",\"3DS\",\"PS2\",\"PS\",\"PS3\",\"N64\",\"PS\",\"SNES\"],\"type\":\"histogram\"},{\"marker\":{\"color\":\"rgb(116,173,209)\"},\"name\":\"Platform\",\"opacity\":0.75,\"x\":[\"NES\",\"DS\",\"Wii\",\"SNES\",\"GB\",\"NES\",\"N64\",\"Wii\",\"3DS\",\"SNES\",\"DS\",\"3DS\",\"SNES\",\"Wii\",\"PS\",\"NES\"],\"type\":\"histogram\"},{\"marker\":{\"color\":\"rgb(69,117,180)\"},\"name\":\"Simulation\",\"opacity\":0.75,\"x\":[\"DS\",\"DS\",\"3DS\",\"PC\"],\"type\":\"histogram\"},{\"marker\":{\"color\":\"rgb(49,54,149)\"},\"name\":\"Fighting\",\"opacity\":0.75,\"x\":[\"Wii\",\"3DS\"],\"type\":\"histogram\"},{\"marker\":{\"color\":\"rgb(10,77,131)\"},\"name\":\"Strategy\",\"opacity\":0.75,\"x\":[],\"type\":\"histogram\"},{\"marker\":{\"color\":\"rgb(1,15,139)\"},\"name\":\"Puzzle\",\"opacity\":0.75,\"x\":[\"GB\",\"DS\",\"2600\"],\"type\":\"histogram\"}],                        {\"barmode\":\"stack\",\"paper_bgcolor\":\"white\",\"plot_bgcolor\":\"white\",\"template\":{\"data\":{\"barpolar\":[{\"marker\":{\"line\":{\"color\":\"#E5ECF6\",\"width\":0.5},\"pattern\":{\"fillmode\":\"overlay\",\"size\":10,\"solidity\":0.2}},\"type\":\"barpolar\"}],\"bar\":[{\"error_x\":{\"color\":\"#2a3f5f\"},\"error_y\":{\"color\":\"#2a3f5f\"},\"marker\":{\"line\":{\"color\":\"#E5ECF6\",\"width\":0.5},\"pattern\":{\"fillmode\":\"overlay\",\"size\":10,\"solidity\":0.2}},\"type\":\"bar\"}],\"carpet\":[{\"aaxis\":{\"endlinecolor\":\"#2a3f5f\",\"gridcolor\":\"white\",\"linecolor\":\"white\",\"minorgridcolor\":\"white\",\"startlinecolor\":\"#2a3f5f\"},\"baxis\":{\"endlinecolor\":\"#2a3f5f\",\"gridcolor\":\"white\",\"linecolor\":\"white\",\"minorgridcolor\":\"white\",\"startlinecolor\":\"#2a3f5f\"},\"type\":\"carpet\"}],\"choropleth\":[{\"colorbar\":{\"outlinewidth\":0,\"ticks\":\"\"},\"type\":\"choropleth\"}],\"contourcarpet\":[{\"colorbar\":{\"outlinewidth\":0,\"ticks\":\"\"},\"type\":\"contourcarpet\"}],\"contour\":[{\"colorbar\":{\"outlinewidth\":0,\"ticks\":\"\"},\"colorscale\":[[0.0,\"#0d0887\"],[0.1111111111111111,\"#46039f\"],[0.2222222222222222,\"#7201a8\"],[0.3333333333333333,\"#9c179e\"],[0.4444444444444444,\"#bd3786\"],[0.5555555555555556,\"#d8576b\"],[0.6666666666666666,\"#ed7953\"],[0.7777777777777778,\"#fb9f3a\"],[0.8888888888888888,\"#fdca26\"],[1.0,\"#f0f921\"]],\"type\":\"contour\"}],\"heatmapgl\":[{\"colorbar\":{\"outlinewidth\":0,\"ticks\":\"\"},\"colorscale\":[[0.0,\"#0d0887\"],[0.1111111111111111,\"#46039f\"],[0.2222222222222222,\"#7201a8\"],[0.3333333333333333,\"#9c179e\"],[0.4444444444444444,\"#bd3786\"],[0.5555555555555556,\"#d8576b\"],[0.6666666666666666,\"#ed7953\"],[0.7777777777777778,\"#fb9f3a\"],[0.8888888888888888,\"#fdca26\"],[1.0,\"#f0f921\"]],\"type\":\"heatmapgl\"}],\"heatmap\":[{\"colorbar\":{\"outlinewidth\":0,\"ticks\":\"\"},\"colorscale\":[[0.0,\"#0d0887\"],[0.1111111111111111,\"#46039f\"],[0.2222222222222222,\"#7201a8\"],[0.3333333333333333,\"#9c179e\"],[0.4444444444444444,\"#bd3786\"],[0.5555555555555556,\"#d8576b\"],[0.6666666666666666,\"#ed7953\"],[0.7777777777777778,\"#fb9f3a\"],[0.8888888888888888,\"#fdca26\"],[1.0,\"#f0f921\"]],\"type\":\"heatmap\"}],\"histogram2dcontour\":[{\"colorbar\":{\"outlinewidth\":0,\"ticks\":\"\"},\"colorscale\":[[0.0,\"#0d0887\"],[0.1111111111111111,\"#46039f\"],[0.2222222222222222,\"#7201a8\"],[0.3333333333333333,\"#9c179e\"],[0.4444444444444444,\"#bd3786\"],[0.5555555555555556,\"#d8576b\"],[0.6666666666666666,\"#ed7953\"],[0.7777777777777778,\"#fb9f3a\"],[0.8888888888888888,\"#fdca26\"],[1.0,\"#f0f921\"]],\"type\":\"histogram2dcontour\"}],\"histogram2d\":[{\"colorbar\":{\"outlinewidth\":0,\"ticks\":\"\"},\"colorscale\":[[0.0,\"#0d0887\"],[0.1111111111111111,\"#46039f\"],[0.2222222222222222,\"#7201a8\"],[0.3333333333333333,\"#9c179e\"],[0.4444444444444444,\"#bd3786\"],[0.5555555555555556,\"#d8576b\"],[0.6666666666666666,\"#ed7953\"],[0.7777777777777778,\"#fb9f3a\"],[0.8888888888888888,\"#fdca26\"],[1.0,\"#f0f921\"]],\"type\":\"histogram2d\"}],\"histogram\":[{\"marker\":{\"pattern\":{\"fillmode\":\"overlay\",\"size\":10,\"solidity\":0.2}},\"type\":\"histogram\"}],\"mesh3d\":[{\"colorbar\":{\"outlinewidth\":0,\"ticks\":\"\"},\"type\":\"mesh3d\"}],\"parcoords\":[{\"line\":{\"colorbar\":{\"outlinewidth\":0,\"ticks\":\"\"}},\"type\":\"parcoords\"}],\"pie\":[{\"automargin\":true,\"type\":\"pie\"}],\"scatter3d\":[{\"line\":{\"colorbar\":{\"outlinewidth\":0,\"ticks\":\"\"}},\"marker\":{\"colorbar\":{\"outlinewidth\":0,\"ticks\":\"\"}},\"type\":\"scatter3d\"}],\"scattercarpet\":[{\"marker\":{\"colorbar\":{\"outlinewidth\":0,\"ticks\":\"\"}},\"type\":\"scattercarpet\"}],\"scattergeo\":[{\"marker\":{\"colorbar\":{\"outlinewidth\":0,\"ticks\":\"\"}},\"type\":\"scattergeo\"}],\"scattergl\":[{\"marker\":{\"colorbar\":{\"outlinewidth\":0,\"ticks\":\"\"}},\"type\":\"scattergl\"}],\"scattermapbox\":[{\"marker\":{\"colorbar\":{\"outlinewidth\":0,\"ticks\":\"\"}},\"type\":\"scattermapbox\"}],\"scatterpolargl\":[{\"marker\":{\"colorbar\":{\"outlinewidth\":0,\"ticks\":\"\"}},\"type\":\"scatterpolargl\"}],\"scatterpolar\":[{\"marker\":{\"colorbar\":{\"outlinewidth\":0,\"ticks\":\"\"}},\"type\":\"scatterpolar\"}],\"scatter\":[{\"fillpattern\":{\"fillmode\":\"overlay\",\"size\":10,\"solidity\":0.2},\"type\":\"scatter\"}],\"scatterternary\":[{\"marker\":{\"colorbar\":{\"outlinewidth\":0,\"ticks\":\"\"}},\"type\":\"scatterternary\"}],\"surface\":[{\"colorbar\":{\"outlinewidth\":0,\"ticks\":\"\"},\"colorscale\":[[0.0,\"#0d0887\"],[0.1111111111111111,\"#46039f\"],[0.2222222222222222,\"#7201a8\"],[0.3333333333333333,\"#9c179e\"],[0.4444444444444444,\"#bd3786\"],[0.5555555555555556,\"#d8576b\"],[0.6666666666666666,\"#ed7953\"],[0.7777777777777778,\"#fb9f3a\"],[0.8888888888888888,\"#fdca26\"],[1.0,\"#f0f921\"]],\"type\":\"surface\"}],\"table\":[{\"cells\":{\"fill\":{\"color\":\"#EBF0F8\"},\"line\":{\"color\":\"white\"}},\"header\":{\"fill\":{\"color\":\"#C8D4E3\"},\"line\":{\"color\":\"white\"}},\"type\":\"table\"}]},\"layout\":{\"annotationdefaults\":{\"arrowcolor\":\"#2a3f5f\",\"arrowhead\":0,\"arrowwidth\":1},\"autotypenumbers\":\"strict\",\"coloraxis\":{\"colorbar\":{\"outlinewidth\":0,\"ticks\":\"\"}},\"colorscale\":{\"diverging\":[[0,\"#8e0152\"],[0.1,\"#c51b7d\"],[0.2,\"#de77ae\"],[0.3,\"#f1b6da\"],[0.4,\"#fde0ef\"],[0.5,\"#f7f7f7\"],[0.6,\"#e6f5d0\"],[0.7,\"#b8e186\"],[0.8,\"#7fbc41\"],[0.9,\"#4d9221\"],[1,\"#276419\"]],\"sequential\":[[0.0,\"#0d0887\"],[0.1111111111111111,\"#46039f\"],[0.2222222222222222,\"#7201a8\"],[0.3333333333333333,\"#9c179e\"],[0.4444444444444444,\"#bd3786\"],[0.5555555555555556,\"#d8576b\"],[0.6666666666666666,\"#ed7953\"],[0.7777777777777778,\"#fb9f3a\"],[0.8888888888888888,\"#fdca26\"],[1.0,\"#f0f921\"]],\"sequentialminus\":[[0.0,\"#0d0887\"],[0.1111111111111111,\"#46039f\"],[0.2222222222222222,\"#7201a8\"],[0.3333333333333333,\"#9c179e\"],[0.4444444444444444,\"#bd3786\"],[0.5555555555555556,\"#d8576b\"],[0.6666666666666666,\"#ed7953\"],[0.7777777777777778,\"#fb9f3a\"],[0.8888888888888888,\"#fdca26\"],[1.0,\"#f0f921\"]]},\"colorway\":[\"#636efa\",\"#EF553B\",\"#00cc96\",\"#ab63fa\",\"#FFA15A\",\"#19d3f3\",\"#FF6692\",\"#B6E880\",\"#FF97FF\",\"#FECB52\"],\"font\":{\"color\":\"#2a3f5f\"},\"geo\":{\"bgcolor\":\"white\",\"lakecolor\":\"white\",\"landcolor\":\"#E5ECF6\",\"showlakes\":true,\"showland\":true,\"subunitcolor\":\"white\"},\"hoverlabel\":{\"align\":\"left\"},\"hovermode\":\"closest\",\"mapbox\":{\"style\":\"light\"},\"paper_bgcolor\":\"white\",\"plot_bgcolor\":\"#E5ECF6\",\"polar\":{\"angularaxis\":{\"gridcolor\":\"white\",\"linecolor\":\"white\",\"ticks\":\"\"},\"bgcolor\":\"#E5ECF6\",\"radialaxis\":{\"gridcolor\":\"white\",\"linecolor\":\"white\",\"ticks\":\"\"}},\"scene\":{\"xaxis\":{\"backgroundcolor\":\"#E5ECF6\",\"gridcolor\":\"white\",\"gridwidth\":2,\"linecolor\":\"white\",\"showbackground\":true,\"ticks\":\"\",\"zerolinecolor\":\"white\"},\"yaxis\":{\"backgroundcolor\":\"#E5ECF6\",\"gridcolor\":\"white\",\"gridwidth\":2,\"linecolor\":\"white\",\"showbackground\":true,\"ticks\":\"\",\"zerolinecolor\":\"white\"},\"zaxis\":{\"backgroundcolor\":\"#E5ECF6\",\"gridcolor\":\"white\",\"gridwidth\":2,\"linecolor\":\"white\",\"showbackground\":true,\"ticks\":\"\",\"zerolinecolor\":\"white\"}},\"shapedefaults\":{\"line\":{\"color\":\"#2a3f5f\"}},\"ternary\":{\"aaxis\":{\"gridcolor\":\"white\",\"linecolor\":\"white\",\"ticks\":\"\"},\"baxis\":{\"gridcolor\":\"white\",\"linecolor\":\"white\",\"ticks\":\"\"},\"bgcolor\":\"#E5ECF6\",\"caxis\":{\"gridcolor\":\"white\",\"linecolor\":\"white\",\"ticks\":\"\"}},\"title\":{\"x\":0.05},\"xaxis\":{\"automargin\":true,\"gridcolor\":\"white\",\"linecolor\":\"white\",\"ticks\":\"\",\"title\":{\"standoff\":15},\"zerolinecolor\":\"white\",\"zerolinewidth\":2},\"yaxis\":{\"automargin\":true,\"gridcolor\":\"white\",\"linecolor\":\"white\",\"ticks\":\"\",\"title\":{\"standoff\":15},\"zerolinecolor\":\"white\",\"zerolinewidth\":2}}},\"title\":{\"text\":\"Genre Counts According to Platform\"},\"xaxis\":{\"title\":{\"text\":\"Platform\"}},\"yaxis\":{\"title\":{\"text\":\"Count\"}}},                        {\"responsive\": true}                    ).then(function(){\n",
       "                            \n",
       "var gd = document.getElementById('b46ad96a-3cb5-4183-a083-c0be703127cd');\n",
       "var x = new MutationObserver(function (mutations, observer) {{\n",
       "        var display = window.getComputedStyle(gd).display;\n",
       "        if (!display || display === 'none') {{\n",
       "            console.log([gd, 'removed!']);\n",
       "            Plotly.purge(gd);\n",
       "            observer.disconnect();\n",
       "        }}\n",
       "}});\n",
       "\n",
       "// Listen for the removal of the full notebook cells\n",
       "var notebookContainer = gd.closest('#notebook-container');\n",
       "if (notebookContainer) {{\n",
       "    x.observe(notebookContainer, {childList: true});\n",
       "}}\n",
       "\n",
       "// Listen for the clearing of the current output cell\n",
       "var outputEl = gd.closest('.output');\n",
       "if (outputEl) {{\n",
       "    x.observe(outputEl, {childList: true});\n",
       "}}\n",
       "\n",
       "                        })                };                });            </script>        </div>"
      ]
     },
     "metadata": {},
     "output_type": "display_data"
    }
   ],
   "source": [
    "trace1 = go.Histogram(\n",
    "    x=xaction.Platform,\n",
    "    opacity=0.75,\n",
    "    name = \"Action\",\n",
    "    marker=dict(color='rgb(165,10,38)'))\n",
    "trace2 = go.Histogram(\n",
    "    x=xsports.Platform,\n",
    "    opacity=0.75,\n",
    "    name = \"Sports\",\n",
    "    marker=dict(color='rgb(215,44,39)'))\n",
    "trace3 = go.Histogram(\n",
    "    x=xmisc.Platform,\n",
    "    opacity=0.75,\n",
    "    name = \"Misc\",\n",
    "    marker=dict(color='rgb(244,103,67)'))\n",
    "trace4 = go.Histogram(\n",
    "    x=xrole.Platform,\n",
    "    opacity=0.75,\n",
    "    name = \"Role Playing\",\n",
    "    marker=dict(color='rgb(253,186,97)'))\n",
    "trace5 = go.Histogram(\n",
    "    x=xshooter.Platform,\n",
    "    opacity=0.75,\n",
    "    name = \"Shooter\",\n",
    "    marker=dict(color='rgb(254,204,144)'))\n",
    "trace6 = go.Histogram(\n",
    "    x=xadventure.Platform,\n",
    "    opacity=0.75,\n",
    "    name = \"Adventure\",\n",
    "    marker=dict(color='rgb(170,203,87)'))\n",
    "trace7 = go.Histogram(\n",
    "    x=xrace.Platform,\n",
    "    opacity=0.75,\n",
    "    name = \"Racing\",\n",
    "    marker=dict(color='rgb(171,217,233)'))\n",
    "trace8 = go.Histogram(\n",
    "    x=xplatform.Platform,\n",
    "    opacity=0.75,\n",
    "    name = \"Platform\",\n",
    "    marker=dict(color='rgb(116,173,209)'))\n",
    "trace9 = go.Histogram(\n",
    "    x=xsimulation.Platform,\n",
    "    opacity=0.75,\n",
    "    name = \"Simulation\",\n",
    "    marker=dict(color='rgb(69,117,180)'))\n",
    "trace10 = go.Histogram(\n",
    "    x=xfight.Platform,\n",
    "    opacity=0.75,\n",
    "    name = \"Fighting\",\n",
    "    marker=dict(color='rgb(49,54,149)'))\n",
    "trace11 = go.Histogram(\n",
    "    x=xstrategy.Platform,\n",
    "    opacity=0.75,\n",
    "    name = \"Strategy\",\n",
    "    marker=dict(color=\"rgb(10,77,131)\"))\n",
    "trace12 = go.Histogram(\n",
    "    x=xpuzzle.Platform,\n",
    "    opacity=0.75,\n",
    "    name = \"Puzzle\",\n",
    "    marker=dict(color='rgb(1,15,139)'))\n",
    "\n",
    "data = [trace1, trace2,trace3,trace4,trace5,trace6,trace7,trace8,trace9,trace10,trace11,trace12]\n",
    "layout = go.Layout(barmode='stack',\n",
    "                   title='Genre Counts According to Platform',\n",
    "                   xaxis=dict(title='Platform'),\n",
    "                   yaxis=dict( title='Count'),\n",
    "                   paper_bgcolor='white',\n",
    "                   plot_bgcolor='white'\n",
    ")\n",
    "fig = go.Figure(data=data, layout=layout)\n",
    "iplot(fig)"
   ]
  },
  {
   "cell_type": "markdown",
   "id": "57d61b6a",
   "metadata": {},
   "source": [
    "# CHAPTER 11"
   ]
  },
  {
   "cell_type": "code",
   "execution_count": 20,
   "id": "091f7e60",
   "metadata": {},
   "outputs": [
    {
     "data": {
      "application/vnd.plotly.v1+json": {
       "config": {
        "plotlyServerURL": "https://plot.ly"
       },
       "data": [
        {
         "branchvalues": "total",
         "domain": {
          "x": [
           0,
           1
          ],
          "y": [
           0,
           1
          ]
         },
         "hovertemplate": "labels=%{label}<br>NA_Sales=%{value}<br>parent=%{parent}<br>id=%{id}<extra></extra>",
         "ids": [
          "Puzzle/Nintendo/GB",
          "Platform/Nintendo/NES",
          "Shooter/Nintendo/NES",
          "Platform/Nintendo/SNES",
          "Misc/Nintendo/Wii",
          "Platform/Nintendo/Wii",
          "Racing/Nintendo/Wii",
          "Sports/Nintendo/Wii",
          "Misc/Microsoft Game Studios/X360",
          "Misc/Microsoft Game Studios",
          "Misc/Nintendo",
          "Platform/Nintendo",
          "Puzzle/Nintendo",
          "Racing/Nintendo",
          "Shooter/Nintendo",
          "Sports/Nintendo",
          "Misc",
          "Platform",
          "Puzzle",
          "Racing",
          "Shooter",
          "Sports"
         ],
         "labels": [
          "GB",
          "NES",
          "NES",
          "SNES",
          "Wii",
          "Wii",
          "Wii",
          "Wii",
          "X360",
          "Microsoft Game Studios",
          "Nintendo",
          "Nintendo",
          "Nintendo",
          "Nintendo",
          "Nintendo",
          "Nintendo",
          "Misc",
          "Platform",
          "Puzzle",
          "Racing",
          "Shooter",
          "Sports"
         ],
         "name": "",
         "parents": [
          "Puzzle/Nintendo",
          "Platform/Nintendo",
          "Shooter/Nintendo",
          "Platform/Nintendo",
          "Misc/Nintendo",
          "Platform/Nintendo",
          "Racing/Nintendo",
          "Sports/Nintendo",
          "Misc/Microsoft Game Studios",
          "Misc",
          "Misc",
          "Platform",
          "Puzzle",
          "Racing",
          "Shooter",
          "Sports",
          "",
          "",
          "",
          "",
          "",
          ""
         ],
         "type": "sunburst",
         "values": [
          23.2,
          29.08,
          26.93,
          12.78,
          14.03,
          14.59,
          15.85,
          57.24,
          14.97,
          14.97,
          14.03,
          56.449999999999996,
          23.2,
          15.85,
          26.93,
          57.24,
          29,
          56.449999999999996,
          23.2,
          15.85,
          26.93,
          57.24
         ]
        }
       ],
       "layout": {
        "grid": {
         "columns": 2,
         "rows": 2
        },
        "legend": {
         "tracegroupgap": 0
        },
        "margin": {
         "b": 5,
         "l": 2,
         "r": 2,
         "t": 40
        },
        "template": {
         "data": {
          "bar": [
           {
            "error_x": {
             "color": "#2a3f5f"
            },
            "error_y": {
             "color": "#2a3f5f"
            },
            "marker": {
             "line": {
              "color": "#E5ECF6",
              "width": 0.5
             },
             "pattern": {
              "fillmode": "overlay",
              "size": 10,
              "solidity": 0.2
             }
            },
            "type": "bar"
           }
          ],
          "barpolar": [
           {
            "marker": {
             "line": {
              "color": "#E5ECF6",
              "width": 0.5
             },
             "pattern": {
              "fillmode": "overlay",
              "size": 10,
              "solidity": 0.2
             }
            },
            "type": "barpolar"
           }
          ],
          "carpet": [
           {
            "aaxis": {
             "endlinecolor": "#2a3f5f",
             "gridcolor": "white",
             "linecolor": "white",
             "minorgridcolor": "white",
             "startlinecolor": "#2a3f5f"
            },
            "baxis": {
             "endlinecolor": "#2a3f5f",
             "gridcolor": "white",
             "linecolor": "white",
             "minorgridcolor": "white",
             "startlinecolor": "#2a3f5f"
            },
            "type": "carpet"
           }
          ],
          "choropleth": [
           {
            "colorbar": {
             "outlinewidth": 0,
             "ticks": ""
            },
            "type": "choropleth"
           }
          ],
          "contour": [
           {
            "colorbar": {
             "outlinewidth": 0,
             "ticks": ""
            },
            "colorscale": [
             [
              0,
              "#0d0887"
             ],
             [
              0.1111111111111111,
              "#46039f"
             ],
             [
              0.2222222222222222,
              "#7201a8"
             ],
             [
              0.3333333333333333,
              "#9c179e"
             ],
             [
              0.4444444444444444,
              "#bd3786"
             ],
             [
              0.5555555555555556,
              "#d8576b"
             ],
             [
              0.6666666666666666,
              "#ed7953"
             ],
             [
              0.7777777777777778,
              "#fb9f3a"
             ],
             [
              0.8888888888888888,
              "#fdca26"
             ],
             [
              1,
              "#f0f921"
             ]
            ],
            "type": "contour"
           }
          ],
          "contourcarpet": [
           {
            "colorbar": {
             "outlinewidth": 0,
             "ticks": ""
            },
            "type": "contourcarpet"
           }
          ],
          "heatmap": [
           {
            "colorbar": {
             "outlinewidth": 0,
             "ticks": ""
            },
            "colorscale": [
             [
              0,
              "#0d0887"
             ],
             [
              0.1111111111111111,
              "#46039f"
             ],
             [
              0.2222222222222222,
              "#7201a8"
             ],
             [
              0.3333333333333333,
              "#9c179e"
             ],
             [
              0.4444444444444444,
              "#bd3786"
             ],
             [
              0.5555555555555556,
              "#d8576b"
             ],
             [
              0.6666666666666666,
              "#ed7953"
             ],
             [
              0.7777777777777778,
              "#fb9f3a"
             ],
             [
              0.8888888888888888,
              "#fdca26"
             ],
             [
              1,
              "#f0f921"
             ]
            ],
            "type": "heatmap"
           }
          ],
          "heatmapgl": [
           {
            "colorbar": {
             "outlinewidth": 0,
             "ticks": ""
            },
            "colorscale": [
             [
              0,
              "#0d0887"
             ],
             [
              0.1111111111111111,
              "#46039f"
             ],
             [
              0.2222222222222222,
              "#7201a8"
             ],
             [
              0.3333333333333333,
              "#9c179e"
             ],
             [
              0.4444444444444444,
              "#bd3786"
             ],
             [
              0.5555555555555556,
              "#d8576b"
             ],
             [
              0.6666666666666666,
              "#ed7953"
             ],
             [
              0.7777777777777778,
              "#fb9f3a"
             ],
             [
              0.8888888888888888,
              "#fdca26"
             ],
             [
              1,
              "#f0f921"
             ]
            ],
            "type": "heatmapgl"
           }
          ],
          "histogram": [
           {
            "marker": {
             "pattern": {
              "fillmode": "overlay",
              "size": 10,
              "solidity": 0.2
             }
            },
            "type": "histogram"
           }
          ],
          "histogram2d": [
           {
            "colorbar": {
             "outlinewidth": 0,
             "ticks": ""
            },
            "colorscale": [
             [
              0,
              "#0d0887"
             ],
             [
              0.1111111111111111,
              "#46039f"
             ],
             [
              0.2222222222222222,
              "#7201a8"
             ],
             [
              0.3333333333333333,
              "#9c179e"
             ],
             [
              0.4444444444444444,
              "#bd3786"
             ],
             [
              0.5555555555555556,
              "#d8576b"
             ],
             [
              0.6666666666666666,
              "#ed7953"
             ],
             [
              0.7777777777777778,
              "#fb9f3a"
             ],
             [
              0.8888888888888888,
              "#fdca26"
             ],
             [
              1,
              "#f0f921"
             ]
            ],
            "type": "histogram2d"
           }
          ],
          "histogram2dcontour": [
           {
            "colorbar": {
             "outlinewidth": 0,
             "ticks": ""
            },
            "colorscale": [
             [
              0,
              "#0d0887"
             ],
             [
              0.1111111111111111,
              "#46039f"
             ],
             [
              0.2222222222222222,
              "#7201a8"
             ],
             [
              0.3333333333333333,
              "#9c179e"
             ],
             [
              0.4444444444444444,
              "#bd3786"
             ],
             [
              0.5555555555555556,
              "#d8576b"
             ],
             [
              0.6666666666666666,
              "#ed7953"
             ],
             [
              0.7777777777777778,
              "#fb9f3a"
             ],
             [
              0.8888888888888888,
              "#fdca26"
             ],
             [
              1,
              "#f0f921"
             ]
            ],
            "type": "histogram2dcontour"
           }
          ],
          "mesh3d": [
           {
            "colorbar": {
             "outlinewidth": 0,
             "ticks": ""
            },
            "type": "mesh3d"
           }
          ],
          "parcoords": [
           {
            "line": {
             "colorbar": {
              "outlinewidth": 0,
              "ticks": ""
             }
            },
            "type": "parcoords"
           }
          ],
          "pie": [
           {
            "automargin": true,
            "type": "pie"
           }
          ],
          "scatter": [
           {
            "fillpattern": {
             "fillmode": "overlay",
             "size": 10,
             "solidity": 0.2
            },
            "type": "scatter"
           }
          ],
          "scatter3d": [
           {
            "line": {
             "colorbar": {
              "outlinewidth": 0,
              "ticks": ""
             }
            },
            "marker": {
             "colorbar": {
              "outlinewidth": 0,
              "ticks": ""
             }
            },
            "type": "scatter3d"
           }
          ],
          "scattercarpet": [
           {
            "marker": {
             "colorbar": {
              "outlinewidth": 0,
              "ticks": ""
             }
            },
            "type": "scattercarpet"
           }
          ],
          "scattergeo": [
           {
            "marker": {
             "colorbar": {
              "outlinewidth": 0,
              "ticks": ""
             }
            },
            "type": "scattergeo"
           }
          ],
          "scattergl": [
           {
            "marker": {
             "colorbar": {
              "outlinewidth": 0,
              "ticks": ""
             }
            },
            "type": "scattergl"
           }
          ],
          "scattermapbox": [
           {
            "marker": {
             "colorbar": {
              "outlinewidth": 0,
              "ticks": ""
             }
            },
            "type": "scattermapbox"
           }
          ],
          "scatterpolar": [
           {
            "marker": {
             "colorbar": {
              "outlinewidth": 0,
              "ticks": ""
             }
            },
            "type": "scatterpolar"
           }
          ],
          "scatterpolargl": [
           {
            "marker": {
             "colorbar": {
              "outlinewidth": 0,
              "ticks": ""
             }
            },
            "type": "scatterpolargl"
           }
          ],
          "scatterternary": [
           {
            "marker": {
             "colorbar": {
              "outlinewidth": 0,
              "ticks": ""
             }
            },
            "type": "scatterternary"
           }
          ],
          "surface": [
           {
            "colorbar": {
             "outlinewidth": 0,
             "ticks": ""
            },
            "colorscale": [
             [
              0,
              "#0d0887"
             ],
             [
              0.1111111111111111,
              "#46039f"
             ],
             [
              0.2222222222222222,
              "#7201a8"
             ],
             [
              0.3333333333333333,
              "#9c179e"
             ],
             [
              0.4444444444444444,
              "#bd3786"
             ],
             [
              0.5555555555555556,
              "#d8576b"
             ],
             [
              0.6666666666666666,
              "#ed7953"
             ],
             [
              0.7777777777777778,
              "#fb9f3a"
             ],
             [
              0.8888888888888888,
              "#fdca26"
             ],
             [
              1,
              "#f0f921"
             ]
            ],
            "type": "surface"
           }
          ],
          "table": [
           {
            "cells": {
             "fill": {
              "color": "#EBF0F8"
             },
             "line": {
              "color": "white"
             }
            },
            "header": {
             "fill": {
              "color": "#C8D4E3"
             },
             "line": {
              "color": "white"
             }
            },
            "type": "table"
           }
          ]
         },
         "layout": {
          "annotationdefaults": {
           "arrowcolor": "#2a3f5f",
           "arrowhead": 0,
           "arrowwidth": 1
          },
          "autotypenumbers": "strict",
          "coloraxis": {
           "colorbar": {
            "outlinewidth": 0,
            "ticks": ""
           }
          },
          "colorscale": {
           "diverging": [
            [
             0,
             "#8e0152"
            ],
            [
             0.1,
             "#c51b7d"
            ],
            [
             0.2,
             "#de77ae"
            ],
            [
             0.3,
             "#f1b6da"
            ],
            [
             0.4,
             "#fde0ef"
            ],
            [
             0.5,
             "#f7f7f7"
            ],
            [
             0.6,
             "#e6f5d0"
            ],
            [
             0.7,
             "#b8e186"
            ],
            [
             0.8,
             "#7fbc41"
            ],
            [
             0.9,
             "#4d9221"
            ],
            [
             1,
             "#276419"
            ]
           ],
           "sequential": [
            [
             0,
             "#0d0887"
            ],
            [
             0.1111111111111111,
             "#46039f"
            ],
            [
             0.2222222222222222,
             "#7201a8"
            ],
            [
             0.3333333333333333,
             "#9c179e"
            ],
            [
             0.4444444444444444,
             "#bd3786"
            ],
            [
             0.5555555555555556,
             "#d8576b"
            ],
            [
             0.6666666666666666,
             "#ed7953"
            ],
            [
             0.7777777777777778,
             "#fb9f3a"
            ],
            [
             0.8888888888888888,
             "#fdca26"
            ],
            [
             1,
             "#f0f921"
            ]
           ],
           "sequentialminus": [
            [
             0,
             "#0d0887"
            ],
            [
             0.1111111111111111,
             "#46039f"
            ],
            [
             0.2222222222222222,
             "#7201a8"
            ],
            [
             0.3333333333333333,
             "#9c179e"
            ],
            [
             0.4444444444444444,
             "#bd3786"
            ],
            [
             0.5555555555555556,
             "#d8576b"
            ],
            [
             0.6666666666666666,
             "#ed7953"
            ],
            [
             0.7777777777777778,
             "#fb9f3a"
            ],
            [
             0.8888888888888888,
             "#fdca26"
            ],
            [
             1,
             "#f0f921"
            ]
           ]
          },
          "colorway": [
           "#636efa",
           "#EF553B",
           "#00cc96",
           "#ab63fa",
           "#FFA15A",
           "#19d3f3",
           "#FF6692",
           "#B6E880",
           "#FF97FF",
           "#FECB52"
          ],
          "font": {
           "color": "#2a3f5f"
          },
          "geo": {
           "bgcolor": "white",
           "lakecolor": "white",
           "landcolor": "#E5ECF6",
           "showlakes": true,
           "showland": true,
           "subunitcolor": "white"
          },
          "hoverlabel": {
           "align": "left"
          },
          "hovermode": "closest",
          "mapbox": {
           "style": "light"
          },
          "paper_bgcolor": "white",
          "plot_bgcolor": "#E5ECF6",
          "polar": {
           "angularaxis": {
            "gridcolor": "white",
            "linecolor": "white",
            "ticks": ""
           },
           "bgcolor": "#E5ECF6",
           "radialaxis": {
            "gridcolor": "white",
            "linecolor": "white",
            "ticks": ""
           }
          },
          "scene": {
           "xaxis": {
            "backgroundcolor": "#E5ECF6",
            "gridcolor": "white",
            "gridwidth": 2,
            "linecolor": "white",
            "showbackground": true,
            "ticks": "",
            "zerolinecolor": "white"
           },
           "yaxis": {
            "backgroundcolor": "#E5ECF6",
            "gridcolor": "white",
            "gridwidth": 2,
            "linecolor": "white",
            "showbackground": true,
            "ticks": "",
            "zerolinecolor": "white"
           },
           "zaxis": {
            "backgroundcolor": "#E5ECF6",
            "gridcolor": "white",
            "gridwidth": 2,
            "linecolor": "white",
            "showbackground": true,
            "ticks": "",
            "zerolinecolor": "white"
           }
          },
          "shapedefaults": {
           "line": {
            "color": "#2a3f5f"
           }
          },
          "ternary": {
           "aaxis": {
            "gridcolor": "white",
            "linecolor": "white",
            "ticks": ""
           },
           "baxis": {
            "gridcolor": "white",
            "linecolor": "white",
            "ticks": ""
           },
           "bgcolor": "#E5ECF6",
           "caxis": {
            "gridcolor": "white",
            "linecolor": "white",
            "ticks": ""
           }
          },
          "title": {
           "x": 0.05
          },
          "xaxis": {
           "automargin": true,
           "gridcolor": "white",
           "linecolor": "white",
           "ticks": "",
           "title": {
            "standoff": 15
           },
           "zerolinecolor": "white",
           "zerolinewidth": 2
          },
          "yaxis": {
           "automargin": true,
           "gridcolor": "white",
           "linecolor": "white",
           "ticks": "",
           "title": {
            "standoff": 15
           },
           "zerolinecolor": "white",
           "zerolinewidth": 2
          }
         }
        },
        "title": {
         "text": "Top Selling by North America Sales ( In Millions)"
        }
       }
      },
      "text/html": [
       "<div>                            <div id=\"52f9da54-3baf-420e-88ba-7cb7e13dfabb\" class=\"plotly-graph-div\" style=\"height:525px; width:100%;\"></div>            <script type=\"text/javascript\">                require([\"plotly\"], function(Plotly) {                    window.PLOTLYENV=window.PLOTLYENV || {};                                    if (document.getElementById(\"52f9da54-3baf-420e-88ba-7cb7e13dfabb\")) {                    Plotly.newPlot(                        \"52f9da54-3baf-420e-88ba-7cb7e13dfabb\",                        [{\"branchvalues\":\"total\",\"domain\":{\"x\":[0.0,1.0],\"y\":[0.0,1.0]},\"hovertemplate\":\"labels=%{label}<br>NA_Sales=%{value}<br>parent=%{parent}<br>id=%{id}<extra></extra>\",\"ids\":[\"Puzzle/Nintendo/GB\",\"Platform/Nintendo/NES\",\"Shooter/Nintendo/NES\",\"Platform/Nintendo/SNES\",\"Misc/Nintendo/Wii\",\"Platform/Nintendo/Wii\",\"Racing/Nintendo/Wii\",\"Sports/Nintendo/Wii\",\"Misc/Microsoft Game Studios/X360\",\"Misc/Microsoft Game Studios\",\"Misc/Nintendo\",\"Platform/Nintendo\",\"Puzzle/Nintendo\",\"Racing/Nintendo\",\"Shooter/Nintendo\",\"Sports/Nintendo\",\"Misc\",\"Platform\",\"Puzzle\",\"Racing\",\"Shooter\",\"Sports\"],\"labels\":[\"GB\",\"NES\",\"NES\",\"SNES\",\"Wii\",\"Wii\",\"Wii\",\"Wii\",\"X360\",\"Microsoft Game Studios\",\"Nintendo\",\"Nintendo\",\"Nintendo\",\"Nintendo\",\"Nintendo\",\"Nintendo\",\"Misc\",\"Platform\",\"Puzzle\",\"Racing\",\"Shooter\",\"Sports\"],\"name\":\"\",\"parents\":[\"Puzzle/Nintendo\",\"Platform/Nintendo\",\"Shooter/Nintendo\",\"Platform/Nintendo\",\"Misc/Nintendo\",\"Platform/Nintendo\",\"Racing/Nintendo\",\"Sports/Nintendo\",\"Misc/Microsoft Game Studios\",\"Misc\",\"Misc\",\"Platform\",\"Puzzle\",\"Racing\",\"Shooter\",\"Sports\",\"\",\"\",\"\",\"\",\"\",\"\"],\"values\":[23.2,29.08,26.93,12.78,14.03,14.59,15.85,57.24,14.97,14.97,14.03,56.449999999999996,23.2,15.85,26.93,57.24,29.0,56.449999999999996,23.2,15.85,26.93,57.24],\"type\":\"sunburst\"}],                        {\"template\":{\"data\":{\"histogram2dcontour\":[{\"type\":\"histogram2dcontour\",\"colorbar\":{\"outlinewidth\":0,\"ticks\":\"\"},\"colorscale\":[[0.0,\"#0d0887\"],[0.1111111111111111,\"#46039f\"],[0.2222222222222222,\"#7201a8\"],[0.3333333333333333,\"#9c179e\"],[0.4444444444444444,\"#bd3786\"],[0.5555555555555556,\"#d8576b\"],[0.6666666666666666,\"#ed7953\"],[0.7777777777777778,\"#fb9f3a\"],[0.8888888888888888,\"#fdca26\"],[1.0,\"#f0f921\"]]}],\"choropleth\":[{\"type\":\"choropleth\",\"colorbar\":{\"outlinewidth\":0,\"ticks\":\"\"}}],\"histogram2d\":[{\"type\":\"histogram2d\",\"colorbar\":{\"outlinewidth\":0,\"ticks\":\"\"},\"colorscale\":[[0.0,\"#0d0887\"],[0.1111111111111111,\"#46039f\"],[0.2222222222222222,\"#7201a8\"],[0.3333333333333333,\"#9c179e\"],[0.4444444444444444,\"#bd3786\"],[0.5555555555555556,\"#d8576b\"],[0.6666666666666666,\"#ed7953\"],[0.7777777777777778,\"#fb9f3a\"],[0.8888888888888888,\"#fdca26\"],[1.0,\"#f0f921\"]]}],\"heatmap\":[{\"type\":\"heatmap\",\"colorbar\":{\"outlinewidth\":0,\"ticks\":\"\"},\"colorscale\":[[0.0,\"#0d0887\"],[0.1111111111111111,\"#46039f\"],[0.2222222222222222,\"#7201a8\"],[0.3333333333333333,\"#9c179e\"],[0.4444444444444444,\"#bd3786\"],[0.5555555555555556,\"#d8576b\"],[0.6666666666666666,\"#ed7953\"],[0.7777777777777778,\"#fb9f3a\"],[0.8888888888888888,\"#fdca26\"],[1.0,\"#f0f921\"]]}],\"heatmapgl\":[{\"type\":\"heatmapgl\",\"colorbar\":{\"outlinewidth\":0,\"ticks\":\"\"},\"colorscale\":[[0.0,\"#0d0887\"],[0.1111111111111111,\"#46039f\"],[0.2222222222222222,\"#7201a8\"],[0.3333333333333333,\"#9c179e\"],[0.4444444444444444,\"#bd3786\"],[0.5555555555555556,\"#d8576b\"],[0.6666666666666666,\"#ed7953\"],[0.7777777777777778,\"#fb9f3a\"],[0.8888888888888888,\"#fdca26\"],[1.0,\"#f0f921\"]]}],\"contourcarpet\":[{\"type\":\"contourcarpet\",\"colorbar\":{\"outlinewidth\":0,\"ticks\":\"\"}}],\"contour\":[{\"type\":\"contour\",\"colorbar\":{\"outlinewidth\":0,\"ticks\":\"\"},\"colorscale\":[[0.0,\"#0d0887\"],[0.1111111111111111,\"#46039f\"],[0.2222222222222222,\"#7201a8\"],[0.3333333333333333,\"#9c179e\"],[0.4444444444444444,\"#bd3786\"],[0.5555555555555556,\"#d8576b\"],[0.6666666666666666,\"#ed7953\"],[0.7777777777777778,\"#fb9f3a\"],[0.8888888888888888,\"#fdca26\"],[1.0,\"#f0f921\"]]}],\"surface\":[{\"type\":\"surface\",\"colorbar\":{\"outlinewidth\":0,\"ticks\":\"\"},\"colorscale\":[[0.0,\"#0d0887\"],[0.1111111111111111,\"#46039f\"],[0.2222222222222222,\"#7201a8\"],[0.3333333333333333,\"#9c179e\"],[0.4444444444444444,\"#bd3786\"],[0.5555555555555556,\"#d8576b\"],[0.6666666666666666,\"#ed7953\"],[0.7777777777777778,\"#fb9f3a\"],[0.8888888888888888,\"#fdca26\"],[1.0,\"#f0f921\"]]}],\"mesh3d\":[{\"type\":\"mesh3d\",\"colorbar\":{\"outlinewidth\":0,\"ticks\":\"\"}}],\"scatter\":[{\"fillpattern\":{\"fillmode\":\"overlay\",\"size\":10,\"solidity\":0.2},\"type\":\"scatter\"}],\"parcoords\":[{\"type\":\"parcoords\",\"line\":{\"colorbar\":{\"outlinewidth\":0,\"ticks\":\"\"}}}],\"scatterpolargl\":[{\"type\":\"scatterpolargl\",\"marker\":{\"colorbar\":{\"outlinewidth\":0,\"ticks\":\"\"}}}],\"bar\":[{\"error_x\":{\"color\":\"#2a3f5f\"},\"error_y\":{\"color\":\"#2a3f5f\"},\"marker\":{\"line\":{\"color\":\"#E5ECF6\",\"width\":0.5},\"pattern\":{\"fillmode\":\"overlay\",\"size\":10,\"solidity\":0.2}},\"type\":\"bar\"}],\"scattergeo\":[{\"type\":\"scattergeo\",\"marker\":{\"colorbar\":{\"outlinewidth\":0,\"ticks\":\"\"}}}],\"scatterpolar\":[{\"type\":\"scatterpolar\",\"marker\":{\"colorbar\":{\"outlinewidth\":0,\"ticks\":\"\"}}}],\"histogram\":[{\"marker\":{\"pattern\":{\"fillmode\":\"overlay\",\"size\":10,\"solidity\":0.2}},\"type\":\"histogram\"}],\"scattergl\":[{\"type\":\"scattergl\",\"marker\":{\"colorbar\":{\"outlinewidth\":0,\"ticks\":\"\"}}}],\"scatter3d\":[{\"type\":\"scatter3d\",\"line\":{\"colorbar\":{\"outlinewidth\":0,\"ticks\":\"\"}},\"marker\":{\"colorbar\":{\"outlinewidth\":0,\"ticks\":\"\"}}}],\"scattermapbox\":[{\"type\":\"scattermapbox\",\"marker\":{\"colorbar\":{\"outlinewidth\":0,\"ticks\":\"\"}}}],\"scatterternary\":[{\"type\":\"scatterternary\",\"marker\":{\"colorbar\":{\"outlinewidth\":0,\"ticks\":\"\"}}}],\"scattercarpet\":[{\"type\":\"scattercarpet\",\"marker\":{\"colorbar\":{\"outlinewidth\":0,\"ticks\":\"\"}}}],\"carpet\":[{\"aaxis\":{\"endlinecolor\":\"#2a3f5f\",\"gridcolor\":\"white\",\"linecolor\":\"white\",\"minorgridcolor\":\"white\",\"startlinecolor\":\"#2a3f5f\"},\"baxis\":{\"endlinecolor\":\"#2a3f5f\",\"gridcolor\":\"white\",\"linecolor\":\"white\",\"minorgridcolor\":\"white\",\"startlinecolor\":\"#2a3f5f\"},\"type\":\"carpet\"}],\"table\":[{\"cells\":{\"fill\":{\"color\":\"#EBF0F8\"},\"line\":{\"color\":\"white\"}},\"header\":{\"fill\":{\"color\":\"#C8D4E3\"},\"line\":{\"color\":\"white\"}},\"type\":\"table\"}],\"barpolar\":[{\"marker\":{\"line\":{\"color\":\"#E5ECF6\",\"width\":0.5},\"pattern\":{\"fillmode\":\"overlay\",\"size\":10,\"solidity\":0.2}},\"type\":\"barpolar\"}],\"pie\":[{\"automargin\":true,\"type\":\"pie\"}]},\"layout\":{\"autotypenumbers\":\"strict\",\"colorway\":[\"#636efa\",\"#EF553B\",\"#00cc96\",\"#ab63fa\",\"#FFA15A\",\"#19d3f3\",\"#FF6692\",\"#B6E880\",\"#FF97FF\",\"#FECB52\"],\"font\":{\"color\":\"#2a3f5f\"},\"hovermode\":\"closest\",\"hoverlabel\":{\"align\":\"left\"},\"paper_bgcolor\":\"white\",\"plot_bgcolor\":\"#E5ECF6\",\"polar\":{\"bgcolor\":\"#E5ECF6\",\"angularaxis\":{\"gridcolor\":\"white\",\"linecolor\":\"white\",\"ticks\":\"\"},\"radialaxis\":{\"gridcolor\":\"white\",\"linecolor\":\"white\",\"ticks\":\"\"}},\"ternary\":{\"bgcolor\":\"#E5ECF6\",\"aaxis\":{\"gridcolor\":\"white\",\"linecolor\":\"white\",\"ticks\":\"\"},\"baxis\":{\"gridcolor\":\"white\",\"linecolor\":\"white\",\"ticks\":\"\"},\"caxis\":{\"gridcolor\":\"white\",\"linecolor\":\"white\",\"ticks\":\"\"}},\"coloraxis\":{\"colorbar\":{\"outlinewidth\":0,\"ticks\":\"\"}},\"colorscale\":{\"sequential\":[[0.0,\"#0d0887\"],[0.1111111111111111,\"#46039f\"],[0.2222222222222222,\"#7201a8\"],[0.3333333333333333,\"#9c179e\"],[0.4444444444444444,\"#bd3786\"],[0.5555555555555556,\"#d8576b\"],[0.6666666666666666,\"#ed7953\"],[0.7777777777777778,\"#fb9f3a\"],[0.8888888888888888,\"#fdca26\"],[1.0,\"#f0f921\"]],\"sequentialminus\":[[0.0,\"#0d0887\"],[0.1111111111111111,\"#46039f\"],[0.2222222222222222,\"#7201a8\"],[0.3333333333333333,\"#9c179e\"],[0.4444444444444444,\"#bd3786\"],[0.5555555555555556,\"#d8576b\"],[0.6666666666666666,\"#ed7953\"],[0.7777777777777778,\"#fb9f3a\"],[0.8888888888888888,\"#fdca26\"],[1.0,\"#f0f921\"]],\"diverging\":[[0,\"#8e0152\"],[0.1,\"#c51b7d\"],[0.2,\"#de77ae\"],[0.3,\"#f1b6da\"],[0.4,\"#fde0ef\"],[0.5,\"#f7f7f7\"],[0.6,\"#e6f5d0\"],[0.7,\"#b8e186\"],[0.8,\"#7fbc41\"],[0.9,\"#4d9221\"],[1,\"#276419\"]]},\"xaxis\":{\"gridcolor\":\"white\",\"linecolor\":\"white\",\"ticks\":\"\",\"title\":{\"standoff\":15},\"zerolinecolor\":\"white\",\"automargin\":true,\"zerolinewidth\":2},\"yaxis\":{\"gridcolor\":\"white\",\"linecolor\":\"white\",\"ticks\":\"\",\"title\":{\"standoff\":15},\"zerolinecolor\":\"white\",\"automargin\":true,\"zerolinewidth\":2},\"scene\":{\"xaxis\":{\"backgroundcolor\":\"#E5ECF6\",\"gridcolor\":\"white\",\"linecolor\":\"white\",\"showbackground\":true,\"ticks\":\"\",\"zerolinecolor\":\"white\",\"gridwidth\":2},\"yaxis\":{\"backgroundcolor\":\"#E5ECF6\",\"gridcolor\":\"white\",\"linecolor\":\"white\",\"showbackground\":true,\"ticks\":\"\",\"zerolinecolor\":\"white\",\"gridwidth\":2},\"zaxis\":{\"backgroundcolor\":\"#E5ECF6\",\"gridcolor\":\"white\",\"linecolor\":\"white\",\"showbackground\":true,\"ticks\":\"\",\"zerolinecolor\":\"white\",\"gridwidth\":2}},\"shapedefaults\":{\"line\":{\"color\":\"#2a3f5f\"}},\"annotationdefaults\":{\"arrowcolor\":\"#2a3f5f\",\"arrowhead\":0,\"arrowwidth\":1},\"geo\":{\"bgcolor\":\"white\",\"landcolor\":\"#E5ECF6\",\"subunitcolor\":\"white\",\"showland\":true,\"showlakes\":true,\"lakecolor\":\"white\"},\"title\":{\"x\":0.05},\"mapbox\":{\"style\":\"light\"}}},\"legend\":{\"tracegroupgap\":0},\"title\":{\"text\":\"Top Selling by North America Sales ( In Millions)\"},\"grid\":{\"columns\":2,\"rows\":2},\"margin\":{\"t\":40,\"l\":2,\"r\":2,\"b\":5}},                        {\"responsive\": true}                    ).then(function(){\n",
       "                            \n",
       "var gd = document.getElementById('52f9da54-3baf-420e-88ba-7cb7e13dfabb');\n",
       "var x = new MutationObserver(function (mutations, observer) {{\n",
       "        var display = window.getComputedStyle(gd).display;\n",
       "        if (!display || display === 'none') {{\n",
       "            console.log([gd, 'removed!']);\n",
       "            Plotly.purge(gd);\n",
       "            observer.disconnect();\n",
       "        }}\n",
       "}});\n",
       "\n",
       "// Listen for the removal of the full notebook cells\n",
       "var notebookContainer = gd.closest('#notebook-container');\n",
       "if (notebookContainer) {{\n",
       "    x.observe(notebookContainer, {childList: true});\n",
       "}}\n",
       "\n",
       "// Listen for the clearing of the current output cell\n",
       "var outputEl = gd.closest('.output');\n",
       "if (outputEl) {{\n",
       "    x.observe(outputEl, {childList: true});\n",
       "}}\n",
       "\n",
       "                        })                };                });            </script>        </div>"
      ]
     },
     "metadata": {},
     "output_type": "display_data"
    },
    {
     "data": {
      "application/vnd.plotly.v1+json": {
       "config": {
        "plotlyServerURL": "https://plot.ly"
       },
       "data": [
        {
         "branchvalues": "total",
         "domain": {
          "x": [
           0,
           1
          ],
          "y": [
           0,
           1
          ]
         },
         "hovertemplate": "labels=%{label}<br>EU_Sales=%{value}<br>parent=%{parent}<br>id=%{id}<extra></extra>",
         "ids": [
          "Puzzle/Nintendo/GB",
          "Platform/Nintendo/NES",
          "Shooter/Nintendo/NES",
          "Platform/Nintendo/SNES",
          "Misc/Nintendo/Wii",
          "Platform/Nintendo/Wii",
          "Racing/Nintendo/Wii",
          "Sports/Nintendo/Wii",
          "Misc/Microsoft Game Studios/X360",
          "Misc/Microsoft Game Studios",
          "Misc/Nintendo",
          "Platform/Nintendo",
          "Puzzle/Nintendo",
          "Racing/Nintendo",
          "Shooter/Nintendo",
          "Sports/Nintendo",
          "Misc",
          "Platform",
          "Puzzle",
          "Racing",
          "Shooter",
          "Sports"
         ],
         "labels": [
          "GB",
          "NES",
          "NES",
          "SNES",
          "Wii",
          "Wii",
          "Wii",
          "Wii",
          "X360",
          "Microsoft Game Studios",
          "Nintendo",
          "Nintendo",
          "Nintendo",
          "Nintendo",
          "Nintendo",
          "Nintendo",
          "Misc",
          "Platform",
          "Puzzle",
          "Racing",
          "Shooter",
          "Sports"
         ],
         "name": "",
         "parents": [
          "Puzzle/Nintendo",
          "Platform/Nintendo",
          "Shooter/Nintendo",
          "Platform/Nintendo",
          "Misc/Nintendo",
          "Platform/Nintendo",
          "Racing/Nintendo",
          "Sports/Nintendo",
          "Misc/Microsoft Game Studios",
          "Misc",
          "Misc",
          "Platform",
          "Puzzle",
          "Racing",
          "Shooter",
          "Sports",
          "",
          "",
          "",
          "",
          "",
          ""
         ],
         "type": "sunburst",
         "values": [
          2.26,
          3.58,
          0.63,
          3.75,
          9.2,
          7.06,
          12.88,
          40.03,
          4.94,
          4.94,
          9.2,
          14.39,
          2.26,
          12.88,
          0.63,
          40.03,
          14.14,
          14.39,
          2.26,
          12.88,
          0.63,
          40.03
         ]
        }
       ],
       "layout": {
        "grid": {
         "columns": 2,
         "rows": 2
        },
        "legend": {
         "tracegroupgap": 0
        },
        "margin": {
         "b": 5,
         "l": 2,
         "r": 2,
         "t": 40
        },
        "template": {
         "data": {
          "bar": [
           {
            "error_x": {
             "color": "#2a3f5f"
            },
            "error_y": {
             "color": "#2a3f5f"
            },
            "marker": {
             "line": {
              "color": "#E5ECF6",
              "width": 0.5
             },
             "pattern": {
              "fillmode": "overlay",
              "size": 10,
              "solidity": 0.2
             }
            },
            "type": "bar"
           }
          ],
          "barpolar": [
           {
            "marker": {
             "line": {
              "color": "#E5ECF6",
              "width": 0.5
             },
             "pattern": {
              "fillmode": "overlay",
              "size": 10,
              "solidity": 0.2
             }
            },
            "type": "barpolar"
           }
          ],
          "carpet": [
           {
            "aaxis": {
             "endlinecolor": "#2a3f5f",
             "gridcolor": "white",
             "linecolor": "white",
             "minorgridcolor": "white",
             "startlinecolor": "#2a3f5f"
            },
            "baxis": {
             "endlinecolor": "#2a3f5f",
             "gridcolor": "white",
             "linecolor": "white",
             "minorgridcolor": "white",
             "startlinecolor": "#2a3f5f"
            },
            "type": "carpet"
           }
          ],
          "choropleth": [
           {
            "colorbar": {
             "outlinewidth": 0,
             "ticks": ""
            },
            "type": "choropleth"
           }
          ],
          "contour": [
           {
            "colorbar": {
             "outlinewidth": 0,
             "ticks": ""
            },
            "colorscale": [
             [
              0,
              "#0d0887"
             ],
             [
              0.1111111111111111,
              "#46039f"
             ],
             [
              0.2222222222222222,
              "#7201a8"
             ],
             [
              0.3333333333333333,
              "#9c179e"
             ],
             [
              0.4444444444444444,
              "#bd3786"
             ],
             [
              0.5555555555555556,
              "#d8576b"
             ],
             [
              0.6666666666666666,
              "#ed7953"
             ],
             [
              0.7777777777777778,
              "#fb9f3a"
             ],
             [
              0.8888888888888888,
              "#fdca26"
             ],
             [
              1,
              "#f0f921"
             ]
            ],
            "type": "contour"
           }
          ],
          "contourcarpet": [
           {
            "colorbar": {
             "outlinewidth": 0,
             "ticks": ""
            },
            "type": "contourcarpet"
           }
          ],
          "heatmap": [
           {
            "colorbar": {
             "outlinewidth": 0,
             "ticks": ""
            },
            "colorscale": [
             [
              0,
              "#0d0887"
             ],
             [
              0.1111111111111111,
              "#46039f"
             ],
             [
              0.2222222222222222,
              "#7201a8"
             ],
             [
              0.3333333333333333,
              "#9c179e"
             ],
             [
              0.4444444444444444,
              "#bd3786"
             ],
             [
              0.5555555555555556,
              "#d8576b"
             ],
             [
              0.6666666666666666,
              "#ed7953"
             ],
             [
              0.7777777777777778,
              "#fb9f3a"
             ],
             [
              0.8888888888888888,
              "#fdca26"
             ],
             [
              1,
              "#f0f921"
             ]
            ],
            "type": "heatmap"
           }
          ],
          "heatmapgl": [
           {
            "colorbar": {
             "outlinewidth": 0,
             "ticks": ""
            },
            "colorscale": [
             [
              0,
              "#0d0887"
             ],
             [
              0.1111111111111111,
              "#46039f"
             ],
             [
              0.2222222222222222,
              "#7201a8"
             ],
             [
              0.3333333333333333,
              "#9c179e"
             ],
             [
              0.4444444444444444,
              "#bd3786"
             ],
             [
              0.5555555555555556,
              "#d8576b"
             ],
             [
              0.6666666666666666,
              "#ed7953"
             ],
             [
              0.7777777777777778,
              "#fb9f3a"
             ],
             [
              0.8888888888888888,
              "#fdca26"
             ],
             [
              1,
              "#f0f921"
             ]
            ],
            "type": "heatmapgl"
           }
          ],
          "histogram": [
           {
            "marker": {
             "pattern": {
              "fillmode": "overlay",
              "size": 10,
              "solidity": 0.2
             }
            },
            "type": "histogram"
           }
          ],
          "histogram2d": [
           {
            "colorbar": {
             "outlinewidth": 0,
             "ticks": ""
            },
            "colorscale": [
             [
              0,
              "#0d0887"
             ],
             [
              0.1111111111111111,
              "#46039f"
             ],
             [
              0.2222222222222222,
              "#7201a8"
             ],
             [
              0.3333333333333333,
              "#9c179e"
             ],
             [
              0.4444444444444444,
              "#bd3786"
             ],
             [
              0.5555555555555556,
              "#d8576b"
             ],
             [
              0.6666666666666666,
              "#ed7953"
             ],
             [
              0.7777777777777778,
              "#fb9f3a"
             ],
             [
              0.8888888888888888,
              "#fdca26"
             ],
             [
              1,
              "#f0f921"
             ]
            ],
            "type": "histogram2d"
           }
          ],
          "histogram2dcontour": [
           {
            "colorbar": {
             "outlinewidth": 0,
             "ticks": ""
            },
            "colorscale": [
             [
              0,
              "#0d0887"
             ],
             [
              0.1111111111111111,
              "#46039f"
             ],
             [
              0.2222222222222222,
              "#7201a8"
             ],
             [
              0.3333333333333333,
              "#9c179e"
             ],
             [
              0.4444444444444444,
              "#bd3786"
             ],
             [
              0.5555555555555556,
              "#d8576b"
             ],
             [
              0.6666666666666666,
              "#ed7953"
             ],
             [
              0.7777777777777778,
              "#fb9f3a"
             ],
             [
              0.8888888888888888,
              "#fdca26"
             ],
             [
              1,
              "#f0f921"
             ]
            ],
            "type": "histogram2dcontour"
           }
          ],
          "mesh3d": [
           {
            "colorbar": {
             "outlinewidth": 0,
             "ticks": ""
            },
            "type": "mesh3d"
           }
          ],
          "parcoords": [
           {
            "line": {
             "colorbar": {
              "outlinewidth": 0,
              "ticks": ""
             }
            },
            "type": "parcoords"
           }
          ],
          "pie": [
           {
            "automargin": true,
            "type": "pie"
           }
          ],
          "scatter": [
           {
            "fillpattern": {
             "fillmode": "overlay",
             "size": 10,
             "solidity": 0.2
            },
            "type": "scatter"
           }
          ],
          "scatter3d": [
           {
            "line": {
             "colorbar": {
              "outlinewidth": 0,
              "ticks": ""
             }
            },
            "marker": {
             "colorbar": {
              "outlinewidth": 0,
              "ticks": ""
             }
            },
            "type": "scatter3d"
           }
          ],
          "scattercarpet": [
           {
            "marker": {
             "colorbar": {
              "outlinewidth": 0,
              "ticks": ""
             }
            },
            "type": "scattercarpet"
           }
          ],
          "scattergeo": [
           {
            "marker": {
             "colorbar": {
              "outlinewidth": 0,
              "ticks": ""
             }
            },
            "type": "scattergeo"
           }
          ],
          "scattergl": [
           {
            "marker": {
             "colorbar": {
              "outlinewidth": 0,
              "ticks": ""
             }
            },
            "type": "scattergl"
           }
          ],
          "scattermapbox": [
           {
            "marker": {
             "colorbar": {
              "outlinewidth": 0,
              "ticks": ""
             }
            },
            "type": "scattermapbox"
           }
          ],
          "scatterpolar": [
           {
            "marker": {
             "colorbar": {
              "outlinewidth": 0,
              "ticks": ""
             }
            },
            "type": "scatterpolar"
           }
          ],
          "scatterpolargl": [
           {
            "marker": {
             "colorbar": {
              "outlinewidth": 0,
              "ticks": ""
             }
            },
            "type": "scatterpolargl"
           }
          ],
          "scatterternary": [
           {
            "marker": {
             "colorbar": {
              "outlinewidth": 0,
              "ticks": ""
             }
            },
            "type": "scatterternary"
           }
          ],
          "surface": [
           {
            "colorbar": {
             "outlinewidth": 0,
             "ticks": ""
            },
            "colorscale": [
             [
              0,
              "#0d0887"
             ],
             [
              0.1111111111111111,
              "#46039f"
             ],
             [
              0.2222222222222222,
              "#7201a8"
             ],
             [
              0.3333333333333333,
              "#9c179e"
             ],
             [
              0.4444444444444444,
              "#bd3786"
             ],
             [
              0.5555555555555556,
              "#d8576b"
             ],
             [
              0.6666666666666666,
              "#ed7953"
             ],
             [
              0.7777777777777778,
              "#fb9f3a"
             ],
             [
              0.8888888888888888,
              "#fdca26"
             ],
             [
              1,
              "#f0f921"
             ]
            ],
            "type": "surface"
           }
          ],
          "table": [
           {
            "cells": {
             "fill": {
              "color": "#EBF0F8"
             },
             "line": {
              "color": "white"
             }
            },
            "header": {
             "fill": {
              "color": "#C8D4E3"
             },
             "line": {
              "color": "white"
             }
            },
            "type": "table"
           }
          ]
         },
         "layout": {
          "annotationdefaults": {
           "arrowcolor": "#2a3f5f",
           "arrowhead": 0,
           "arrowwidth": 1
          },
          "autotypenumbers": "strict",
          "coloraxis": {
           "colorbar": {
            "outlinewidth": 0,
            "ticks": ""
           }
          },
          "colorscale": {
           "diverging": [
            [
             0,
             "#8e0152"
            ],
            [
             0.1,
             "#c51b7d"
            ],
            [
             0.2,
             "#de77ae"
            ],
            [
             0.3,
             "#f1b6da"
            ],
            [
             0.4,
             "#fde0ef"
            ],
            [
             0.5,
             "#f7f7f7"
            ],
            [
             0.6,
             "#e6f5d0"
            ],
            [
             0.7,
             "#b8e186"
            ],
            [
             0.8,
             "#7fbc41"
            ],
            [
             0.9,
             "#4d9221"
            ],
            [
             1,
             "#276419"
            ]
           ],
           "sequential": [
            [
             0,
             "#0d0887"
            ],
            [
             0.1111111111111111,
             "#46039f"
            ],
            [
             0.2222222222222222,
             "#7201a8"
            ],
            [
             0.3333333333333333,
             "#9c179e"
            ],
            [
             0.4444444444444444,
             "#bd3786"
            ],
            [
             0.5555555555555556,
             "#d8576b"
            ],
            [
             0.6666666666666666,
             "#ed7953"
            ],
            [
             0.7777777777777778,
             "#fb9f3a"
            ],
            [
             0.8888888888888888,
             "#fdca26"
            ],
            [
             1,
             "#f0f921"
            ]
           ],
           "sequentialminus": [
            [
             0,
             "#0d0887"
            ],
            [
             0.1111111111111111,
             "#46039f"
            ],
            [
             0.2222222222222222,
             "#7201a8"
            ],
            [
             0.3333333333333333,
             "#9c179e"
            ],
            [
             0.4444444444444444,
             "#bd3786"
            ],
            [
             0.5555555555555556,
             "#d8576b"
            ],
            [
             0.6666666666666666,
             "#ed7953"
            ],
            [
             0.7777777777777778,
             "#fb9f3a"
            ],
            [
             0.8888888888888888,
             "#fdca26"
            ],
            [
             1,
             "#f0f921"
            ]
           ]
          },
          "colorway": [
           "#636efa",
           "#EF553B",
           "#00cc96",
           "#ab63fa",
           "#FFA15A",
           "#19d3f3",
           "#FF6692",
           "#B6E880",
           "#FF97FF",
           "#FECB52"
          ],
          "font": {
           "color": "#2a3f5f"
          },
          "geo": {
           "bgcolor": "white",
           "lakecolor": "white",
           "landcolor": "#E5ECF6",
           "showlakes": true,
           "showland": true,
           "subunitcolor": "white"
          },
          "hoverlabel": {
           "align": "left"
          },
          "hovermode": "closest",
          "mapbox": {
           "style": "light"
          },
          "paper_bgcolor": "white",
          "plot_bgcolor": "#E5ECF6",
          "polar": {
           "angularaxis": {
            "gridcolor": "white",
            "linecolor": "white",
            "ticks": ""
           },
           "bgcolor": "#E5ECF6",
           "radialaxis": {
            "gridcolor": "white",
            "linecolor": "white",
            "ticks": ""
           }
          },
          "scene": {
           "xaxis": {
            "backgroundcolor": "#E5ECF6",
            "gridcolor": "white",
            "gridwidth": 2,
            "linecolor": "white",
            "showbackground": true,
            "ticks": "",
            "zerolinecolor": "white"
           },
           "yaxis": {
            "backgroundcolor": "#E5ECF6",
            "gridcolor": "white",
            "gridwidth": 2,
            "linecolor": "white",
            "showbackground": true,
            "ticks": "",
            "zerolinecolor": "white"
           },
           "zaxis": {
            "backgroundcolor": "#E5ECF6",
            "gridcolor": "white",
            "gridwidth": 2,
            "linecolor": "white",
            "showbackground": true,
            "ticks": "",
            "zerolinecolor": "white"
           }
          },
          "shapedefaults": {
           "line": {
            "color": "#2a3f5f"
           }
          },
          "ternary": {
           "aaxis": {
            "gridcolor": "white",
            "linecolor": "white",
            "ticks": ""
           },
           "baxis": {
            "gridcolor": "white",
            "linecolor": "white",
            "ticks": ""
           },
           "bgcolor": "#E5ECF6",
           "caxis": {
            "gridcolor": "white",
            "linecolor": "white",
            "ticks": ""
           }
          },
          "title": {
           "x": 0.05
          },
          "xaxis": {
           "automargin": true,
           "gridcolor": "white",
           "linecolor": "white",
           "ticks": "",
           "title": {
            "standoff": 15
           },
           "zerolinecolor": "white",
           "zerolinewidth": 2
          },
          "yaxis": {
           "automargin": true,
           "gridcolor": "white",
           "linecolor": "white",
           "ticks": "",
           "title": {
            "standoff": 15
           },
           "zerolinecolor": "white",
           "zerolinewidth": 2
          }
         }
        },
        "title": {
         "text": "Top Selling by Europe Sales ( In Millions)"
        }
       }
      },
      "text/html": [
       "<div>                            <div id=\"ddd666cd-228c-42db-93fb-eec652883287\" class=\"plotly-graph-div\" style=\"height:525px; width:100%;\"></div>            <script type=\"text/javascript\">                require([\"plotly\"], function(Plotly) {                    window.PLOTLYENV=window.PLOTLYENV || {};                                    if (document.getElementById(\"ddd666cd-228c-42db-93fb-eec652883287\")) {                    Plotly.newPlot(                        \"ddd666cd-228c-42db-93fb-eec652883287\",                        [{\"branchvalues\":\"total\",\"domain\":{\"x\":[0.0,1.0],\"y\":[0.0,1.0]},\"hovertemplate\":\"labels=%{label}<br>EU_Sales=%{value}<br>parent=%{parent}<br>id=%{id}<extra></extra>\",\"ids\":[\"Puzzle/Nintendo/GB\",\"Platform/Nintendo/NES\",\"Shooter/Nintendo/NES\",\"Platform/Nintendo/SNES\",\"Misc/Nintendo/Wii\",\"Platform/Nintendo/Wii\",\"Racing/Nintendo/Wii\",\"Sports/Nintendo/Wii\",\"Misc/Microsoft Game Studios/X360\",\"Misc/Microsoft Game Studios\",\"Misc/Nintendo\",\"Platform/Nintendo\",\"Puzzle/Nintendo\",\"Racing/Nintendo\",\"Shooter/Nintendo\",\"Sports/Nintendo\",\"Misc\",\"Platform\",\"Puzzle\",\"Racing\",\"Shooter\",\"Sports\"],\"labels\":[\"GB\",\"NES\",\"NES\",\"SNES\",\"Wii\",\"Wii\",\"Wii\",\"Wii\",\"X360\",\"Microsoft Game Studios\",\"Nintendo\",\"Nintendo\",\"Nintendo\",\"Nintendo\",\"Nintendo\",\"Nintendo\",\"Misc\",\"Platform\",\"Puzzle\",\"Racing\",\"Shooter\",\"Sports\"],\"name\":\"\",\"parents\":[\"Puzzle/Nintendo\",\"Platform/Nintendo\",\"Shooter/Nintendo\",\"Platform/Nintendo\",\"Misc/Nintendo\",\"Platform/Nintendo\",\"Racing/Nintendo\",\"Sports/Nintendo\",\"Misc/Microsoft Game Studios\",\"Misc\",\"Misc\",\"Platform\",\"Puzzle\",\"Racing\",\"Shooter\",\"Sports\",\"\",\"\",\"\",\"\",\"\",\"\"],\"values\":[2.26,3.58,0.63,3.75,9.2,7.06,12.88,40.03,4.94,4.94,9.2,14.39,2.26,12.88,0.63,40.03,14.14,14.39,2.26,12.88,0.63,40.03],\"type\":\"sunburst\"}],                        {\"template\":{\"data\":{\"histogram2dcontour\":[{\"type\":\"histogram2dcontour\",\"colorbar\":{\"outlinewidth\":0,\"ticks\":\"\"},\"colorscale\":[[0.0,\"#0d0887\"],[0.1111111111111111,\"#46039f\"],[0.2222222222222222,\"#7201a8\"],[0.3333333333333333,\"#9c179e\"],[0.4444444444444444,\"#bd3786\"],[0.5555555555555556,\"#d8576b\"],[0.6666666666666666,\"#ed7953\"],[0.7777777777777778,\"#fb9f3a\"],[0.8888888888888888,\"#fdca26\"],[1.0,\"#f0f921\"]]}],\"choropleth\":[{\"type\":\"choropleth\",\"colorbar\":{\"outlinewidth\":0,\"ticks\":\"\"}}],\"histogram2d\":[{\"type\":\"histogram2d\",\"colorbar\":{\"outlinewidth\":0,\"ticks\":\"\"},\"colorscale\":[[0.0,\"#0d0887\"],[0.1111111111111111,\"#46039f\"],[0.2222222222222222,\"#7201a8\"],[0.3333333333333333,\"#9c179e\"],[0.4444444444444444,\"#bd3786\"],[0.5555555555555556,\"#d8576b\"],[0.6666666666666666,\"#ed7953\"],[0.7777777777777778,\"#fb9f3a\"],[0.8888888888888888,\"#fdca26\"],[1.0,\"#f0f921\"]]}],\"heatmap\":[{\"type\":\"heatmap\",\"colorbar\":{\"outlinewidth\":0,\"ticks\":\"\"},\"colorscale\":[[0.0,\"#0d0887\"],[0.1111111111111111,\"#46039f\"],[0.2222222222222222,\"#7201a8\"],[0.3333333333333333,\"#9c179e\"],[0.4444444444444444,\"#bd3786\"],[0.5555555555555556,\"#d8576b\"],[0.6666666666666666,\"#ed7953\"],[0.7777777777777778,\"#fb9f3a\"],[0.8888888888888888,\"#fdca26\"],[1.0,\"#f0f921\"]]}],\"heatmapgl\":[{\"type\":\"heatmapgl\",\"colorbar\":{\"outlinewidth\":0,\"ticks\":\"\"},\"colorscale\":[[0.0,\"#0d0887\"],[0.1111111111111111,\"#46039f\"],[0.2222222222222222,\"#7201a8\"],[0.3333333333333333,\"#9c179e\"],[0.4444444444444444,\"#bd3786\"],[0.5555555555555556,\"#d8576b\"],[0.6666666666666666,\"#ed7953\"],[0.7777777777777778,\"#fb9f3a\"],[0.8888888888888888,\"#fdca26\"],[1.0,\"#f0f921\"]]}],\"contourcarpet\":[{\"type\":\"contourcarpet\",\"colorbar\":{\"outlinewidth\":0,\"ticks\":\"\"}}],\"contour\":[{\"type\":\"contour\",\"colorbar\":{\"outlinewidth\":0,\"ticks\":\"\"},\"colorscale\":[[0.0,\"#0d0887\"],[0.1111111111111111,\"#46039f\"],[0.2222222222222222,\"#7201a8\"],[0.3333333333333333,\"#9c179e\"],[0.4444444444444444,\"#bd3786\"],[0.5555555555555556,\"#d8576b\"],[0.6666666666666666,\"#ed7953\"],[0.7777777777777778,\"#fb9f3a\"],[0.8888888888888888,\"#fdca26\"],[1.0,\"#f0f921\"]]}],\"surface\":[{\"type\":\"surface\",\"colorbar\":{\"outlinewidth\":0,\"ticks\":\"\"},\"colorscale\":[[0.0,\"#0d0887\"],[0.1111111111111111,\"#46039f\"],[0.2222222222222222,\"#7201a8\"],[0.3333333333333333,\"#9c179e\"],[0.4444444444444444,\"#bd3786\"],[0.5555555555555556,\"#d8576b\"],[0.6666666666666666,\"#ed7953\"],[0.7777777777777778,\"#fb9f3a\"],[0.8888888888888888,\"#fdca26\"],[1.0,\"#f0f921\"]]}],\"mesh3d\":[{\"type\":\"mesh3d\",\"colorbar\":{\"outlinewidth\":0,\"ticks\":\"\"}}],\"scatter\":[{\"fillpattern\":{\"fillmode\":\"overlay\",\"size\":10,\"solidity\":0.2},\"type\":\"scatter\"}],\"parcoords\":[{\"type\":\"parcoords\",\"line\":{\"colorbar\":{\"outlinewidth\":0,\"ticks\":\"\"}}}],\"scatterpolargl\":[{\"type\":\"scatterpolargl\",\"marker\":{\"colorbar\":{\"outlinewidth\":0,\"ticks\":\"\"}}}],\"bar\":[{\"error_x\":{\"color\":\"#2a3f5f\"},\"error_y\":{\"color\":\"#2a3f5f\"},\"marker\":{\"line\":{\"color\":\"#E5ECF6\",\"width\":0.5},\"pattern\":{\"fillmode\":\"overlay\",\"size\":10,\"solidity\":0.2}},\"type\":\"bar\"}],\"scattergeo\":[{\"type\":\"scattergeo\",\"marker\":{\"colorbar\":{\"outlinewidth\":0,\"ticks\":\"\"}}}],\"scatterpolar\":[{\"type\":\"scatterpolar\",\"marker\":{\"colorbar\":{\"outlinewidth\":0,\"ticks\":\"\"}}}],\"histogram\":[{\"marker\":{\"pattern\":{\"fillmode\":\"overlay\",\"size\":10,\"solidity\":0.2}},\"type\":\"histogram\"}],\"scattergl\":[{\"type\":\"scattergl\",\"marker\":{\"colorbar\":{\"outlinewidth\":0,\"ticks\":\"\"}}}],\"scatter3d\":[{\"type\":\"scatter3d\",\"line\":{\"colorbar\":{\"outlinewidth\":0,\"ticks\":\"\"}},\"marker\":{\"colorbar\":{\"outlinewidth\":0,\"ticks\":\"\"}}}],\"scattermapbox\":[{\"type\":\"scattermapbox\",\"marker\":{\"colorbar\":{\"outlinewidth\":0,\"ticks\":\"\"}}}],\"scatterternary\":[{\"type\":\"scatterternary\",\"marker\":{\"colorbar\":{\"outlinewidth\":0,\"ticks\":\"\"}}}],\"scattercarpet\":[{\"type\":\"scattercarpet\",\"marker\":{\"colorbar\":{\"outlinewidth\":0,\"ticks\":\"\"}}}],\"carpet\":[{\"aaxis\":{\"endlinecolor\":\"#2a3f5f\",\"gridcolor\":\"white\",\"linecolor\":\"white\",\"minorgridcolor\":\"white\",\"startlinecolor\":\"#2a3f5f\"},\"baxis\":{\"endlinecolor\":\"#2a3f5f\",\"gridcolor\":\"white\",\"linecolor\":\"white\",\"minorgridcolor\":\"white\",\"startlinecolor\":\"#2a3f5f\"},\"type\":\"carpet\"}],\"table\":[{\"cells\":{\"fill\":{\"color\":\"#EBF0F8\"},\"line\":{\"color\":\"white\"}},\"header\":{\"fill\":{\"color\":\"#C8D4E3\"},\"line\":{\"color\":\"white\"}},\"type\":\"table\"}],\"barpolar\":[{\"marker\":{\"line\":{\"color\":\"#E5ECF6\",\"width\":0.5},\"pattern\":{\"fillmode\":\"overlay\",\"size\":10,\"solidity\":0.2}},\"type\":\"barpolar\"}],\"pie\":[{\"automargin\":true,\"type\":\"pie\"}]},\"layout\":{\"autotypenumbers\":\"strict\",\"colorway\":[\"#636efa\",\"#EF553B\",\"#00cc96\",\"#ab63fa\",\"#FFA15A\",\"#19d3f3\",\"#FF6692\",\"#B6E880\",\"#FF97FF\",\"#FECB52\"],\"font\":{\"color\":\"#2a3f5f\"},\"hovermode\":\"closest\",\"hoverlabel\":{\"align\":\"left\"},\"paper_bgcolor\":\"white\",\"plot_bgcolor\":\"#E5ECF6\",\"polar\":{\"bgcolor\":\"#E5ECF6\",\"angularaxis\":{\"gridcolor\":\"white\",\"linecolor\":\"white\",\"ticks\":\"\"},\"radialaxis\":{\"gridcolor\":\"white\",\"linecolor\":\"white\",\"ticks\":\"\"}},\"ternary\":{\"bgcolor\":\"#E5ECF6\",\"aaxis\":{\"gridcolor\":\"white\",\"linecolor\":\"white\",\"ticks\":\"\"},\"baxis\":{\"gridcolor\":\"white\",\"linecolor\":\"white\",\"ticks\":\"\"},\"caxis\":{\"gridcolor\":\"white\",\"linecolor\":\"white\",\"ticks\":\"\"}},\"coloraxis\":{\"colorbar\":{\"outlinewidth\":0,\"ticks\":\"\"}},\"colorscale\":{\"sequential\":[[0.0,\"#0d0887\"],[0.1111111111111111,\"#46039f\"],[0.2222222222222222,\"#7201a8\"],[0.3333333333333333,\"#9c179e\"],[0.4444444444444444,\"#bd3786\"],[0.5555555555555556,\"#d8576b\"],[0.6666666666666666,\"#ed7953\"],[0.7777777777777778,\"#fb9f3a\"],[0.8888888888888888,\"#fdca26\"],[1.0,\"#f0f921\"]],\"sequentialminus\":[[0.0,\"#0d0887\"],[0.1111111111111111,\"#46039f\"],[0.2222222222222222,\"#7201a8\"],[0.3333333333333333,\"#9c179e\"],[0.4444444444444444,\"#bd3786\"],[0.5555555555555556,\"#d8576b\"],[0.6666666666666666,\"#ed7953\"],[0.7777777777777778,\"#fb9f3a\"],[0.8888888888888888,\"#fdca26\"],[1.0,\"#f0f921\"]],\"diverging\":[[0,\"#8e0152\"],[0.1,\"#c51b7d\"],[0.2,\"#de77ae\"],[0.3,\"#f1b6da\"],[0.4,\"#fde0ef\"],[0.5,\"#f7f7f7\"],[0.6,\"#e6f5d0\"],[0.7,\"#b8e186\"],[0.8,\"#7fbc41\"],[0.9,\"#4d9221\"],[1,\"#276419\"]]},\"xaxis\":{\"gridcolor\":\"white\",\"linecolor\":\"white\",\"ticks\":\"\",\"title\":{\"standoff\":15},\"zerolinecolor\":\"white\",\"automargin\":true,\"zerolinewidth\":2},\"yaxis\":{\"gridcolor\":\"white\",\"linecolor\":\"white\",\"ticks\":\"\",\"title\":{\"standoff\":15},\"zerolinecolor\":\"white\",\"automargin\":true,\"zerolinewidth\":2},\"scene\":{\"xaxis\":{\"backgroundcolor\":\"#E5ECF6\",\"gridcolor\":\"white\",\"linecolor\":\"white\",\"showbackground\":true,\"ticks\":\"\",\"zerolinecolor\":\"white\",\"gridwidth\":2},\"yaxis\":{\"backgroundcolor\":\"#E5ECF6\",\"gridcolor\":\"white\",\"linecolor\":\"white\",\"showbackground\":true,\"ticks\":\"\",\"zerolinecolor\":\"white\",\"gridwidth\":2},\"zaxis\":{\"backgroundcolor\":\"#E5ECF6\",\"gridcolor\":\"white\",\"linecolor\":\"white\",\"showbackground\":true,\"ticks\":\"\",\"zerolinecolor\":\"white\",\"gridwidth\":2}},\"shapedefaults\":{\"line\":{\"color\":\"#2a3f5f\"}},\"annotationdefaults\":{\"arrowcolor\":\"#2a3f5f\",\"arrowhead\":0,\"arrowwidth\":1},\"geo\":{\"bgcolor\":\"white\",\"landcolor\":\"#E5ECF6\",\"subunitcolor\":\"white\",\"showland\":true,\"showlakes\":true,\"lakecolor\":\"white\"},\"title\":{\"x\":0.05},\"mapbox\":{\"style\":\"light\"}}},\"legend\":{\"tracegroupgap\":0},\"title\":{\"text\":\"Top Selling by Europe Sales ( In Millions)\"},\"grid\":{\"columns\":2,\"rows\":2},\"margin\":{\"t\":40,\"l\":2,\"r\":2,\"b\":5}},                        {\"responsive\": true}                    ).then(function(){\n",
       "                            \n",
       "var gd = document.getElementById('ddd666cd-228c-42db-93fb-eec652883287');\n",
       "var x = new MutationObserver(function (mutations, observer) {{\n",
       "        var display = window.getComputedStyle(gd).display;\n",
       "        if (!display || display === 'none') {{\n",
       "            console.log([gd, 'removed!']);\n",
       "            Plotly.purge(gd);\n",
       "            observer.disconnect();\n",
       "        }}\n",
       "}});\n",
       "\n",
       "// Listen for the removal of the full notebook cells\n",
       "var notebookContainer = gd.closest('#notebook-container');\n",
       "if (notebookContainer) {{\n",
       "    x.observe(notebookContainer, {childList: true});\n",
       "}}\n",
       "\n",
       "// Listen for the clearing of the current output cell\n",
       "var outputEl = gd.closest('.output');\n",
       "if (outputEl) {{\n",
       "    x.observe(outputEl, {childList: true});\n",
       "}}\n",
       "\n",
       "                        })                };                });            </script>        </div>"
      ]
     },
     "metadata": {},
     "output_type": "display_data"
    },
    {
     "data": {
      "application/vnd.plotly.v1+json": {
       "config": {
        "plotlyServerURL": "https://plot.ly"
       },
       "data": [
        {
         "branchvalues": "total",
         "domain": {
          "x": [
           0,
           1
          ],
          "y": [
           0,
           1
          ]
         },
         "hovertemplate": "labels=%{label}<br>JP_Sales=%{value}<br>parent=%{parent}<br>id=%{id}<extra></extra>",
         "ids": [
          "Puzzle/Nintendo/GB",
          "Platform/Nintendo/NES",
          "Shooter/Nintendo/NES",
          "Platform/Nintendo/SNES",
          "Misc/Nintendo/Wii",
          "Platform/Nintendo/Wii",
          "Racing/Nintendo/Wii",
          "Sports/Nintendo/Wii",
          "Misc/Microsoft Game Studios/X360",
          "Misc/Microsoft Game Studios",
          "Misc/Nintendo",
          "Platform/Nintendo",
          "Puzzle/Nintendo",
          "Racing/Nintendo",
          "Shooter/Nintendo",
          "Sports/Nintendo",
          "Misc",
          "Platform",
          "Puzzle",
          "Racing",
          "Shooter",
          "Sports"
         ],
         "labels": [
          "GB",
          "NES",
          "NES",
          "SNES",
          "Wii",
          "Wii",
          "Wii",
          "Wii",
          "X360",
          "Microsoft Game Studios",
          "Nintendo",
          "Nintendo",
          "Nintendo",
          "Nintendo",
          "Nintendo",
          "Nintendo",
          "Misc",
          "Platform",
          "Puzzle",
          "Racing",
          "Shooter",
          "Sports"
         ],
         "name": "",
         "parents": [
          "Puzzle/Nintendo",
          "Platform/Nintendo",
          "Shooter/Nintendo",
          "Platform/Nintendo",
          "Misc/Nintendo",
          "Platform/Nintendo",
          "Racing/Nintendo",
          "Sports/Nintendo",
          "Misc/Microsoft Game Studios",
          "Misc",
          "Misc",
          "Platform",
          "Puzzle",
          "Racing",
          "Shooter",
          "Sports",
          "",
          "",
          "",
          "",
          "",
          ""
         ],
         "type": "sunburst",
         "values": [
          4.22,
          6.81,
          0.28,
          3.54,
          2.93,
          4.7,
          3.79,
          7.05,
          0.24,
          0.24,
          2.93,
          15.05,
          4.22,
          3.79,
          0.28,
          7.05,
          3.17,
          15.05,
          4.22,
          3.79,
          0.28,
          7.05
         ]
        }
       ],
       "layout": {
        "grid": {
         "columns": 2,
         "rows": 2
        },
        "legend": {
         "tracegroupgap": 0
        },
        "margin": {
         "b": 5,
         "l": 2,
         "r": 2,
         "t": 40
        },
        "template": {
         "data": {
          "bar": [
           {
            "error_x": {
             "color": "#2a3f5f"
            },
            "error_y": {
             "color": "#2a3f5f"
            },
            "marker": {
             "line": {
              "color": "#E5ECF6",
              "width": 0.5
             },
             "pattern": {
              "fillmode": "overlay",
              "size": 10,
              "solidity": 0.2
             }
            },
            "type": "bar"
           }
          ],
          "barpolar": [
           {
            "marker": {
             "line": {
              "color": "#E5ECF6",
              "width": 0.5
             },
             "pattern": {
              "fillmode": "overlay",
              "size": 10,
              "solidity": 0.2
             }
            },
            "type": "barpolar"
           }
          ],
          "carpet": [
           {
            "aaxis": {
             "endlinecolor": "#2a3f5f",
             "gridcolor": "white",
             "linecolor": "white",
             "minorgridcolor": "white",
             "startlinecolor": "#2a3f5f"
            },
            "baxis": {
             "endlinecolor": "#2a3f5f",
             "gridcolor": "white",
             "linecolor": "white",
             "minorgridcolor": "white",
             "startlinecolor": "#2a3f5f"
            },
            "type": "carpet"
           }
          ],
          "choropleth": [
           {
            "colorbar": {
             "outlinewidth": 0,
             "ticks": ""
            },
            "type": "choropleth"
           }
          ],
          "contour": [
           {
            "colorbar": {
             "outlinewidth": 0,
             "ticks": ""
            },
            "colorscale": [
             [
              0,
              "#0d0887"
             ],
             [
              0.1111111111111111,
              "#46039f"
             ],
             [
              0.2222222222222222,
              "#7201a8"
             ],
             [
              0.3333333333333333,
              "#9c179e"
             ],
             [
              0.4444444444444444,
              "#bd3786"
             ],
             [
              0.5555555555555556,
              "#d8576b"
             ],
             [
              0.6666666666666666,
              "#ed7953"
             ],
             [
              0.7777777777777778,
              "#fb9f3a"
             ],
             [
              0.8888888888888888,
              "#fdca26"
             ],
             [
              1,
              "#f0f921"
             ]
            ],
            "type": "contour"
           }
          ],
          "contourcarpet": [
           {
            "colorbar": {
             "outlinewidth": 0,
             "ticks": ""
            },
            "type": "contourcarpet"
           }
          ],
          "heatmap": [
           {
            "colorbar": {
             "outlinewidth": 0,
             "ticks": ""
            },
            "colorscale": [
             [
              0,
              "#0d0887"
             ],
             [
              0.1111111111111111,
              "#46039f"
             ],
             [
              0.2222222222222222,
              "#7201a8"
             ],
             [
              0.3333333333333333,
              "#9c179e"
             ],
             [
              0.4444444444444444,
              "#bd3786"
             ],
             [
              0.5555555555555556,
              "#d8576b"
             ],
             [
              0.6666666666666666,
              "#ed7953"
             ],
             [
              0.7777777777777778,
              "#fb9f3a"
             ],
             [
              0.8888888888888888,
              "#fdca26"
             ],
             [
              1,
              "#f0f921"
             ]
            ],
            "type": "heatmap"
           }
          ],
          "heatmapgl": [
           {
            "colorbar": {
             "outlinewidth": 0,
             "ticks": ""
            },
            "colorscale": [
             [
              0,
              "#0d0887"
             ],
             [
              0.1111111111111111,
              "#46039f"
             ],
             [
              0.2222222222222222,
              "#7201a8"
             ],
             [
              0.3333333333333333,
              "#9c179e"
             ],
             [
              0.4444444444444444,
              "#bd3786"
             ],
             [
              0.5555555555555556,
              "#d8576b"
             ],
             [
              0.6666666666666666,
              "#ed7953"
             ],
             [
              0.7777777777777778,
              "#fb9f3a"
             ],
             [
              0.8888888888888888,
              "#fdca26"
             ],
             [
              1,
              "#f0f921"
             ]
            ],
            "type": "heatmapgl"
           }
          ],
          "histogram": [
           {
            "marker": {
             "pattern": {
              "fillmode": "overlay",
              "size": 10,
              "solidity": 0.2
             }
            },
            "type": "histogram"
           }
          ],
          "histogram2d": [
           {
            "colorbar": {
             "outlinewidth": 0,
             "ticks": ""
            },
            "colorscale": [
             [
              0,
              "#0d0887"
             ],
             [
              0.1111111111111111,
              "#46039f"
             ],
             [
              0.2222222222222222,
              "#7201a8"
             ],
             [
              0.3333333333333333,
              "#9c179e"
             ],
             [
              0.4444444444444444,
              "#bd3786"
             ],
             [
              0.5555555555555556,
              "#d8576b"
             ],
             [
              0.6666666666666666,
              "#ed7953"
             ],
             [
              0.7777777777777778,
              "#fb9f3a"
             ],
             [
              0.8888888888888888,
              "#fdca26"
             ],
             [
              1,
              "#f0f921"
             ]
            ],
            "type": "histogram2d"
           }
          ],
          "histogram2dcontour": [
           {
            "colorbar": {
             "outlinewidth": 0,
             "ticks": ""
            },
            "colorscale": [
             [
              0,
              "#0d0887"
             ],
             [
              0.1111111111111111,
              "#46039f"
             ],
             [
              0.2222222222222222,
              "#7201a8"
             ],
             [
              0.3333333333333333,
              "#9c179e"
             ],
             [
              0.4444444444444444,
              "#bd3786"
             ],
             [
              0.5555555555555556,
              "#d8576b"
             ],
             [
              0.6666666666666666,
              "#ed7953"
             ],
             [
              0.7777777777777778,
              "#fb9f3a"
             ],
             [
              0.8888888888888888,
              "#fdca26"
             ],
             [
              1,
              "#f0f921"
             ]
            ],
            "type": "histogram2dcontour"
           }
          ],
          "mesh3d": [
           {
            "colorbar": {
             "outlinewidth": 0,
             "ticks": ""
            },
            "type": "mesh3d"
           }
          ],
          "parcoords": [
           {
            "line": {
             "colorbar": {
              "outlinewidth": 0,
              "ticks": ""
             }
            },
            "type": "parcoords"
           }
          ],
          "pie": [
           {
            "automargin": true,
            "type": "pie"
           }
          ],
          "scatter": [
           {
            "fillpattern": {
             "fillmode": "overlay",
             "size": 10,
             "solidity": 0.2
            },
            "type": "scatter"
           }
          ],
          "scatter3d": [
           {
            "line": {
             "colorbar": {
              "outlinewidth": 0,
              "ticks": ""
             }
            },
            "marker": {
             "colorbar": {
              "outlinewidth": 0,
              "ticks": ""
             }
            },
            "type": "scatter3d"
           }
          ],
          "scattercarpet": [
           {
            "marker": {
             "colorbar": {
              "outlinewidth": 0,
              "ticks": ""
             }
            },
            "type": "scattercarpet"
           }
          ],
          "scattergeo": [
           {
            "marker": {
             "colorbar": {
              "outlinewidth": 0,
              "ticks": ""
             }
            },
            "type": "scattergeo"
           }
          ],
          "scattergl": [
           {
            "marker": {
             "colorbar": {
              "outlinewidth": 0,
              "ticks": ""
             }
            },
            "type": "scattergl"
           }
          ],
          "scattermapbox": [
           {
            "marker": {
             "colorbar": {
              "outlinewidth": 0,
              "ticks": ""
             }
            },
            "type": "scattermapbox"
           }
          ],
          "scatterpolar": [
           {
            "marker": {
             "colorbar": {
              "outlinewidth": 0,
              "ticks": ""
             }
            },
            "type": "scatterpolar"
           }
          ],
          "scatterpolargl": [
           {
            "marker": {
             "colorbar": {
              "outlinewidth": 0,
              "ticks": ""
             }
            },
            "type": "scatterpolargl"
           }
          ],
          "scatterternary": [
           {
            "marker": {
             "colorbar": {
              "outlinewidth": 0,
              "ticks": ""
             }
            },
            "type": "scatterternary"
           }
          ],
          "surface": [
           {
            "colorbar": {
             "outlinewidth": 0,
             "ticks": ""
            },
            "colorscale": [
             [
              0,
              "#0d0887"
             ],
             [
              0.1111111111111111,
              "#46039f"
             ],
             [
              0.2222222222222222,
              "#7201a8"
             ],
             [
              0.3333333333333333,
              "#9c179e"
             ],
             [
              0.4444444444444444,
              "#bd3786"
             ],
             [
              0.5555555555555556,
              "#d8576b"
             ],
             [
              0.6666666666666666,
              "#ed7953"
             ],
             [
              0.7777777777777778,
              "#fb9f3a"
             ],
             [
              0.8888888888888888,
              "#fdca26"
             ],
             [
              1,
              "#f0f921"
             ]
            ],
            "type": "surface"
           }
          ],
          "table": [
           {
            "cells": {
             "fill": {
              "color": "#EBF0F8"
             },
             "line": {
              "color": "white"
             }
            },
            "header": {
             "fill": {
              "color": "#C8D4E3"
             },
             "line": {
              "color": "white"
             }
            },
            "type": "table"
           }
          ]
         },
         "layout": {
          "annotationdefaults": {
           "arrowcolor": "#2a3f5f",
           "arrowhead": 0,
           "arrowwidth": 1
          },
          "autotypenumbers": "strict",
          "coloraxis": {
           "colorbar": {
            "outlinewidth": 0,
            "ticks": ""
           }
          },
          "colorscale": {
           "diverging": [
            [
             0,
             "#8e0152"
            ],
            [
             0.1,
             "#c51b7d"
            ],
            [
             0.2,
             "#de77ae"
            ],
            [
             0.3,
             "#f1b6da"
            ],
            [
             0.4,
             "#fde0ef"
            ],
            [
             0.5,
             "#f7f7f7"
            ],
            [
             0.6,
             "#e6f5d0"
            ],
            [
             0.7,
             "#b8e186"
            ],
            [
             0.8,
             "#7fbc41"
            ],
            [
             0.9,
             "#4d9221"
            ],
            [
             1,
             "#276419"
            ]
           ],
           "sequential": [
            [
             0,
             "#0d0887"
            ],
            [
             0.1111111111111111,
             "#46039f"
            ],
            [
             0.2222222222222222,
             "#7201a8"
            ],
            [
             0.3333333333333333,
             "#9c179e"
            ],
            [
             0.4444444444444444,
             "#bd3786"
            ],
            [
             0.5555555555555556,
             "#d8576b"
            ],
            [
             0.6666666666666666,
             "#ed7953"
            ],
            [
             0.7777777777777778,
             "#fb9f3a"
            ],
            [
             0.8888888888888888,
             "#fdca26"
            ],
            [
             1,
             "#f0f921"
            ]
           ],
           "sequentialminus": [
            [
             0,
             "#0d0887"
            ],
            [
             0.1111111111111111,
             "#46039f"
            ],
            [
             0.2222222222222222,
             "#7201a8"
            ],
            [
             0.3333333333333333,
             "#9c179e"
            ],
            [
             0.4444444444444444,
             "#bd3786"
            ],
            [
             0.5555555555555556,
             "#d8576b"
            ],
            [
             0.6666666666666666,
             "#ed7953"
            ],
            [
             0.7777777777777778,
             "#fb9f3a"
            ],
            [
             0.8888888888888888,
             "#fdca26"
            ],
            [
             1,
             "#f0f921"
            ]
           ]
          },
          "colorway": [
           "#636efa",
           "#EF553B",
           "#00cc96",
           "#ab63fa",
           "#FFA15A",
           "#19d3f3",
           "#FF6692",
           "#B6E880",
           "#FF97FF",
           "#FECB52"
          ],
          "font": {
           "color": "#2a3f5f"
          },
          "geo": {
           "bgcolor": "white",
           "lakecolor": "white",
           "landcolor": "#E5ECF6",
           "showlakes": true,
           "showland": true,
           "subunitcolor": "white"
          },
          "hoverlabel": {
           "align": "left"
          },
          "hovermode": "closest",
          "mapbox": {
           "style": "light"
          },
          "paper_bgcolor": "white",
          "plot_bgcolor": "#E5ECF6",
          "polar": {
           "angularaxis": {
            "gridcolor": "white",
            "linecolor": "white",
            "ticks": ""
           },
           "bgcolor": "#E5ECF6",
           "radialaxis": {
            "gridcolor": "white",
            "linecolor": "white",
            "ticks": ""
           }
          },
          "scene": {
           "xaxis": {
            "backgroundcolor": "#E5ECF6",
            "gridcolor": "white",
            "gridwidth": 2,
            "linecolor": "white",
            "showbackground": true,
            "ticks": "",
            "zerolinecolor": "white"
           },
           "yaxis": {
            "backgroundcolor": "#E5ECF6",
            "gridcolor": "white",
            "gridwidth": 2,
            "linecolor": "white",
            "showbackground": true,
            "ticks": "",
            "zerolinecolor": "white"
           },
           "zaxis": {
            "backgroundcolor": "#E5ECF6",
            "gridcolor": "white",
            "gridwidth": 2,
            "linecolor": "white",
            "showbackground": true,
            "ticks": "",
            "zerolinecolor": "white"
           }
          },
          "shapedefaults": {
           "line": {
            "color": "#2a3f5f"
           }
          },
          "ternary": {
           "aaxis": {
            "gridcolor": "white",
            "linecolor": "white",
            "ticks": ""
           },
           "baxis": {
            "gridcolor": "white",
            "linecolor": "white",
            "ticks": ""
           },
           "bgcolor": "#E5ECF6",
           "caxis": {
            "gridcolor": "white",
            "linecolor": "white",
            "ticks": ""
           }
          },
          "title": {
           "x": 0.05
          },
          "xaxis": {
           "automargin": true,
           "gridcolor": "white",
           "linecolor": "white",
           "ticks": "",
           "title": {
            "standoff": 15
           },
           "zerolinecolor": "white",
           "zerolinewidth": 2
          },
          "yaxis": {
           "automargin": true,
           "gridcolor": "white",
           "linecolor": "white",
           "ticks": "",
           "title": {
            "standoff": 15
           },
           "zerolinecolor": "white",
           "zerolinewidth": 2
          }
         }
        },
        "title": {
         "text": "Top Selling by Japan Sales ( In Millions)"
        }
       }
      },
      "text/html": [
       "<div>                            <div id=\"6053f94d-2b47-4167-92da-ea8869d80aa4\" class=\"plotly-graph-div\" style=\"height:525px; width:100%;\"></div>            <script type=\"text/javascript\">                require([\"plotly\"], function(Plotly) {                    window.PLOTLYENV=window.PLOTLYENV || {};                                    if (document.getElementById(\"6053f94d-2b47-4167-92da-ea8869d80aa4\")) {                    Plotly.newPlot(                        \"6053f94d-2b47-4167-92da-ea8869d80aa4\",                        [{\"branchvalues\":\"total\",\"domain\":{\"x\":[0.0,1.0],\"y\":[0.0,1.0]},\"hovertemplate\":\"labels=%{label}<br>JP_Sales=%{value}<br>parent=%{parent}<br>id=%{id}<extra></extra>\",\"ids\":[\"Puzzle/Nintendo/GB\",\"Platform/Nintendo/NES\",\"Shooter/Nintendo/NES\",\"Platform/Nintendo/SNES\",\"Misc/Nintendo/Wii\",\"Platform/Nintendo/Wii\",\"Racing/Nintendo/Wii\",\"Sports/Nintendo/Wii\",\"Misc/Microsoft Game Studios/X360\",\"Misc/Microsoft Game Studios\",\"Misc/Nintendo\",\"Platform/Nintendo\",\"Puzzle/Nintendo\",\"Racing/Nintendo\",\"Shooter/Nintendo\",\"Sports/Nintendo\",\"Misc\",\"Platform\",\"Puzzle\",\"Racing\",\"Shooter\",\"Sports\"],\"labels\":[\"GB\",\"NES\",\"NES\",\"SNES\",\"Wii\",\"Wii\",\"Wii\",\"Wii\",\"X360\",\"Microsoft Game Studios\",\"Nintendo\",\"Nintendo\",\"Nintendo\",\"Nintendo\",\"Nintendo\",\"Nintendo\",\"Misc\",\"Platform\",\"Puzzle\",\"Racing\",\"Shooter\",\"Sports\"],\"name\":\"\",\"parents\":[\"Puzzle/Nintendo\",\"Platform/Nintendo\",\"Shooter/Nintendo\",\"Platform/Nintendo\",\"Misc/Nintendo\",\"Platform/Nintendo\",\"Racing/Nintendo\",\"Sports/Nintendo\",\"Misc/Microsoft Game Studios\",\"Misc\",\"Misc\",\"Platform\",\"Puzzle\",\"Racing\",\"Shooter\",\"Sports\",\"\",\"\",\"\",\"\",\"\",\"\"],\"values\":[4.22,6.81,0.28,3.54,2.93,4.7,3.79,7.05,0.24,0.24,2.93,15.05,4.22,3.79,0.28,7.05,3.17,15.05,4.22,3.79,0.28,7.05],\"type\":\"sunburst\"}],                        {\"template\":{\"data\":{\"histogram2dcontour\":[{\"type\":\"histogram2dcontour\",\"colorbar\":{\"outlinewidth\":0,\"ticks\":\"\"},\"colorscale\":[[0.0,\"#0d0887\"],[0.1111111111111111,\"#46039f\"],[0.2222222222222222,\"#7201a8\"],[0.3333333333333333,\"#9c179e\"],[0.4444444444444444,\"#bd3786\"],[0.5555555555555556,\"#d8576b\"],[0.6666666666666666,\"#ed7953\"],[0.7777777777777778,\"#fb9f3a\"],[0.8888888888888888,\"#fdca26\"],[1.0,\"#f0f921\"]]}],\"choropleth\":[{\"type\":\"choropleth\",\"colorbar\":{\"outlinewidth\":0,\"ticks\":\"\"}}],\"histogram2d\":[{\"type\":\"histogram2d\",\"colorbar\":{\"outlinewidth\":0,\"ticks\":\"\"},\"colorscale\":[[0.0,\"#0d0887\"],[0.1111111111111111,\"#46039f\"],[0.2222222222222222,\"#7201a8\"],[0.3333333333333333,\"#9c179e\"],[0.4444444444444444,\"#bd3786\"],[0.5555555555555556,\"#d8576b\"],[0.6666666666666666,\"#ed7953\"],[0.7777777777777778,\"#fb9f3a\"],[0.8888888888888888,\"#fdca26\"],[1.0,\"#f0f921\"]]}],\"heatmap\":[{\"type\":\"heatmap\",\"colorbar\":{\"outlinewidth\":0,\"ticks\":\"\"},\"colorscale\":[[0.0,\"#0d0887\"],[0.1111111111111111,\"#46039f\"],[0.2222222222222222,\"#7201a8\"],[0.3333333333333333,\"#9c179e\"],[0.4444444444444444,\"#bd3786\"],[0.5555555555555556,\"#d8576b\"],[0.6666666666666666,\"#ed7953\"],[0.7777777777777778,\"#fb9f3a\"],[0.8888888888888888,\"#fdca26\"],[1.0,\"#f0f921\"]]}],\"heatmapgl\":[{\"type\":\"heatmapgl\",\"colorbar\":{\"outlinewidth\":0,\"ticks\":\"\"},\"colorscale\":[[0.0,\"#0d0887\"],[0.1111111111111111,\"#46039f\"],[0.2222222222222222,\"#7201a8\"],[0.3333333333333333,\"#9c179e\"],[0.4444444444444444,\"#bd3786\"],[0.5555555555555556,\"#d8576b\"],[0.6666666666666666,\"#ed7953\"],[0.7777777777777778,\"#fb9f3a\"],[0.8888888888888888,\"#fdca26\"],[1.0,\"#f0f921\"]]}],\"contourcarpet\":[{\"type\":\"contourcarpet\",\"colorbar\":{\"outlinewidth\":0,\"ticks\":\"\"}}],\"contour\":[{\"type\":\"contour\",\"colorbar\":{\"outlinewidth\":0,\"ticks\":\"\"},\"colorscale\":[[0.0,\"#0d0887\"],[0.1111111111111111,\"#46039f\"],[0.2222222222222222,\"#7201a8\"],[0.3333333333333333,\"#9c179e\"],[0.4444444444444444,\"#bd3786\"],[0.5555555555555556,\"#d8576b\"],[0.6666666666666666,\"#ed7953\"],[0.7777777777777778,\"#fb9f3a\"],[0.8888888888888888,\"#fdca26\"],[1.0,\"#f0f921\"]]}],\"surface\":[{\"type\":\"surface\",\"colorbar\":{\"outlinewidth\":0,\"ticks\":\"\"},\"colorscale\":[[0.0,\"#0d0887\"],[0.1111111111111111,\"#46039f\"],[0.2222222222222222,\"#7201a8\"],[0.3333333333333333,\"#9c179e\"],[0.4444444444444444,\"#bd3786\"],[0.5555555555555556,\"#d8576b\"],[0.6666666666666666,\"#ed7953\"],[0.7777777777777778,\"#fb9f3a\"],[0.8888888888888888,\"#fdca26\"],[1.0,\"#f0f921\"]]}],\"mesh3d\":[{\"type\":\"mesh3d\",\"colorbar\":{\"outlinewidth\":0,\"ticks\":\"\"}}],\"scatter\":[{\"fillpattern\":{\"fillmode\":\"overlay\",\"size\":10,\"solidity\":0.2},\"type\":\"scatter\"}],\"parcoords\":[{\"type\":\"parcoords\",\"line\":{\"colorbar\":{\"outlinewidth\":0,\"ticks\":\"\"}}}],\"scatterpolargl\":[{\"type\":\"scatterpolargl\",\"marker\":{\"colorbar\":{\"outlinewidth\":0,\"ticks\":\"\"}}}],\"bar\":[{\"error_x\":{\"color\":\"#2a3f5f\"},\"error_y\":{\"color\":\"#2a3f5f\"},\"marker\":{\"line\":{\"color\":\"#E5ECF6\",\"width\":0.5},\"pattern\":{\"fillmode\":\"overlay\",\"size\":10,\"solidity\":0.2}},\"type\":\"bar\"}],\"scattergeo\":[{\"type\":\"scattergeo\",\"marker\":{\"colorbar\":{\"outlinewidth\":0,\"ticks\":\"\"}}}],\"scatterpolar\":[{\"type\":\"scatterpolar\",\"marker\":{\"colorbar\":{\"outlinewidth\":0,\"ticks\":\"\"}}}],\"histogram\":[{\"marker\":{\"pattern\":{\"fillmode\":\"overlay\",\"size\":10,\"solidity\":0.2}},\"type\":\"histogram\"}],\"scattergl\":[{\"type\":\"scattergl\",\"marker\":{\"colorbar\":{\"outlinewidth\":0,\"ticks\":\"\"}}}],\"scatter3d\":[{\"type\":\"scatter3d\",\"line\":{\"colorbar\":{\"outlinewidth\":0,\"ticks\":\"\"}},\"marker\":{\"colorbar\":{\"outlinewidth\":0,\"ticks\":\"\"}}}],\"scattermapbox\":[{\"type\":\"scattermapbox\",\"marker\":{\"colorbar\":{\"outlinewidth\":0,\"ticks\":\"\"}}}],\"scatterternary\":[{\"type\":\"scatterternary\",\"marker\":{\"colorbar\":{\"outlinewidth\":0,\"ticks\":\"\"}}}],\"scattercarpet\":[{\"type\":\"scattercarpet\",\"marker\":{\"colorbar\":{\"outlinewidth\":0,\"ticks\":\"\"}}}],\"carpet\":[{\"aaxis\":{\"endlinecolor\":\"#2a3f5f\",\"gridcolor\":\"white\",\"linecolor\":\"white\",\"minorgridcolor\":\"white\",\"startlinecolor\":\"#2a3f5f\"},\"baxis\":{\"endlinecolor\":\"#2a3f5f\",\"gridcolor\":\"white\",\"linecolor\":\"white\",\"minorgridcolor\":\"white\",\"startlinecolor\":\"#2a3f5f\"},\"type\":\"carpet\"}],\"table\":[{\"cells\":{\"fill\":{\"color\":\"#EBF0F8\"},\"line\":{\"color\":\"white\"}},\"header\":{\"fill\":{\"color\":\"#C8D4E3\"},\"line\":{\"color\":\"white\"}},\"type\":\"table\"}],\"barpolar\":[{\"marker\":{\"line\":{\"color\":\"#E5ECF6\",\"width\":0.5},\"pattern\":{\"fillmode\":\"overlay\",\"size\":10,\"solidity\":0.2}},\"type\":\"barpolar\"}],\"pie\":[{\"automargin\":true,\"type\":\"pie\"}]},\"layout\":{\"autotypenumbers\":\"strict\",\"colorway\":[\"#636efa\",\"#EF553B\",\"#00cc96\",\"#ab63fa\",\"#FFA15A\",\"#19d3f3\",\"#FF6692\",\"#B6E880\",\"#FF97FF\",\"#FECB52\"],\"font\":{\"color\":\"#2a3f5f\"},\"hovermode\":\"closest\",\"hoverlabel\":{\"align\":\"left\"},\"paper_bgcolor\":\"white\",\"plot_bgcolor\":\"#E5ECF6\",\"polar\":{\"bgcolor\":\"#E5ECF6\",\"angularaxis\":{\"gridcolor\":\"white\",\"linecolor\":\"white\",\"ticks\":\"\"},\"radialaxis\":{\"gridcolor\":\"white\",\"linecolor\":\"white\",\"ticks\":\"\"}},\"ternary\":{\"bgcolor\":\"#E5ECF6\",\"aaxis\":{\"gridcolor\":\"white\",\"linecolor\":\"white\",\"ticks\":\"\"},\"baxis\":{\"gridcolor\":\"white\",\"linecolor\":\"white\",\"ticks\":\"\"},\"caxis\":{\"gridcolor\":\"white\",\"linecolor\":\"white\",\"ticks\":\"\"}},\"coloraxis\":{\"colorbar\":{\"outlinewidth\":0,\"ticks\":\"\"}},\"colorscale\":{\"sequential\":[[0.0,\"#0d0887\"],[0.1111111111111111,\"#46039f\"],[0.2222222222222222,\"#7201a8\"],[0.3333333333333333,\"#9c179e\"],[0.4444444444444444,\"#bd3786\"],[0.5555555555555556,\"#d8576b\"],[0.6666666666666666,\"#ed7953\"],[0.7777777777777778,\"#fb9f3a\"],[0.8888888888888888,\"#fdca26\"],[1.0,\"#f0f921\"]],\"sequentialminus\":[[0.0,\"#0d0887\"],[0.1111111111111111,\"#46039f\"],[0.2222222222222222,\"#7201a8\"],[0.3333333333333333,\"#9c179e\"],[0.4444444444444444,\"#bd3786\"],[0.5555555555555556,\"#d8576b\"],[0.6666666666666666,\"#ed7953\"],[0.7777777777777778,\"#fb9f3a\"],[0.8888888888888888,\"#fdca26\"],[1.0,\"#f0f921\"]],\"diverging\":[[0,\"#8e0152\"],[0.1,\"#c51b7d\"],[0.2,\"#de77ae\"],[0.3,\"#f1b6da\"],[0.4,\"#fde0ef\"],[0.5,\"#f7f7f7\"],[0.6,\"#e6f5d0\"],[0.7,\"#b8e186\"],[0.8,\"#7fbc41\"],[0.9,\"#4d9221\"],[1,\"#276419\"]]},\"xaxis\":{\"gridcolor\":\"white\",\"linecolor\":\"white\",\"ticks\":\"\",\"title\":{\"standoff\":15},\"zerolinecolor\":\"white\",\"automargin\":true,\"zerolinewidth\":2},\"yaxis\":{\"gridcolor\":\"white\",\"linecolor\":\"white\",\"ticks\":\"\",\"title\":{\"standoff\":15},\"zerolinecolor\":\"white\",\"automargin\":true,\"zerolinewidth\":2},\"scene\":{\"xaxis\":{\"backgroundcolor\":\"#E5ECF6\",\"gridcolor\":\"white\",\"linecolor\":\"white\",\"showbackground\":true,\"ticks\":\"\",\"zerolinecolor\":\"white\",\"gridwidth\":2},\"yaxis\":{\"backgroundcolor\":\"#E5ECF6\",\"gridcolor\":\"white\",\"linecolor\":\"white\",\"showbackground\":true,\"ticks\":\"\",\"zerolinecolor\":\"white\",\"gridwidth\":2},\"zaxis\":{\"backgroundcolor\":\"#E5ECF6\",\"gridcolor\":\"white\",\"linecolor\":\"white\",\"showbackground\":true,\"ticks\":\"\",\"zerolinecolor\":\"white\",\"gridwidth\":2}},\"shapedefaults\":{\"line\":{\"color\":\"#2a3f5f\"}},\"annotationdefaults\":{\"arrowcolor\":\"#2a3f5f\",\"arrowhead\":0,\"arrowwidth\":1},\"geo\":{\"bgcolor\":\"white\",\"landcolor\":\"#E5ECF6\",\"subunitcolor\":\"white\",\"showland\":true,\"showlakes\":true,\"lakecolor\":\"white\"},\"title\":{\"x\":0.05},\"mapbox\":{\"style\":\"light\"}}},\"legend\":{\"tracegroupgap\":0},\"title\":{\"text\":\"Top Selling by Japan Sales ( In Millions)\"},\"grid\":{\"columns\":2,\"rows\":2},\"margin\":{\"t\":40,\"l\":2,\"r\":2,\"b\":5}},                        {\"responsive\": true}                    ).then(function(){\n",
       "                            \n",
       "var gd = document.getElementById('6053f94d-2b47-4167-92da-ea8869d80aa4');\n",
       "var x = new MutationObserver(function (mutations, observer) {{\n",
       "        var display = window.getComputedStyle(gd).display;\n",
       "        if (!display || display === 'none') {{\n",
       "            console.log([gd, 'removed!']);\n",
       "            Plotly.purge(gd);\n",
       "            observer.disconnect();\n",
       "        }}\n",
       "}});\n",
       "\n",
       "// Listen for the removal of the full notebook cells\n",
       "var notebookContainer = gd.closest('#notebook-container');\n",
       "if (notebookContainer) {{\n",
       "    x.observe(notebookContainer, {childList: true});\n",
       "}}\n",
       "\n",
       "// Listen for the clearing of the current output cell\n",
       "var outputEl = gd.closest('.output');\n",
       "if (outputEl) {{\n",
       "    x.observe(outputEl, {childList: true});\n",
       "}}\n",
       "\n",
       "                        })                };                });            </script>        </div>"
      ]
     },
     "metadata": {},
     "output_type": "display_data"
    },
    {
     "data": {
      "application/vnd.plotly.v1+json": {
       "config": {
        "plotlyServerURL": "https://plot.ly"
       },
       "data": [
        {
         "branchvalues": "total",
         "domain": {
          "x": [
           0,
           1
          ],
          "y": [
           0,
           1
          ]
         },
         "hovertemplate": "labels=%{label}<br>Other_Sales=%{value}<br>parent=%{parent}<br>id=%{id}<extra></extra>",
         "ids": [
          "Puzzle/Nintendo/GB",
          "Platform/Nintendo/NES",
          "Shooter/Nintendo/NES",
          "Platform/Nintendo/SNES",
          "Misc/Nintendo/Wii",
          "Platform/Nintendo/Wii",
          "Racing/Nintendo/Wii",
          "Sports/Nintendo/Wii",
          "Misc/Microsoft Game Studios/X360",
          "Misc/Microsoft Game Studios",
          "Misc/Nintendo",
          "Platform/Nintendo",
          "Puzzle/Nintendo",
          "Racing/Nintendo",
          "Shooter/Nintendo",
          "Sports/Nintendo",
          "Misc",
          "Platform",
          "Puzzle",
          "Racing",
          "Shooter",
          "Sports"
         ],
         "labels": [
          "GB",
          "NES",
          "NES",
          "SNES",
          "Wii",
          "Wii",
          "Wii",
          "Wii",
          "X360",
          "Microsoft Game Studios",
          "Nintendo",
          "Nintendo",
          "Nintendo",
          "Nintendo",
          "Nintendo",
          "Nintendo",
          "Misc",
          "Platform",
          "Puzzle",
          "Racing",
          "Shooter",
          "Sports"
         ],
         "name": "",
         "parents": [
          "Puzzle/Nintendo",
          "Platform/Nintendo",
          "Shooter/Nintendo",
          "Platform/Nintendo",
          "Misc/Nintendo",
          "Platform/Nintendo",
          "Racing/Nintendo",
          "Sports/Nintendo",
          "Misc/Microsoft Game Studios",
          "Misc",
          "Misc",
          "Platform",
          "Puzzle",
          "Racing",
          "Shooter",
          "Sports",
          "",
          "",
          "",
          "",
          "",
          ""
         ],
         "type": "sunburst",
         "values": [
          0.58,
          0.77,
          0.47,
          0.55,
          2.85,
          2.26,
          3.31,
          11.420000000000002,
          1.67,
          1.67,
          2.85,
          3.58,
          0.58,
          3.31,
          0.47,
          11.420000000000002,
          4.52,
          3.58,
          0.58,
          3.31,
          0.47,
          11.420000000000002
         ]
        }
       ],
       "layout": {
        "grid": {
         "columns": 2,
         "rows": 2
        },
        "legend": {
         "tracegroupgap": 0
        },
        "margin": {
         "b": 5,
         "l": 2,
         "r": 2,
         "t": 40
        },
        "template": {
         "data": {
          "bar": [
           {
            "error_x": {
             "color": "#2a3f5f"
            },
            "error_y": {
             "color": "#2a3f5f"
            },
            "marker": {
             "line": {
              "color": "#E5ECF6",
              "width": 0.5
             },
             "pattern": {
              "fillmode": "overlay",
              "size": 10,
              "solidity": 0.2
             }
            },
            "type": "bar"
           }
          ],
          "barpolar": [
           {
            "marker": {
             "line": {
              "color": "#E5ECF6",
              "width": 0.5
             },
             "pattern": {
              "fillmode": "overlay",
              "size": 10,
              "solidity": 0.2
             }
            },
            "type": "barpolar"
           }
          ],
          "carpet": [
           {
            "aaxis": {
             "endlinecolor": "#2a3f5f",
             "gridcolor": "white",
             "linecolor": "white",
             "minorgridcolor": "white",
             "startlinecolor": "#2a3f5f"
            },
            "baxis": {
             "endlinecolor": "#2a3f5f",
             "gridcolor": "white",
             "linecolor": "white",
             "minorgridcolor": "white",
             "startlinecolor": "#2a3f5f"
            },
            "type": "carpet"
           }
          ],
          "choropleth": [
           {
            "colorbar": {
             "outlinewidth": 0,
             "ticks": ""
            },
            "type": "choropleth"
           }
          ],
          "contour": [
           {
            "colorbar": {
             "outlinewidth": 0,
             "ticks": ""
            },
            "colorscale": [
             [
              0,
              "#0d0887"
             ],
             [
              0.1111111111111111,
              "#46039f"
             ],
             [
              0.2222222222222222,
              "#7201a8"
             ],
             [
              0.3333333333333333,
              "#9c179e"
             ],
             [
              0.4444444444444444,
              "#bd3786"
             ],
             [
              0.5555555555555556,
              "#d8576b"
             ],
             [
              0.6666666666666666,
              "#ed7953"
             ],
             [
              0.7777777777777778,
              "#fb9f3a"
             ],
             [
              0.8888888888888888,
              "#fdca26"
             ],
             [
              1,
              "#f0f921"
             ]
            ],
            "type": "contour"
           }
          ],
          "contourcarpet": [
           {
            "colorbar": {
             "outlinewidth": 0,
             "ticks": ""
            },
            "type": "contourcarpet"
           }
          ],
          "heatmap": [
           {
            "colorbar": {
             "outlinewidth": 0,
             "ticks": ""
            },
            "colorscale": [
             [
              0,
              "#0d0887"
             ],
             [
              0.1111111111111111,
              "#46039f"
             ],
             [
              0.2222222222222222,
              "#7201a8"
             ],
             [
              0.3333333333333333,
              "#9c179e"
             ],
             [
              0.4444444444444444,
              "#bd3786"
             ],
             [
              0.5555555555555556,
              "#d8576b"
             ],
             [
              0.6666666666666666,
              "#ed7953"
             ],
             [
              0.7777777777777778,
              "#fb9f3a"
             ],
             [
              0.8888888888888888,
              "#fdca26"
             ],
             [
              1,
              "#f0f921"
             ]
            ],
            "type": "heatmap"
           }
          ],
          "heatmapgl": [
           {
            "colorbar": {
             "outlinewidth": 0,
             "ticks": ""
            },
            "colorscale": [
             [
              0,
              "#0d0887"
             ],
             [
              0.1111111111111111,
              "#46039f"
             ],
             [
              0.2222222222222222,
              "#7201a8"
             ],
             [
              0.3333333333333333,
              "#9c179e"
             ],
             [
              0.4444444444444444,
              "#bd3786"
             ],
             [
              0.5555555555555556,
              "#d8576b"
             ],
             [
              0.6666666666666666,
              "#ed7953"
             ],
             [
              0.7777777777777778,
              "#fb9f3a"
             ],
             [
              0.8888888888888888,
              "#fdca26"
             ],
             [
              1,
              "#f0f921"
             ]
            ],
            "type": "heatmapgl"
           }
          ],
          "histogram": [
           {
            "marker": {
             "pattern": {
              "fillmode": "overlay",
              "size": 10,
              "solidity": 0.2
             }
            },
            "type": "histogram"
           }
          ],
          "histogram2d": [
           {
            "colorbar": {
             "outlinewidth": 0,
             "ticks": ""
            },
            "colorscale": [
             [
              0,
              "#0d0887"
             ],
             [
              0.1111111111111111,
              "#46039f"
             ],
             [
              0.2222222222222222,
              "#7201a8"
             ],
             [
              0.3333333333333333,
              "#9c179e"
             ],
             [
              0.4444444444444444,
              "#bd3786"
             ],
             [
              0.5555555555555556,
              "#d8576b"
             ],
             [
              0.6666666666666666,
              "#ed7953"
             ],
             [
              0.7777777777777778,
              "#fb9f3a"
             ],
             [
              0.8888888888888888,
              "#fdca26"
             ],
             [
              1,
              "#f0f921"
             ]
            ],
            "type": "histogram2d"
           }
          ],
          "histogram2dcontour": [
           {
            "colorbar": {
             "outlinewidth": 0,
             "ticks": ""
            },
            "colorscale": [
             [
              0,
              "#0d0887"
             ],
             [
              0.1111111111111111,
              "#46039f"
             ],
             [
              0.2222222222222222,
              "#7201a8"
             ],
             [
              0.3333333333333333,
              "#9c179e"
             ],
             [
              0.4444444444444444,
              "#bd3786"
             ],
             [
              0.5555555555555556,
              "#d8576b"
             ],
             [
              0.6666666666666666,
              "#ed7953"
             ],
             [
              0.7777777777777778,
              "#fb9f3a"
             ],
             [
              0.8888888888888888,
              "#fdca26"
             ],
             [
              1,
              "#f0f921"
             ]
            ],
            "type": "histogram2dcontour"
           }
          ],
          "mesh3d": [
           {
            "colorbar": {
             "outlinewidth": 0,
             "ticks": ""
            },
            "type": "mesh3d"
           }
          ],
          "parcoords": [
           {
            "line": {
             "colorbar": {
              "outlinewidth": 0,
              "ticks": ""
             }
            },
            "type": "parcoords"
           }
          ],
          "pie": [
           {
            "automargin": true,
            "type": "pie"
           }
          ],
          "scatter": [
           {
            "fillpattern": {
             "fillmode": "overlay",
             "size": 10,
             "solidity": 0.2
            },
            "type": "scatter"
           }
          ],
          "scatter3d": [
           {
            "line": {
             "colorbar": {
              "outlinewidth": 0,
              "ticks": ""
             }
            },
            "marker": {
             "colorbar": {
              "outlinewidth": 0,
              "ticks": ""
             }
            },
            "type": "scatter3d"
           }
          ],
          "scattercarpet": [
           {
            "marker": {
             "colorbar": {
              "outlinewidth": 0,
              "ticks": ""
             }
            },
            "type": "scattercarpet"
           }
          ],
          "scattergeo": [
           {
            "marker": {
             "colorbar": {
              "outlinewidth": 0,
              "ticks": ""
             }
            },
            "type": "scattergeo"
           }
          ],
          "scattergl": [
           {
            "marker": {
             "colorbar": {
              "outlinewidth": 0,
              "ticks": ""
             }
            },
            "type": "scattergl"
           }
          ],
          "scattermapbox": [
           {
            "marker": {
             "colorbar": {
              "outlinewidth": 0,
              "ticks": ""
             }
            },
            "type": "scattermapbox"
           }
          ],
          "scatterpolar": [
           {
            "marker": {
             "colorbar": {
              "outlinewidth": 0,
              "ticks": ""
             }
            },
            "type": "scatterpolar"
           }
          ],
          "scatterpolargl": [
           {
            "marker": {
             "colorbar": {
              "outlinewidth": 0,
              "ticks": ""
             }
            },
            "type": "scatterpolargl"
           }
          ],
          "scatterternary": [
           {
            "marker": {
             "colorbar": {
              "outlinewidth": 0,
              "ticks": ""
             }
            },
            "type": "scatterternary"
           }
          ],
          "surface": [
           {
            "colorbar": {
             "outlinewidth": 0,
             "ticks": ""
            },
            "colorscale": [
             [
              0,
              "#0d0887"
             ],
             [
              0.1111111111111111,
              "#46039f"
             ],
             [
              0.2222222222222222,
              "#7201a8"
             ],
             [
              0.3333333333333333,
              "#9c179e"
             ],
             [
              0.4444444444444444,
              "#bd3786"
             ],
             [
              0.5555555555555556,
              "#d8576b"
             ],
             [
              0.6666666666666666,
              "#ed7953"
             ],
             [
              0.7777777777777778,
              "#fb9f3a"
             ],
             [
              0.8888888888888888,
              "#fdca26"
             ],
             [
              1,
              "#f0f921"
             ]
            ],
            "type": "surface"
           }
          ],
          "table": [
           {
            "cells": {
             "fill": {
              "color": "#EBF0F8"
             },
             "line": {
              "color": "white"
             }
            },
            "header": {
             "fill": {
              "color": "#C8D4E3"
             },
             "line": {
              "color": "white"
             }
            },
            "type": "table"
           }
          ]
         },
         "layout": {
          "annotationdefaults": {
           "arrowcolor": "#2a3f5f",
           "arrowhead": 0,
           "arrowwidth": 1
          },
          "autotypenumbers": "strict",
          "coloraxis": {
           "colorbar": {
            "outlinewidth": 0,
            "ticks": ""
           }
          },
          "colorscale": {
           "diverging": [
            [
             0,
             "#8e0152"
            ],
            [
             0.1,
             "#c51b7d"
            ],
            [
             0.2,
             "#de77ae"
            ],
            [
             0.3,
             "#f1b6da"
            ],
            [
             0.4,
             "#fde0ef"
            ],
            [
             0.5,
             "#f7f7f7"
            ],
            [
             0.6,
             "#e6f5d0"
            ],
            [
             0.7,
             "#b8e186"
            ],
            [
             0.8,
             "#7fbc41"
            ],
            [
             0.9,
             "#4d9221"
            ],
            [
             1,
             "#276419"
            ]
           ],
           "sequential": [
            [
             0,
             "#0d0887"
            ],
            [
             0.1111111111111111,
             "#46039f"
            ],
            [
             0.2222222222222222,
             "#7201a8"
            ],
            [
             0.3333333333333333,
             "#9c179e"
            ],
            [
             0.4444444444444444,
             "#bd3786"
            ],
            [
             0.5555555555555556,
             "#d8576b"
            ],
            [
             0.6666666666666666,
             "#ed7953"
            ],
            [
             0.7777777777777778,
             "#fb9f3a"
            ],
            [
             0.8888888888888888,
             "#fdca26"
            ],
            [
             1,
             "#f0f921"
            ]
           ],
           "sequentialminus": [
            [
             0,
             "#0d0887"
            ],
            [
             0.1111111111111111,
             "#46039f"
            ],
            [
             0.2222222222222222,
             "#7201a8"
            ],
            [
             0.3333333333333333,
             "#9c179e"
            ],
            [
             0.4444444444444444,
             "#bd3786"
            ],
            [
             0.5555555555555556,
             "#d8576b"
            ],
            [
             0.6666666666666666,
             "#ed7953"
            ],
            [
             0.7777777777777778,
             "#fb9f3a"
            ],
            [
             0.8888888888888888,
             "#fdca26"
            ],
            [
             1,
             "#f0f921"
            ]
           ]
          },
          "colorway": [
           "#636efa",
           "#EF553B",
           "#00cc96",
           "#ab63fa",
           "#FFA15A",
           "#19d3f3",
           "#FF6692",
           "#B6E880",
           "#FF97FF",
           "#FECB52"
          ],
          "font": {
           "color": "#2a3f5f"
          },
          "geo": {
           "bgcolor": "white",
           "lakecolor": "white",
           "landcolor": "#E5ECF6",
           "showlakes": true,
           "showland": true,
           "subunitcolor": "white"
          },
          "hoverlabel": {
           "align": "left"
          },
          "hovermode": "closest",
          "mapbox": {
           "style": "light"
          },
          "paper_bgcolor": "white",
          "plot_bgcolor": "#E5ECF6",
          "polar": {
           "angularaxis": {
            "gridcolor": "white",
            "linecolor": "white",
            "ticks": ""
           },
           "bgcolor": "#E5ECF6",
           "radialaxis": {
            "gridcolor": "white",
            "linecolor": "white",
            "ticks": ""
           }
          },
          "scene": {
           "xaxis": {
            "backgroundcolor": "#E5ECF6",
            "gridcolor": "white",
            "gridwidth": 2,
            "linecolor": "white",
            "showbackground": true,
            "ticks": "",
            "zerolinecolor": "white"
           },
           "yaxis": {
            "backgroundcolor": "#E5ECF6",
            "gridcolor": "white",
            "gridwidth": 2,
            "linecolor": "white",
            "showbackground": true,
            "ticks": "",
            "zerolinecolor": "white"
           },
           "zaxis": {
            "backgroundcolor": "#E5ECF6",
            "gridcolor": "white",
            "gridwidth": 2,
            "linecolor": "white",
            "showbackground": true,
            "ticks": "",
            "zerolinecolor": "white"
           }
          },
          "shapedefaults": {
           "line": {
            "color": "#2a3f5f"
           }
          },
          "ternary": {
           "aaxis": {
            "gridcolor": "white",
            "linecolor": "white",
            "ticks": ""
           },
           "baxis": {
            "gridcolor": "white",
            "linecolor": "white",
            "ticks": ""
           },
           "bgcolor": "#E5ECF6",
           "caxis": {
            "gridcolor": "white",
            "linecolor": "white",
            "ticks": ""
           }
          },
          "title": {
           "x": 0.05
          },
          "xaxis": {
           "automargin": true,
           "gridcolor": "white",
           "linecolor": "white",
           "ticks": "",
           "title": {
            "standoff": 15
           },
           "zerolinecolor": "white",
           "zerolinewidth": 2
          },
          "yaxis": {
           "automargin": true,
           "gridcolor": "white",
           "linecolor": "white",
           "ticks": "",
           "title": {
            "standoff": 15
           },
           "zerolinecolor": "white",
           "zerolinewidth": 2
          }
         }
        },
        "title": {
         "text": "Top Selling by Other Sales ( In Millions)"
        }
       }
      },
      "text/html": [
       "<div>                            <div id=\"79ac22a5-ab80-4eb4-9c72-a0a648e409dc\" class=\"plotly-graph-div\" style=\"height:525px; width:100%;\"></div>            <script type=\"text/javascript\">                require([\"plotly\"], function(Plotly) {                    window.PLOTLYENV=window.PLOTLYENV || {};                                    if (document.getElementById(\"79ac22a5-ab80-4eb4-9c72-a0a648e409dc\")) {                    Plotly.newPlot(                        \"79ac22a5-ab80-4eb4-9c72-a0a648e409dc\",                        [{\"branchvalues\":\"total\",\"domain\":{\"x\":[0.0,1.0],\"y\":[0.0,1.0]},\"hovertemplate\":\"labels=%{label}<br>Other_Sales=%{value}<br>parent=%{parent}<br>id=%{id}<extra></extra>\",\"ids\":[\"Puzzle/Nintendo/GB\",\"Platform/Nintendo/NES\",\"Shooter/Nintendo/NES\",\"Platform/Nintendo/SNES\",\"Misc/Nintendo/Wii\",\"Platform/Nintendo/Wii\",\"Racing/Nintendo/Wii\",\"Sports/Nintendo/Wii\",\"Misc/Microsoft Game Studios/X360\",\"Misc/Microsoft Game Studios\",\"Misc/Nintendo\",\"Platform/Nintendo\",\"Puzzle/Nintendo\",\"Racing/Nintendo\",\"Shooter/Nintendo\",\"Sports/Nintendo\",\"Misc\",\"Platform\",\"Puzzle\",\"Racing\",\"Shooter\",\"Sports\"],\"labels\":[\"GB\",\"NES\",\"NES\",\"SNES\",\"Wii\",\"Wii\",\"Wii\",\"Wii\",\"X360\",\"Microsoft Game Studios\",\"Nintendo\",\"Nintendo\",\"Nintendo\",\"Nintendo\",\"Nintendo\",\"Nintendo\",\"Misc\",\"Platform\",\"Puzzle\",\"Racing\",\"Shooter\",\"Sports\"],\"name\":\"\",\"parents\":[\"Puzzle/Nintendo\",\"Platform/Nintendo\",\"Shooter/Nintendo\",\"Platform/Nintendo\",\"Misc/Nintendo\",\"Platform/Nintendo\",\"Racing/Nintendo\",\"Sports/Nintendo\",\"Misc/Microsoft Game Studios\",\"Misc\",\"Misc\",\"Platform\",\"Puzzle\",\"Racing\",\"Shooter\",\"Sports\",\"\",\"\",\"\",\"\",\"\",\"\"],\"values\":[0.58,0.77,0.47,0.55,2.85,2.26,3.31,11.420000000000002,1.67,1.67,2.85,3.58,0.58,3.31,0.47,11.420000000000002,4.52,3.58,0.58,3.31,0.47,11.420000000000002],\"type\":\"sunburst\"}],                        {\"template\":{\"data\":{\"histogram2dcontour\":[{\"type\":\"histogram2dcontour\",\"colorbar\":{\"outlinewidth\":0,\"ticks\":\"\"},\"colorscale\":[[0.0,\"#0d0887\"],[0.1111111111111111,\"#46039f\"],[0.2222222222222222,\"#7201a8\"],[0.3333333333333333,\"#9c179e\"],[0.4444444444444444,\"#bd3786\"],[0.5555555555555556,\"#d8576b\"],[0.6666666666666666,\"#ed7953\"],[0.7777777777777778,\"#fb9f3a\"],[0.8888888888888888,\"#fdca26\"],[1.0,\"#f0f921\"]]}],\"choropleth\":[{\"type\":\"choropleth\",\"colorbar\":{\"outlinewidth\":0,\"ticks\":\"\"}}],\"histogram2d\":[{\"type\":\"histogram2d\",\"colorbar\":{\"outlinewidth\":0,\"ticks\":\"\"},\"colorscale\":[[0.0,\"#0d0887\"],[0.1111111111111111,\"#46039f\"],[0.2222222222222222,\"#7201a8\"],[0.3333333333333333,\"#9c179e\"],[0.4444444444444444,\"#bd3786\"],[0.5555555555555556,\"#d8576b\"],[0.6666666666666666,\"#ed7953\"],[0.7777777777777778,\"#fb9f3a\"],[0.8888888888888888,\"#fdca26\"],[1.0,\"#f0f921\"]]}],\"heatmap\":[{\"type\":\"heatmap\",\"colorbar\":{\"outlinewidth\":0,\"ticks\":\"\"},\"colorscale\":[[0.0,\"#0d0887\"],[0.1111111111111111,\"#46039f\"],[0.2222222222222222,\"#7201a8\"],[0.3333333333333333,\"#9c179e\"],[0.4444444444444444,\"#bd3786\"],[0.5555555555555556,\"#d8576b\"],[0.6666666666666666,\"#ed7953\"],[0.7777777777777778,\"#fb9f3a\"],[0.8888888888888888,\"#fdca26\"],[1.0,\"#f0f921\"]]}],\"heatmapgl\":[{\"type\":\"heatmapgl\",\"colorbar\":{\"outlinewidth\":0,\"ticks\":\"\"},\"colorscale\":[[0.0,\"#0d0887\"],[0.1111111111111111,\"#46039f\"],[0.2222222222222222,\"#7201a8\"],[0.3333333333333333,\"#9c179e\"],[0.4444444444444444,\"#bd3786\"],[0.5555555555555556,\"#d8576b\"],[0.6666666666666666,\"#ed7953\"],[0.7777777777777778,\"#fb9f3a\"],[0.8888888888888888,\"#fdca26\"],[1.0,\"#f0f921\"]]}],\"contourcarpet\":[{\"type\":\"contourcarpet\",\"colorbar\":{\"outlinewidth\":0,\"ticks\":\"\"}}],\"contour\":[{\"type\":\"contour\",\"colorbar\":{\"outlinewidth\":0,\"ticks\":\"\"},\"colorscale\":[[0.0,\"#0d0887\"],[0.1111111111111111,\"#46039f\"],[0.2222222222222222,\"#7201a8\"],[0.3333333333333333,\"#9c179e\"],[0.4444444444444444,\"#bd3786\"],[0.5555555555555556,\"#d8576b\"],[0.6666666666666666,\"#ed7953\"],[0.7777777777777778,\"#fb9f3a\"],[0.8888888888888888,\"#fdca26\"],[1.0,\"#f0f921\"]]}],\"surface\":[{\"type\":\"surface\",\"colorbar\":{\"outlinewidth\":0,\"ticks\":\"\"},\"colorscale\":[[0.0,\"#0d0887\"],[0.1111111111111111,\"#46039f\"],[0.2222222222222222,\"#7201a8\"],[0.3333333333333333,\"#9c179e\"],[0.4444444444444444,\"#bd3786\"],[0.5555555555555556,\"#d8576b\"],[0.6666666666666666,\"#ed7953\"],[0.7777777777777778,\"#fb9f3a\"],[0.8888888888888888,\"#fdca26\"],[1.0,\"#f0f921\"]]}],\"mesh3d\":[{\"type\":\"mesh3d\",\"colorbar\":{\"outlinewidth\":0,\"ticks\":\"\"}}],\"scatter\":[{\"fillpattern\":{\"fillmode\":\"overlay\",\"size\":10,\"solidity\":0.2},\"type\":\"scatter\"}],\"parcoords\":[{\"type\":\"parcoords\",\"line\":{\"colorbar\":{\"outlinewidth\":0,\"ticks\":\"\"}}}],\"scatterpolargl\":[{\"type\":\"scatterpolargl\",\"marker\":{\"colorbar\":{\"outlinewidth\":0,\"ticks\":\"\"}}}],\"bar\":[{\"error_x\":{\"color\":\"#2a3f5f\"},\"error_y\":{\"color\":\"#2a3f5f\"},\"marker\":{\"line\":{\"color\":\"#E5ECF6\",\"width\":0.5},\"pattern\":{\"fillmode\":\"overlay\",\"size\":10,\"solidity\":0.2}},\"type\":\"bar\"}],\"scattergeo\":[{\"type\":\"scattergeo\",\"marker\":{\"colorbar\":{\"outlinewidth\":0,\"ticks\":\"\"}}}],\"scatterpolar\":[{\"type\":\"scatterpolar\",\"marker\":{\"colorbar\":{\"outlinewidth\":0,\"ticks\":\"\"}}}],\"histogram\":[{\"marker\":{\"pattern\":{\"fillmode\":\"overlay\",\"size\":10,\"solidity\":0.2}},\"type\":\"histogram\"}],\"scattergl\":[{\"type\":\"scattergl\",\"marker\":{\"colorbar\":{\"outlinewidth\":0,\"ticks\":\"\"}}}],\"scatter3d\":[{\"type\":\"scatter3d\",\"line\":{\"colorbar\":{\"outlinewidth\":0,\"ticks\":\"\"}},\"marker\":{\"colorbar\":{\"outlinewidth\":0,\"ticks\":\"\"}}}],\"scattermapbox\":[{\"type\":\"scattermapbox\",\"marker\":{\"colorbar\":{\"outlinewidth\":0,\"ticks\":\"\"}}}],\"scatterternary\":[{\"type\":\"scatterternary\",\"marker\":{\"colorbar\":{\"outlinewidth\":0,\"ticks\":\"\"}}}],\"scattercarpet\":[{\"type\":\"scattercarpet\",\"marker\":{\"colorbar\":{\"outlinewidth\":0,\"ticks\":\"\"}}}],\"carpet\":[{\"aaxis\":{\"endlinecolor\":\"#2a3f5f\",\"gridcolor\":\"white\",\"linecolor\":\"white\",\"minorgridcolor\":\"white\",\"startlinecolor\":\"#2a3f5f\"},\"baxis\":{\"endlinecolor\":\"#2a3f5f\",\"gridcolor\":\"white\",\"linecolor\":\"white\",\"minorgridcolor\":\"white\",\"startlinecolor\":\"#2a3f5f\"},\"type\":\"carpet\"}],\"table\":[{\"cells\":{\"fill\":{\"color\":\"#EBF0F8\"},\"line\":{\"color\":\"white\"}},\"header\":{\"fill\":{\"color\":\"#C8D4E3\"},\"line\":{\"color\":\"white\"}},\"type\":\"table\"}],\"barpolar\":[{\"marker\":{\"line\":{\"color\":\"#E5ECF6\",\"width\":0.5},\"pattern\":{\"fillmode\":\"overlay\",\"size\":10,\"solidity\":0.2}},\"type\":\"barpolar\"}],\"pie\":[{\"automargin\":true,\"type\":\"pie\"}]},\"layout\":{\"autotypenumbers\":\"strict\",\"colorway\":[\"#636efa\",\"#EF553B\",\"#00cc96\",\"#ab63fa\",\"#FFA15A\",\"#19d3f3\",\"#FF6692\",\"#B6E880\",\"#FF97FF\",\"#FECB52\"],\"font\":{\"color\":\"#2a3f5f\"},\"hovermode\":\"closest\",\"hoverlabel\":{\"align\":\"left\"},\"paper_bgcolor\":\"white\",\"plot_bgcolor\":\"#E5ECF6\",\"polar\":{\"bgcolor\":\"#E5ECF6\",\"angularaxis\":{\"gridcolor\":\"white\",\"linecolor\":\"white\",\"ticks\":\"\"},\"radialaxis\":{\"gridcolor\":\"white\",\"linecolor\":\"white\",\"ticks\":\"\"}},\"ternary\":{\"bgcolor\":\"#E5ECF6\",\"aaxis\":{\"gridcolor\":\"white\",\"linecolor\":\"white\",\"ticks\":\"\"},\"baxis\":{\"gridcolor\":\"white\",\"linecolor\":\"white\",\"ticks\":\"\"},\"caxis\":{\"gridcolor\":\"white\",\"linecolor\":\"white\",\"ticks\":\"\"}},\"coloraxis\":{\"colorbar\":{\"outlinewidth\":0,\"ticks\":\"\"}},\"colorscale\":{\"sequential\":[[0.0,\"#0d0887\"],[0.1111111111111111,\"#46039f\"],[0.2222222222222222,\"#7201a8\"],[0.3333333333333333,\"#9c179e\"],[0.4444444444444444,\"#bd3786\"],[0.5555555555555556,\"#d8576b\"],[0.6666666666666666,\"#ed7953\"],[0.7777777777777778,\"#fb9f3a\"],[0.8888888888888888,\"#fdca26\"],[1.0,\"#f0f921\"]],\"sequentialminus\":[[0.0,\"#0d0887\"],[0.1111111111111111,\"#46039f\"],[0.2222222222222222,\"#7201a8\"],[0.3333333333333333,\"#9c179e\"],[0.4444444444444444,\"#bd3786\"],[0.5555555555555556,\"#d8576b\"],[0.6666666666666666,\"#ed7953\"],[0.7777777777777778,\"#fb9f3a\"],[0.8888888888888888,\"#fdca26\"],[1.0,\"#f0f921\"]],\"diverging\":[[0,\"#8e0152\"],[0.1,\"#c51b7d\"],[0.2,\"#de77ae\"],[0.3,\"#f1b6da\"],[0.4,\"#fde0ef\"],[0.5,\"#f7f7f7\"],[0.6,\"#e6f5d0\"],[0.7,\"#b8e186\"],[0.8,\"#7fbc41\"],[0.9,\"#4d9221\"],[1,\"#276419\"]]},\"xaxis\":{\"gridcolor\":\"white\",\"linecolor\":\"white\",\"ticks\":\"\",\"title\":{\"standoff\":15},\"zerolinecolor\":\"white\",\"automargin\":true,\"zerolinewidth\":2},\"yaxis\":{\"gridcolor\":\"white\",\"linecolor\":\"white\",\"ticks\":\"\",\"title\":{\"standoff\":15},\"zerolinecolor\":\"white\",\"automargin\":true,\"zerolinewidth\":2},\"scene\":{\"xaxis\":{\"backgroundcolor\":\"#E5ECF6\",\"gridcolor\":\"white\",\"linecolor\":\"white\",\"showbackground\":true,\"ticks\":\"\",\"zerolinecolor\":\"white\",\"gridwidth\":2},\"yaxis\":{\"backgroundcolor\":\"#E5ECF6\",\"gridcolor\":\"white\",\"linecolor\":\"white\",\"showbackground\":true,\"ticks\":\"\",\"zerolinecolor\":\"white\",\"gridwidth\":2},\"zaxis\":{\"backgroundcolor\":\"#E5ECF6\",\"gridcolor\":\"white\",\"linecolor\":\"white\",\"showbackground\":true,\"ticks\":\"\",\"zerolinecolor\":\"white\",\"gridwidth\":2}},\"shapedefaults\":{\"line\":{\"color\":\"#2a3f5f\"}},\"annotationdefaults\":{\"arrowcolor\":\"#2a3f5f\",\"arrowhead\":0,\"arrowwidth\":1},\"geo\":{\"bgcolor\":\"white\",\"landcolor\":\"#E5ECF6\",\"subunitcolor\":\"white\",\"showland\":true,\"showlakes\":true,\"lakecolor\":\"white\"},\"title\":{\"x\":0.05},\"mapbox\":{\"style\":\"light\"}}},\"legend\":{\"tracegroupgap\":0},\"title\":{\"text\":\"Top Selling by Other Sales ( In Millions)\"},\"grid\":{\"columns\":2,\"rows\":2},\"margin\":{\"t\":40,\"l\":2,\"r\":2,\"b\":5}},                        {\"responsive\": true}                    ).then(function(){\n",
       "                            \n",
       "var gd = document.getElementById('79ac22a5-ab80-4eb4-9c72-a0a648e409dc');\n",
       "var x = new MutationObserver(function (mutations, observer) {{\n",
       "        var display = window.getComputedStyle(gd).display;\n",
       "        if (!display || display === 'none') {{\n",
       "            console.log([gd, 'removed!']);\n",
       "            Plotly.purge(gd);\n",
       "            observer.disconnect();\n",
       "        }}\n",
       "}});\n",
       "\n",
       "// Listen for the removal of the full notebook cells\n",
       "var notebookContainer = gd.closest('#notebook-container');\n",
       "if (notebookContainer) {{\n",
       "    x.observe(notebookContainer, {childList: true});\n",
       "}}\n",
       "\n",
       "// Listen for the clearing of the current output cell\n",
       "var outputEl = gd.closest('.output');\n",
       "if (outputEl) {{\n",
       "    x.observe(outputEl, {childList: true});\n",
       "}}\n",
       "\n",
       "                        })                };                });            </script>        </div>"
      ]
     },
     "metadata": {},
     "output_type": "display_data"
    }
   ],
   "source": [
    "top_sales = vg.sort_values(by=['NA_Sales', 'EU_Sales', 'JP_Sales', 'Other_Sales'], ascending=False).head(10)\n",
    "\n",
    "# ['NA_Sales', '', '', '']\n",
    "dicts_name = {\n",
    "    'NA_Sales' : \"North America Sales ( In Millions)\",\n",
    "    'EU_Sales' : \"Europe Sales ( In Millions)\",\n",
    "    'JP_Sales' : \"Japan Sales ( In Millions)\",\n",
    "    'Other_Sales' : \"Other Sales ( In Millions)\",\n",
    "}\n",
    "\n",
    "for (key, title) in dicts_name.items():\n",
    "    \n",
    "    fig = px.sunburst(top_sales, path=['Genre', 'Publisher', 'Platform'], values=key, title= 'Top Selling by '+ title)\n",
    "    \n",
    "    fig.update_layout(\n",
    "        grid= dict(columns=2, rows=2),\n",
    "        margin = dict(t=40, l=2, r=2, b=5)\n",
    "    )\n",
    "\n",
    "    fig.show()"
   ]
  },
  {
   "cell_type": "markdown",
   "id": "9bbcd499",
   "metadata": {},
   "source": [
    "# CHAPTER 12"
   ]
  },
  {
   "cell_type": "code",
   "execution_count": 21,
   "id": "23ebceff",
   "metadata": {},
   "outputs": [
    {
     "data": {
      "application/vnd.plotly.v1+json": {
       "config": {
        "linkText": "Export to plot.ly",
        "plotlyServerURL": "https://plot.ly",
        "showLink": false
       },
       "data": [
        {
         "marker": {
          "color": "rgba(28, 149, 249, 0.8)",
          "size": 8
         },
         "mode": "markers",
         "name": "North America",
         "text": [
          "Wii Sports",
          "Super Mario Bros.",
          "Mario Kart Wii",
          "Wii Sports Resort",
          "Pokemon Red/Pokemon Blue",
          "Tetris",
          "New Super Mario Bros.",
          "Wii Play",
          "New Super Mario Bros. Wii",
          "Duck Hunt",
          "Nintendogs",
          "Mario Kart DS",
          "Pokemon Gold/Pokemon Silver",
          "Wii Fit",
          "Wii Fit Plus",
          "Kinect Adventures!",
          "Grand Theft Auto V",
          "Grand Theft Auto: San Andreas",
          "Super Mario World",
          "Brain Age: Train Your Brain in Minutes a Day",
          "Pokemon Diamond/Pokemon Pearl",
          "Super Mario Land",
          "Super Mario Bros. 3",
          "Grand Theft Auto V",
          "Grand Theft Auto: Vice City",
          "Pokemon Ruby/Pokemon Sapphire",
          "Pokemon Black/Pokemon White",
          "Brain Age 2: More Training in Minutes a Day",
          "Gran Turismo 3: A-Spec",
          "Call of Duty: Modern Warfare 3",
          "Pokémon Yellow: Special Pikachu Edition",
          "Call of Duty: Black Ops",
          "Pokemon X/Pokemon Y",
          "Call of Duty: Black Ops 3",
          "Call of Duty: Black Ops II",
          "Call of Duty: Black Ops II",
          "Call of Duty: Modern Warfare 2",
          "Call of Duty: Modern Warfare 3",
          "Grand Theft Auto III",
          "Super Smash Bros. Brawl",
          "Call of Duty: Black Ops",
          "Animal Crossing: Wild World",
          "Mario Kart 7",
          "Halo 3",
          "Grand Theft Auto V",
          "Pokemon HeartGold/Pokemon SoulSilver",
          "Super Mario 64",
          "Gran Turismo 4",
          "Super Mario Galaxy",
          "Pokemon Omega Ruby/Pokemon Alpha Sapphire",
          "Super Mario Land 2: 6 Golden Coins",
          "Grand Theft Auto IV",
          "Gran Turismo",
          "Super Mario 3D Land",
          "Gran Turismo 5",
          "Call of Duty: Modern Warfare 2",
          "Grand Theft Auto IV",
          "Super Mario All-Stars",
          "Pokemon FireRed/Pokemon LeafGreen",
          "Super Mario 64",
          "Just Dance 3",
          "Call of Duty: Ghosts",
          "Halo: Reach",
          "Mario Kart 64",
          "New Super Mario Bros. 2",
          "Halo 4",
          "Final Fantasy VII",
          "Call of Duty: Ghosts",
          "Just Dance 2",
          "Gran Turismo 2",
          "Call of Duty 4: Modern Warfare",
          "Donkey Kong Country",
          "Minecraft",
          "Animal Crossing: New Leaf",
          "Mario Party DS",
          "The Elder Scrolls V: Skyrim",
          "Super Mario Kart",
          "FIFA 16",
          "Wii Party",
          "Halo 2",
          "Mario Party 8",
          "Pokemon Black 2/Pokemon White 2",
          "FIFA Soccer 13",
          "The Sims 3",
          "GoldenEye 007",
          "Mario & Sonic at the Olympic Games",
          "Final Fantasy X",
          "Final Fantasy VIII",
          "Pokémon Platinum Version",
          "Pac-Man",
          "Grand Theft Auto: Liberty City Stories",
          "Super Mario Galaxy 2",
          "Star Wars Battlefront (2015)",
          "Call of Duty: Advanced Warfare",
          "The Legend of Zelda: Ocarina of Time",
          "Crash Bandicoot 2: Cortex Strikes Back",
          "Super Mario Bros. 2",
          "Super Smash Bros. for Wii U and 3DS",
          "Call of Duty: World at War",
          "Battlefield 3"
         ],
         "type": "scatter",
         "x": [
          1,
          2,
          3,
          4,
          5,
          6,
          7,
          8,
          9,
          10,
          11,
          12,
          13,
          14,
          15,
          16,
          17,
          18,
          19,
          20,
          21,
          22,
          23,
          24,
          25,
          26,
          27,
          28,
          29,
          30,
          31,
          32,
          33,
          34,
          35,
          36,
          37,
          38,
          39,
          40,
          41,
          42,
          43,
          44,
          45,
          46,
          47,
          48,
          49,
          50,
          51,
          52,
          53,
          54,
          55,
          56,
          57,
          58,
          59,
          60,
          61,
          62,
          63,
          64,
          65,
          66,
          67,
          68,
          69,
          70,
          71,
          72,
          73,
          74,
          75,
          76,
          77,
          78,
          79,
          80,
          81,
          82,
          83,
          84,
          85,
          86,
          87,
          88,
          89,
          90,
          91,
          92,
          93,
          94,
          95,
          96,
          97,
          98,
          99,
          100
         ],
         "y": [
          41.49,
          29.08,
          15.85,
          15.75,
          11.27,
          23.2,
          11.38,
          14.03,
          14.59,
          26.93,
          9.07,
          9.81,
          9,
          8.94,
          9.09,
          14.97,
          7.01,
          9.43,
          12.78,
          4.75,
          6.42,
          10.83,
          9.54,
          9.63,
          8.41,
          6.06,
          5.57,
          3.44,
          6.85,
          9.03,
          5.89,
          9.67,
          5.17,
          5.77,
          4.99,
          8.25,
          8.52,
          5.54,
          6.99,
          6.75,
          5.98,
          2.55,
          4.74,
          7.97,
          3.8,
          4.4,
          6.91,
          3.01,
          6.16,
          4.23,
          6.16,
          6.76,
          4.02,
          4.89,
          2.96,
          4.99,
          4.76,
          5.99,
          4.34,
          5.08,
          6.05,
          6.72,
          7.03,
          5.55,
          3.66,
          6.63,
          3.01,
          4.09,
          5.84,
          3.88,
          5.91,
          4.36,
          5.58,
          2.01,
          4.46,
          5.03,
          3.54,
          1.11,
          1.79,
          6.82,
          3.81,
          2.91,
          1.06,
          0.98,
          5.8,
          2.58,
          2.91,
          2.28,
          2.82,
          7.28,
          2.9,
          3.66,
          2.93,
          2.8,
          4.1,
          3.78,
          5.39,
          3.24,
          4.79,
          4.46
         ]
        },
        {
         "marker": {
          "color": "rgba(249, 94, 28, 0.8)",
          "size": 8
         },
         "mode": "markers",
         "name": "Europe",
         "text": [
          "Wii Sports",
          "Super Mario Bros.",
          "Mario Kart Wii",
          "Wii Sports Resort",
          "Pokemon Red/Pokemon Blue",
          "Tetris",
          "New Super Mario Bros.",
          "Wii Play",
          "New Super Mario Bros. Wii",
          "Duck Hunt",
          "Nintendogs",
          "Mario Kart DS",
          "Pokemon Gold/Pokemon Silver",
          "Wii Fit",
          "Wii Fit Plus",
          "Kinect Adventures!",
          "Grand Theft Auto V",
          "Grand Theft Auto: San Andreas",
          "Super Mario World",
          "Brain Age: Train Your Brain in Minutes a Day",
          "Pokemon Diamond/Pokemon Pearl",
          "Super Mario Land",
          "Super Mario Bros. 3",
          "Grand Theft Auto V",
          "Grand Theft Auto: Vice City",
          "Pokemon Ruby/Pokemon Sapphire",
          "Pokemon Black/Pokemon White",
          "Brain Age 2: More Training in Minutes a Day",
          "Gran Turismo 3: A-Spec",
          "Call of Duty: Modern Warfare 3",
          "Pokémon Yellow: Special Pikachu Edition",
          "Call of Duty: Black Ops",
          "Pokemon X/Pokemon Y",
          "Call of Duty: Black Ops 3",
          "Call of Duty: Black Ops II",
          "Call of Duty: Black Ops II",
          "Call of Duty: Modern Warfare 2",
          "Call of Duty: Modern Warfare 3",
          "Grand Theft Auto III",
          "Super Smash Bros. Brawl",
          "Call of Duty: Black Ops",
          "Animal Crossing: Wild World",
          "Mario Kart 7",
          "Halo 3",
          "Grand Theft Auto V",
          "Pokemon HeartGold/Pokemon SoulSilver",
          "Super Mario 64",
          "Gran Turismo 4",
          "Super Mario Galaxy",
          "Pokemon Omega Ruby/Pokemon Alpha Sapphire",
          "Super Mario Land 2: 6 Golden Coins",
          "Grand Theft Auto IV",
          "Gran Turismo",
          "Super Mario 3D Land",
          "Gran Turismo 5",
          "Call of Duty: Modern Warfare 2",
          "Grand Theft Auto IV",
          "Super Mario All-Stars",
          "Pokemon FireRed/Pokemon LeafGreen",
          "Super Mario 64",
          "Just Dance 3",
          "Call of Duty: Ghosts",
          "Halo: Reach",
          "Mario Kart 64",
          "New Super Mario Bros. 2",
          "Halo 4",
          "Final Fantasy VII",
          "Call of Duty: Ghosts",
          "Just Dance 2",
          "Gran Turismo 2",
          "Call of Duty 4: Modern Warfare",
          "Donkey Kong Country",
          "Minecraft",
          "Animal Crossing: New Leaf",
          "Mario Party DS",
          "The Elder Scrolls V: Skyrim",
          "Super Mario Kart",
          "FIFA 16",
          "Wii Party",
          "Halo 2",
          "Mario Party 8",
          "Pokemon Black 2/Pokemon White 2",
          "FIFA Soccer 13",
          "The Sims 3",
          "GoldenEye 007",
          "Mario & Sonic at the Olympic Games",
          "Final Fantasy X",
          "Final Fantasy VIII",
          "Pokémon Platinum Version",
          "Pac-Man",
          "Grand Theft Auto: Liberty City Stories",
          "Super Mario Galaxy 2",
          "Star Wars Battlefront (2015)",
          "Call of Duty: Advanced Warfare",
          "The Legend of Zelda: Ocarina of Time",
          "Crash Bandicoot 2: Cortex Strikes Back",
          "Super Mario Bros. 2",
          "Super Smash Bros. for Wii U and 3DS",
          "Call of Duty: World at War",
          "Battlefield 3"
         ],
         "type": "scatter",
         "x": [
          1,
          2,
          3,
          4,
          5,
          6,
          7,
          8,
          9,
          10,
          11,
          12,
          13,
          14,
          15,
          16,
          17,
          18,
          19,
          20,
          21,
          22,
          23,
          24,
          25,
          26,
          27,
          28,
          29,
          30,
          31,
          32,
          33,
          34,
          35,
          36,
          37,
          38,
          39,
          40,
          41,
          42,
          43,
          44,
          45,
          46,
          47,
          48,
          49,
          50,
          51,
          52,
          53,
          54,
          55,
          56,
          57,
          58,
          59,
          60,
          61,
          62,
          63,
          64,
          65,
          66,
          67,
          68,
          69,
          70,
          71,
          72,
          73,
          74,
          75,
          76,
          77,
          78,
          79,
          80,
          81,
          82,
          83,
          84,
          85,
          86,
          87,
          88,
          89,
          90,
          91,
          92,
          93,
          94,
          95,
          96,
          97,
          98,
          99,
          100
         ],
         "y": [
          29.02,
          3.58,
          12.88,
          11.01,
          8.89,
          2.26,
          9.23,
          9.2,
          7.06,
          0.63,
          11,
          7.57,
          6.18,
          8.03,
          8.59,
          4.94,
          9.27,
          0.4,
          3.75,
          9.26,
          4.52,
          2.71,
          3.44,
          5.31,
          5.49,
          3.9,
          3.28,
          5.36,
          5.09,
          4.28,
          5.04,
          3.73,
          4.05,
          5.81,
          5.88,
          4.3,
          3.63,
          5.82,
          4.51,
          2.61,
          4.44,
          3.52,
          3.91,
          2.83,
          5.81,
          2.77,
          2.85,
          0.01,
          3.4,
          3.37,
          2.04,
          3.1,
          3.87,
          2.99,
          4.88,
          3.69,
          3.76,
          2.15,
          2.65,
          3.11,
          3.15,
          2.63,
          1.98,
          1.94,
          3.07,
          2.36,
          2.47,
          3.73,
          2.89,
          3.42,
          2.38,
          1.71,
          2.83,
          2.32,
          1.88,
          2.86,
          1.24,
          6.06,
          3.53,
          1.53,
          2.3,
          1.86,
          5.05,
          6.42,
          2.01,
          3.9,
          2.07,
          1.72,
          1.78,
          0.45,
          2.83,
          2.42,
          3.29,
          3.3,
          1.89,
          2.17,
          1.18,
          1.35,
          1.9,
          2.13
         ]
        },
        {
         "marker": {
          "color": "rgba(150, 26, 80, 0.8)",
          "size": 8
         },
         "mode": "markers",
         "name": "Japan",
         "text": [
          "Wii Sports",
          "Super Mario Bros.",
          "Mario Kart Wii",
          "Wii Sports Resort",
          "Pokemon Red/Pokemon Blue",
          "Tetris",
          "New Super Mario Bros.",
          "Wii Play",
          "New Super Mario Bros. Wii",
          "Duck Hunt",
          "Nintendogs",
          "Mario Kart DS",
          "Pokemon Gold/Pokemon Silver",
          "Wii Fit",
          "Wii Fit Plus",
          "Kinect Adventures!",
          "Grand Theft Auto V",
          "Grand Theft Auto: San Andreas",
          "Super Mario World",
          "Brain Age: Train Your Brain in Minutes a Day",
          "Pokemon Diamond/Pokemon Pearl",
          "Super Mario Land",
          "Super Mario Bros. 3",
          "Grand Theft Auto V",
          "Grand Theft Auto: Vice City",
          "Pokemon Ruby/Pokemon Sapphire",
          "Pokemon Black/Pokemon White",
          "Brain Age 2: More Training in Minutes a Day",
          "Gran Turismo 3: A-Spec",
          "Call of Duty: Modern Warfare 3",
          "Pokémon Yellow: Special Pikachu Edition",
          "Call of Duty: Black Ops",
          "Pokemon X/Pokemon Y",
          "Call of Duty: Black Ops 3",
          "Call of Duty: Black Ops II",
          "Call of Duty: Black Ops II",
          "Call of Duty: Modern Warfare 2",
          "Call of Duty: Modern Warfare 3",
          "Grand Theft Auto III",
          "Super Smash Bros. Brawl",
          "Call of Duty: Black Ops",
          "Animal Crossing: Wild World",
          "Mario Kart 7",
          "Halo 3",
          "Grand Theft Auto V",
          "Pokemon HeartGold/Pokemon SoulSilver",
          "Super Mario 64",
          "Gran Turismo 4",
          "Super Mario Galaxy",
          "Pokemon Omega Ruby/Pokemon Alpha Sapphire",
          "Super Mario Land 2: 6 Golden Coins",
          "Grand Theft Auto IV",
          "Gran Turismo",
          "Super Mario 3D Land",
          "Gran Turismo 5",
          "Call of Duty: Modern Warfare 2",
          "Grand Theft Auto IV",
          "Super Mario All-Stars",
          "Pokemon FireRed/Pokemon LeafGreen",
          "Super Mario 64",
          "Just Dance 3",
          "Call of Duty: Ghosts",
          "Halo: Reach",
          "Mario Kart 64",
          "New Super Mario Bros. 2",
          "Halo 4",
          "Final Fantasy VII",
          "Call of Duty: Ghosts",
          "Just Dance 2",
          "Gran Turismo 2",
          "Call of Duty 4: Modern Warfare",
          "Donkey Kong Country",
          "Minecraft",
          "Animal Crossing: New Leaf",
          "Mario Party DS",
          "The Elder Scrolls V: Skyrim",
          "Super Mario Kart",
          "FIFA 16",
          "Wii Party",
          "Halo 2",
          "Mario Party 8",
          "Pokemon Black 2/Pokemon White 2",
          "FIFA Soccer 13",
          "The Sims 3",
          "GoldenEye 007",
          "Mario & Sonic at the Olympic Games",
          "Final Fantasy X",
          "Final Fantasy VIII",
          "Pokémon Platinum Version",
          "Pac-Man",
          "Grand Theft Auto: Liberty City Stories",
          "Super Mario Galaxy 2",
          "Star Wars Battlefront (2015)",
          "Call of Duty: Advanced Warfare",
          "The Legend of Zelda: Ocarina of Time",
          "Crash Bandicoot 2: Cortex Strikes Back",
          "Super Mario Bros. 2",
          "Super Smash Bros. for Wii U and 3DS",
          "Call of Duty: World at War",
          "Battlefield 3"
         ],
         "type": "scatter",
         "x": [
          1,
          2,
          3,
          4,
          5,
          6,
          7,
          8,
          9,
          10,
          11,
          12,
          13,
          14,
          15,
          16,
          17,
          18,
          19,
          20,
          21,
          22,
          23,
          24,
          25,
          26,
          27,
          28,
          29,
          30,
          31,
          32,
          33,
          34,
          35,
          36,
          37,
          38,
          39,
          40,
          41,
          42,
          43,
          44,
          45,
          46,
          47,
          48,
          49,
          50,
          51,
          52,
          53,
          54,
          55,
          56,
          57,
          58,
          59,
          60,
          61,
          62,
          63,
          64,
          65,
          66,
          67,
          68,
          69,
          70,
          71,
          72,
          73,
          74,
          75,
          76,
          77,
          78,
          79,
          80,
          81,
          82,
          83,
          84,
          85,
          86,
          87,
          88,
          89,
          90,
          91,
          92,
          93,
          94,
          95,
          96,
          97,
          98,
          99,
          100
         ],
         "y": [
          3.77,
          6.81,
          3.79,
          3.28,
          10.22,
          4.22,
          6.5,
          2.93,
          4.7,
          0.28,
          1.93,
          4.13,
          7.2,
          3.6,
          2.53,
          0.24,
          0.97,
          0.41,
          3.54,
          4.16,
          6.04,
          4.18,
          3.84,
          0.06,
          0.47,
          5.38,
          5.65,
          5.32,
          1.87,
          0.13,
          3.12,
          0.11,
          4.34,
          0.35,
          0.65,
          0.07,
          0.08,
          0.49,
          0.3,
          2.66,
          0.48,
          5.33,
          2.67,
          0.13,
          0.36,
          3.96,
          1.91,
          1.1,
          1.2,
          3.08,
          2.69,
          0.14,
          2.54,
          2.13,
          0.81,
          0.38,
          0.44,
          2.12,
          3.15,
          1.25,
          0,
          0.04,
          0.08,
          2.23,
          2.47,
          0.04,
          3.28,
          0.38,
          0.01,
          1.69,
          0.13,
          3,
          0.02,
          4.36,
          1.98,
          0.1,
          3.81,
          0.06,
          2.49,
          0.05,
          1.58,
          3.14,
          0.13,
          0,
          0.13,
          0.66,
          2.73,
          3.63,
          2.69,
          0,
          0.24,
          0.98,
          0.22,
          0.14,
          1.45,
          1.31,
          0.7,
          2.42,
          0,
          0.06
         ]
        },
        {
         "marker": {
          "color": "lime",
          "size": 8
         },
         "mode": "markers",
         "name": "Other",
         "text": [
          "Wii Sports",
          "Super Mario Bros.",
          "Mario Kart Wii",
          "Wii Sports Resort",
          "Pokemon Red/Pokemon Blue",
          "Tetris",
          "New Super Mario Bros.",
          "Wii Play",
          "New Super Mario Bros. Wii",
          "Duck Hunt",
          "Nintendogs",
          "Mario Kart DS",
          "Pokemon Gold/Pokemon Silver",
          "Wii Fit",
          "Wii Fit Plus",
          "Kinect Adventures!",
          "Grand Theft Auto V",
          "Grand Theft Auto: San Andreas",
          "Super Mario World",
          "Brain Age: Train Your Brain in Minutes a Day",
          "Pokemon Diamond/Pokemon Pearl",
          "Super Mario Land",
          "Super Mario Bros. 3",
          "Grand Theft Auto V",
          "Grand Theft Auto: Vice City",
          "Pokemon Ruby/Pokemon Sapphire",
          "Pokemon Black/Pokemon White",
          "Brain Age 2: More Training in Minutes a Day",
          "Gran Turismo 3: A-Spec",
          "Call of Duty: Modern Warfare 3",
          "Pokémon Yellow: Special Pikachu Edition",
          "Call of Duty: Black Ops",
          "Pokemon X/Pokemon Y",
          "Call of Duty: Black Ops 3",
          "Call of Duty: Black Ops II",
          "Call of Duty: Black Ops II",
          "Call of Duty: Modern Warfare 2",
          "Call of Duty: Modern Warfare 3",
          "Grand Theft Auto III",
          "Super Smash Bros. Brawl",
          "Call of Duty: Black Ops",
          "Animal Crossing: Wild World",
          "Mario Kart 7",
          "Halo 3",
          "Grand Theft Auto V",
          "Pokemon HeartGold/Pokemon SoulSilver",
          "Super Mario 64",
          "Gran Turismo 4",
          "Super Mario Galaxy",
          "Pokemon Omega Ruby/Pokemon Alpha Sapphire",
          "Super Mario Land 2: 6 Golden Coins",
          "Grand Theft Auto IV",
          "Gran Turismo",
          "Super Mario 3D Land",
          "Gran Turismo 5",
          "Call of Duty: Modern Warfare 2",
          "Grand Theft Auto IV",
          "Super Mario All-Stars",
          "Pokemon FireRed/Pokemon LeafGreen",
          "Super Mario 64",
          "Just Dance 3",
          "Call of Duty: Ghosts",
          "Halo: Reach",
          "Mario Kart 64",
          "New Super Mario Bros. 2",
          "Halo 4",
          "Final Fantasy VII",
          "Call of Duty: Ghosts",
          "Just Dance 2",
          "Gran Turismo 2",
          "Call of Duty 4: Modern Warfare",
          "Donkey Kong Country",
          "Minecraft",
          "Animal Crossing: New Leaf",
          "Mario Party DS",
          "The Elder Scrolls V: Skyrim",
          "Super Mario Kart",
          "FIFA 16",
          "Wii Party",
          "Halo 2",
          "Mario Party 8",
          "Pokemon Black 2/Pokemon White 2",
          "FIFA Soccer 13",
          "The Sims 3",
          "GoldenEye 007",
          "Mario & Sonic at the Olympic Games",
          "Final Fantasy X",
          "Final Fantasy VIII",
          "Pokémon Platinum Version",
          "Pac-Man",
          "Grand Theft Auto: Liberty City Stories",
          "Super Mario Galaxy 2",
          "Star Wars Battlefront (2015)",
          "Call of Duty: Advanced Warfare",
          "The Legend of Zelda: Ocarina of Time",
          "Crash Bandicoot 2: Cortex Strikes Back",
          "Super Mario Bros. 2",
          "Super Smash Bros. for Wii U and 3DS",
          "Call of Duty: World at War",
          "Battlefield 3"
         ],
         "type": "scatter",
         "x": [
          1,
          2,
          3,
          4,
          5,
          6,
          7,
          8,
          9,
          10,
          11,
          12,
          13,
          14,
          15,
          16,
          17,
          18,
          19,
          20,
          21,
          22,
          23,
          24,
          25,
          26,
          27,
          28,
          29,
          30,
          31,
          32,
          33,
          34,
          35,
          36,
          37,
          38,
          39,
          40,
          41,
          42,
          43,
          44,
          45,
          46,
          47,
          48,
          49,
          50,
          51,
          52,
          53,
          54,
          55,
          56,
          57,
          58,
          59,
          60,
          61,
          62,
          63,
          64,
          65,
          66,
          67,
          68,
          69,
          70,
          71,
          72,
          73,
          74,
          75,
          76,
          77,
          78,
          79,
          80,
          81,
          82,
          83,
          84,
          85,
          86,
          87,
          88,
          89,
          90,
          91,
          92,
          93,
          94,
          95,
          96,
          97,
          98,
          99,
          100
         ],
         "y": [
          8.46,
          0.77,
          3.31,
          2.96,
          1,
          0.58,
          2.9,
          2.85,
          2.26,
          0.47,
          2.75,
          1.92,
          0.71,
          2.15,
          1.79,
          1.67,
          4.14,
          10.57,
          0.55,
          2.05,
          1.37,
          0.42,
          0.46,
          1.38,
          1.78,
          0.5,
          0.82,
          1.18,
          1.16,
          1.32,
          0.59,
          1.13,
          0.79,
          2.31,
          2.52,
          1.12,
          1.29,
          1.62,
          1.3,
          1.02,
          1.83,
          0.88,
          0.89,
          1.21,
          2.02,
          0.77,
          0.23,
          7.53,
          0.76,
          0.65,
          0.29,
          1.03,
          0.52,
          0.78,
          2.12,
          1.63,
          1.62,
          0.29,
          0.35,
          0.98,
          1.07,
          0.82,
          0.78,
          0.15,
          0.63,
          0.73,
          0.96,
          1.38,
          0.78,
          0.5,
          0.9,
          0.23,
          0.77,
          0.41,
          0.7,
          0.85,
          0.18,
          1.26,
          0.68,
          0.08,
          0.73,
          0.43,
          2.01,
          0.71,
          0.15,
          0.91,
          0.33,
          0.23,
          0.55,
          0.08,
          1.75,
          0.64,
          1.23,
          1.37,
          0.16,
          0.31,
          0.19,
          0.43,
          0.69,
          0.69
         ]
        }
       ],
       "layout": {
        "paper_bgcolor": "rgb(243, 243, 243)",
        "plot_bgcolor": "rgb(243, 243, 243)",
        "template": {
         "data": {
          "bar": [
           {
            "error_x": {
             "color": "#2a3f5f"
            },
            "error_y": {
             "color": "#2a3f5f"
            },
            "marker": {
             "line": {
              "color": "#E5ECF6",
              "width": 0.5
             },
             "pattern": {
              "fillmode": "overlay",
              "size": 10,
              "solidity": 0.2
             }
            },
            "type": "bar"
           }
          ],
          "barpolar": [
           {
            "marker": {
             "line": {
              "color": "#E5ECF6",
              "width": 0.5
             },
             "pattern": {
              "fillmode": "overlay",
              "size": 10,
              "solidity": 0.2
             }
            },
            "type": "barpolar"
           }
          ],
          "carpet": [
           {
            "aaxis": {
             "endlinecolor": "#2a3f5f",
             "gridcolor": "white",
             "linecolor": "white",
             "minorgridcolor": "white",
             "startlinecolor": "#2a3f5f"
            },
            "baxis": {
             "endlinecolor": "#2a3f5f",
             "gridcolor": "white",
             "linecolor": "white",
             "minorgridcolor": "white",
             "startlinecolor": "#2a3f5f"
            },
            "type": "carpet"
           }
          ],
          "choropleth": [
           {
            "colorbar": {
             "outlinewidth": 0,
             "ticks": ""
            },
            "type": "choropleth"
           }
          ],
          "contour": [
           {
            "colorbar": {
             "outlinewidth": 0,
             "ticks": ""
            },
            "colorscale": [
             [
              0,
              "#0d0887"
             ],
             [
              0.1111111111111111,
              "#46039f"
             ],
             [
              0.2222222222222222,
              "#7201a8"
             ],
             [
              0.3333333333333333,
              "#9c179e"
             ],
             [
              0.4444444444444444,
              "#bd3786"
             ],
             [
              0.5555555555555556,
              "#d8576b"
             ],
             [
              0.6666666666666666,
              "#ed7953"
             ],
             [
              0.7777777777777778,
              "#fb9f3a"
             ],
             [
              0.8888888888888888,
              "#fdca26"
             ],
             [
              1,
              "#f0f921"
             ]
            ],
            "type": "contour"
           }
          ],
          "contourcarpet": [
           {
            "colorbar": {
             "outlinewidth": 0,
             "ticks": ""
            },
            "type": "contourcarpet"
           }
          ],
          "heatmap": [
           {
            "colorbar": {
             "outlinewidth": 0,
             "ticks": ""
            },
            "colorscale": [
             [
              0,
              "#0d0887"
             ],
             [
              0.1111111111111111,
              "#46039f"
             ],
             [
              0.2222222222222222,
              "#7201a8"
             ],
             [
              0.3333333333333333,
              "#9c179e"
             ],
             [
              0.4444444444444444,
              "#bd3786"
             ],
             [
              0.5555555555555556,
              "#d8576b"
             ],
             [
              0.6666666666666666,
              "#ed7953"
             ],
             [
              0.7777777777777778,
              "#fb9f3a"
             ],
             [
              0.8888888888888888,
              "#fdca26"
             ],
             [
              1,
              "#f0f921"
             ]
            ],
            "type": "heatmap"
           }
          ],
          "heatmapgl": [
           {
            "colorbar": {
             "outlinewidth": 0,
             "ticks": ""
            },
            "colorscale": [
             [
              0,
              "#0d0887"
             ],
             [
              0.1111111111111111,
              "#46039f"
             ],
             [
              0.2222222222222222,
              "#7201a8"
             ],
             [
              0.3333333333333333,
              "#9c179e"
             ],
             [
              0.4444444444444444,
              "#bd3786"
             ],
             [
              0.5555555555555556,
              "#d8576b"
             ],
             [
              0.6666666666666666,
              "#ed7953"
             ],
             [
              0.7777777777777778,
              "#fb9f3a"
             ],
             [
              0.8888888888888888,
              "#fdca26"
             ],
             [
              1,
              "#f0f921"
             ]
            ],
            "type": "heatmapgl"
           }
          ],
          "histogram": [
           {
            "marker": {
             "pattern": {
              "fillmode": "overlay",
              "size": 10,
              "solidity": 0.2
             }
            },
            "type": "histogram"
           }
          ],
          "histogram2d": [
           {
            "colorbar": {
             "outlinewidth": 0,
             "ticks": ""
            },
            "colorscale": [
             [
              0,
              "#0d0887"
             ],
             [
              0.1111111111111111,
              "#46039f"
             ],
             [
              0.2222222222222222,
              "#7201a8"
             ],
             [
              0.3333333333333333,
              "#9c179e"
             ],
             [
              0.4444444444444444,
              "#bd3786"
             ],
             [
              0.5555555555555556,
              "#d8576b"
             ],
             [
              0.6666666666666666,
              "#ed7953"
             ],
             [
              0.7777777777777778,
              "#fb9f3a"
             ],
             [
              0.8888888888888888,
              "#fdca26"
             ],
             [
              1,
              "#f0f921"
             ]
            ],
            "type": "histogram2d"
           }
          ],
          "histogram2dcontour": [
           {
            "colorbar": {
             "outlinewidth": 0,
             "ticks": ""
            },
            "colorscale": [
             [
              0,
              "#0d0887"
             ],
             [
              0.1111111111111111,
              "#46039f"
             ],
             [
              0.2222222222222222,
              "#7201a8"
             ],
             [
              0.3333333333333333,
              "#9c179e"
             ],
             [
              0.4444444444444444,
              "#bd3786"
             ],
             [
              0.5555555555555556,
              "#d8576b"
             ],
             [
              0.6666666666666666,
              "#ed7953"
             ],
             [
              0.7777777777777778,
              "#fb9f3a"
             ],
             [
              0.8888888888888888,
              "#fdca26"
             ],
             [
              1,
              "#f0f921"
             ]
            ],
            "type": "histogram2dcontour"
           }
          ],
          "mesh3d": [
           {
            "colorbar": {
             "outlinewidth": 0,
             "ticks": ""
            },
            "type": "mesh3d"
           }
          ],
          "parcoords": [
           {
            "line": {
             "colorbar": {
              "outlinewidth": 0,
              "ticks": ""
             }
            },
            "type": "parcoords"
           }
          ],
          "pie": [
           {
            "automargin": true,
            "type": "pie"
           }
          ],
          "scatter": [
           {
            "fillpattern": {
             "fillmode": "overlay",
             "size": 10,
             "solidity": 0.2
            },
            "type": "scatter"
           }
          ],
          "scatter3d": [
           {
            "line": {
             "colorbar": {
              "outlinewidth": 0,
              "ticks": ""
             }
            },
            "marker": {
             "colorbar": {
              "outlinewidth": 0,
              "ticks": ""
             }
            },
            "type": "scatter3d"
           }
          ],
          "scattercarpet": [
           {
            "marker": {
             "colorbar": {
              "outlinewidth": 0,
              "ticks": ""
             }
            },
            "type": "scattercarpet"
           }
          ],
          "scattergeo": [
           {
            "marker": {
             "colorbar": {
              "outlinewidth": 0,
              "ticks": ""
             }
            },
            "type": "scattergeo"
           }
          ],
          "scattergl": [
           {
            "marker": {
             "colorbar": {
              "outlinewidth": 0,
              "ticks": ""
             }
            },
            "type": "scattergl"
           }
          ],
          "scattermapbox": [
           {
            "marker": {
             "colorbar": {
              "outlinewidth": 0,
              "ticks": ""
             }
            },
            "type": "scattermapbox"
           }
          ],
          "scatterpolar": [
           {
            "marker": {
             "colorbar": {
              "outlinewidth": 0,
              "ticks": ""
             }
            },
            "type": "scatterpolar"
           }
          ],
          "scatterpolargl": [
           {
            "marker": {
             "colorbar": {
              "outlinewidth": 0,
              "ticks": ""
             }
            },
            "type": "scatterpolargl"
           }
          ],
          "scatterternary": [
           {
            "marker": {
             "colorbar": {
              "outlinewidth": 0,
              "ticks": ""
             }
            },
            "type": "scatterternary"
           }
          ],
          "surface": [
           {
            "colorbar": {
             "outlinewidth": 0,
             "ticks": ""
            },
            "colorscale": [
             [
              0,
              "#0d0887"
             ],
             [
              0.1111111111111111,
              "#46039f"
             ],
             [
              0.2222222222222222,
              "#7201a8"
             ],
             [
              0.3333333333333333,
              "#9c179e"
             ],
             [
              0.4444444444444444,
              "#bd3786"
             ],
             [
              0.5555555555555556,
              "#d8576b"
             ],
             [
              0.6666666666666666,
              "#ed7953"
             ],
             [
              0.7777777777777778,
              "#fb9f3a"
             ],
             [
              0.8888888888888888,
              "#fdca26"
             ],
             [
              1,
              "#f0f921"
             ]
            ],
            "type": "surface"
           }
          ],
          "table": [
           {
            "cells": {
             "fill": {
              "color": "#EBF0F8"
             },
             "line": {
              "color": "white"
             }
            },
            "header": {
             "fill": {
              "color": "#C8D4E3"
             },
             "line": {
              "color": "white"
             }
            },
            "type": "table"
           }
          ]
         },
         "layout": {
          "annotationdefaults": {
           "arrowcolor": "#2a3f5f",
           "arrowhead": 0,
           "arrowwidth": 1
          },
          "autotypenumbers": "strict",
          "coloraxis": {
           "colorbar": {
            "outlinewidth": 0,
            "ticks": ""
           }
          },
          "colorscale": {
           "diverging": [
            [
             0,
             "#8e0152"
            ],
            [
             0.1,
             "#c51b7d"
            ],
            [
             0.2,
             "#de77ae"
            ],
            [
             0.3,
             "#f1b6da"
            ],
            [
             0.4,
             "#fde0ef"
            ],
            [
             0.5,
             "#f7f7f7"
            ],
            [
             0.6,
             "#e6f5d0"
            ],
            [
             0.7,
             "#b8e186"
            ],
            [
             0.8,
             "#7fbc41"
            ],
            [
             0.9,
             "#4d9221"
            ],
            [
             1,
             "#276419"
            ]
           ],
           "sequential": [
            [
             0,
             "#0d0887"
            ],
            [
             0.1111111111111111,
             "#46039f"
            ],
            [
             0.2222222222222222,
             "#7201a8"
            ],
            [
             0.3333333333333333,
             "#9c179e"
            ],
            [
             0.4444444444444444,
             "#bd3786"
            ],
            [
             0.5555555555555556,
             "#d8576b"
            ],
            [
             0.6666666666666666,
             "#ed7953"
            ],
            [
             0.7777777777777778,
             "#fb9f3a"
            ],
            [
             0.8888888888888888,
             "#fdca26"
            ],
            [
             1,
             "#f0f921"
            ]
           ],
           "sequentialminus": [
            [
             0,
             "#0d0887"
            ],
            [
             0.1111111111111111,
             "#46039f"
            ],
            [
             0.2222222222222222,
             "#7201a8"
            ],
            [
             0.3333333333333333,
             "#9c179e"
            ],
            [
             0.4444444444444444,
             "#bd3786"
            ],
            [
             0.5555555555555556,
             "#d8576b"
            ],
            [
             0.6666666666666666,
             "#ed7953"
            ],
            [
             0.7777777777777778,
             "#fb9f3a"
            ],
            [
             0.8888888888888888,
             "#fdca26"
            ],
            [
             1,
             "#f0f921"
            ]
           ]
          },
          "colorway": [
           "#636efa",
           "#EF553B",
           "#00cc96",
           "#ab63fa",
           "#FFA15A",
           "#19d3f3",
           "#FF6692",
           "#B6E880",
           "#FF97FF",
           "#FECB52"
          ],
          "font": {
           "color": "#2a3f5f"
          },
          "geo": {
           "bgcolor": "white",
           "lakecolor": "white",
           "landcolor": "#E5ECF6",
           "showlakes": true,
           "showland": true,
           "subunitcolor": "white"
          },
          "hoverlabel": {
           "align": "left"
          },
          "hovermode": "closest",
          "mapbox": {
           "style": "light"
          },
          "paper_bgcolor": "white",
          "plot_bgcolor": "#E5ECF6",
          "polar": {
           "angularaxis": {
            "gridcolor": "white",
            "linecolor": "white",
            "ticks": ""
           },
           "bgcolor": "#E5ECF6",
           "radialaxis": {
            "gridcolor": "white",
            "linecolor": "white",
            "ticks": ""
           }
          },
          "scene": {
           "xaxis": {
            "backgroundcolor": "#E5ECF6",
            "gridcolor": "white",
            "gridwidth": 2,
            "linecolor": "white",
            "showbackground": true,
            "ticks": "",
            "zerolinecolor": "white"
           },
           "yaxis": {
            "backgroundcolor": "#E5ECF6",
            "gridcolor": "white",
            "gridwidth": 2,
            "linecolor": "white",
            "showbackground": true,
            "ticks": "",
            "zerolinecolor": "white"
           },
           "zaxis": {
            "backgroundcolor": "#E5ECF6",
            "gridcolor": "white",
            "gridwidth": 2,
            "linecolor": "white",
            "showbackground": true,
            "ticks": "",
            "zerolinecolor": "white"
           }
          },
          "shapedefaults": {
           "line": {
            "color": "#2a3f5f"
           }
          },
          "ternary": {
           "aaxis": {
            "gridcolor": "white",
            "linecolor": "white",
            "ticks": ""
           },
           "baxis": {
            "gridcolor": "white",
            "linecolor": "white",
            "ticks": ""
           },
           "bgcolor": "#E5ECF6",
           "caxis": {
            "gridcolor": "white",
            "linecolor": "white",
            "ticks": ""
           }
          },
          "title": {
           "x": 0.05
          },
          "xaxis": {
           "automargin": true,
           "gridcolor": "white",
           "linecolor": "white",
           "ticks": "",
           "title": {
            "standoff": 15
           },
           "zerolinecolor": "white",
           "zerolinewidth": 2
          },
          "yaxis": {
           "automargin": true,
           "gridcolor": "white",
           "linecolor": "white",
           "ticks": "",
           "title": {
            "standoff": 15
           },
           "zerolinecolor": "white",
           "zerolinewidth": 2
          }
         }
        },
        "title": {
         "text": "North America, Europe, Japan and Other Sales of Top 100 Video Games"
        },
        "xaxis": {
         "gridcolor": "white",
         "ticklen": 5,
         "title": {
          "text": "Rank"
         },
         "zeroline": false,
         "zerolinewidth": 1
        },
        "yaxis": {
         "gridcolor": "white",
         "ticklen": 5,
         "title": {
          "text": "Sales(In Millions)"
         },
         "zeroline": false,
         "zerolinewidth": 1
        }
       }
      },
      "text/html": [
       "<div>                            <div id=\"26dde0bc-0d8e-4380-8314-811dd4f79c8c\" class=\"plotly-graph-div\" style=\"height:525px; width:100%;\"></div>            <script type=\"text/javascript\">                require([\"plotly\"], function(Plotly) {                    window.PLOTLYENV=window.PLOTLYENV || {};                                    if (document.getElementById(\"26dde0bc-0d8e-4380-8314-811dd4f79c8c\")) {                    Plotly.newPlot(                        \"26dde0bc-0d8e-4380-8314-811dd4f79c8c\",                        [{\"marker\":{\"color\":\"rgba(28, 149, 249, 0.8)\",\"size\":8},\"mode\":\"markers\",\"name\":\"North America\",\"text\":[\"Wii Sports\",\"Super Mario Bros.\",\"Mario Kart Wii\",\"Wii Sports Resort\",\"Pokemon Red/Pokemon Blue\",\"Tetris\",\"New Super Mario Bros.\",\"Wii Play\",\"New Super Mario Bros. Wii\",\"Duck Hunt\",\"Nintendogs\",\"Mario Kart DS\",\"Pokemon Gold/Pokemon Silver\",\"Wii Fit\",\"Wii Fit Plus\",\"Kinect Adventures!\",\"Grand Theft Auto V\",\"Grand Theft Auto: San Andreas\",\"Super Mario World\",\"Brain Age: Train Your Brain in Minutes a Day\",\"Pokemon Diamond/Pokemon Pearl\",\"Super Mario Land\",\"Super Mario Bros. 3\",\"Grand Theft Auto V\",\"Grand Theft Auto: Vice City\",\"Pokemon Ruby/Pokemon Sapphire\",\"Pokemon Black/Pokemon White\",\"Brain Age 2: More Training in Minutes a Day\",\"Gran Turismo 3: A-Spec\",\"Call of Duty: Modern Warfare 3\",\"Pok\\u00e9mon Yellow: Special Pikachu Edition\",\"Call of Duty: Black Ops\",\"Pokemon X/Pokemon Y\",\"Call of Duty: Black Ops 3\",\"Call of Duty: Black Ops II\",\"Call of Duty: Black Ops II\",\"Call of Duty: Modern Warfare 2\",\"Call of Duty: Modern Warfare 3\",\"Grand Theft Auto III\",\"Super Smash Bros. Brawl\",\"Call of Duty: Black Ops\",\"Animal Crossing: Wild World\",\"Mario Kart 7\",\"Halo 3\",\"Grand Theft Auto V\",\"Pokemon HeartGold/Pokemon SoulSilver\",\"Super Mario 64\",\"Gran Turismo 4\",\"Super Mario Galaxy\",\"Pokemon Omega Ruby/Pokemon Alpha Sapphire\",\"Super Mario Land 2: 6 Golden Coins\",\"Grand Theft Auto IV\",\"Gran Turismo\",\"Super Mario 3D Land\",\"Gran Turismo 5\",\"Call of Duty: Modern Warfare 2\",\"Grand Theft Auto IV\",\"Super Mario All-Stars\",\"Pokemon FireRed/Pokemon LeafGreen\",\"Super Mario 64\",\"Just Dance 3\",\"Call of Duty: Ghosts\",\"Halo: Reach\",\"Mario Kart 64\",\"New Super Mario Bros. 2\",\"Halo 4\",\"Final Fantasy VII\",\"Call of Duty: Ghosts\",\"Just Dance 2\",\"Gran Turismo 2\",\"Call of Duty 4: Modern Warfare\",\"Donkey Kong Country\",\"Minecraft\",\"Animal Crossing: New Leaf\",\"Mario Party DS\",\"The Elder Scrolls V: Skyrim\",\"Super Mario Kart\",\"FIFA 16\",\"Wii Party\",\"Halo 2\",\"Mario Party 8\",\"Pokemon Black 2/Pokemon White 2\",\"FIFA Soccer 13\",\"The Sims 3\",\"GoldenEye 007\",\"Mario & Sonic at the Olympic Games\",\"Final Fantasy X\",\"Final Fantasy VIII\",\"Pok\\u00e9mon Platinum Version\",\"Pac-Man\",\"Grand Theft Auto: Liberty City Stories\",\"Super Mario Galaxy 2\",\"Star Wars Battlefront (2015)\",\"Call of Duty: Advanced Warfare\",\"The Legend of Zelda: Ocarina of Time\",\"Crash Bandicoot 2: Cortex Strikes Back\",\"Super Mario Bros. 2\",\"Super Smash Bros. for Wii U and 3DS\",\"Call of Duty: World at War\",\"Battlefield 3\"],\"x\":[1,2,3,4,5,6,7,8,9,10,11,12,13,14,15,16,17,18,19,20,21,22,23,24,25,26,27,28,29,30,31,32,33,34,35,36,37,38,39,40,41,42,43,44,45,46,47,48,49,50,51,52,53,54,55,56,57,58,59,60,61,62,63,64,65,66,67,68,69,70,71,72,73,74,75,76,77,78,79,80,81,82,83,84,85,86,87,88,89,90,91,92,93,94,95,96,97,98,99,100],\"y\":[41.49,29.08,15.85,15.75,11.27,23.2,11.38,14.03,14.59,26.93,9.07,9.81,9.0,8.94,9.09,14.97,7.01,9.43,12.78,4.75,6.42,10.83,9.54,9.63,8.41,6.06,5.57,3.44,6.85,9.03,5.89,9.67,5.17,5.77,4.99,8.25,8.52,5.54,6.99,6.75,5.98,2.55,4.74,7.97,3.8,4.4,6.91,3.01,6.16,4.23,6.16,6.76,4.02,4.89,2.96,4.99,4.76,5.99,4.34,5.08,6.05,6.72,7.03,5.55,3.66,6.63,3.01,4.09,5.84,3.88,5.91,4.36,5.58,2.01,4.46,5.03,3.54,1.11,1.79,6.82,3.81,2.91,1.06,0.98,5.8,2.58,2.91,2.28,2.82,7.28,2.9,3.66,2.93,2.8,4.1,3.78,5.39,3.24,4.79,4.46],\"type\":\"scatter\"},{\"marker\":{\"color\":\"rgba(249, 94, 28, 0.8)\",\"size\":8},\"mode\":\"markers\",\"name\":\"Europe\",\"text\":[\"Wii Sports\",\"Super Mario Bros.\",\"Mario Kart Wii\",\"Wii Sports Resort\",\"Pokemon Red/Pokemon Blue\",\"Tetris\",\"New Super Mario Bros.\",\"Wii Play\",\"New Super Mario Bros. Wii\",\"Duck Hunt\",\"Nintendogs\",\"Mario Kart DS\",\"Pokemon Gold/Pokemon Silver\",\"Wii Fit\",\"Wii Fit Plus\",\"Kinect Adventures!\",\"Grand Theft Auto V\",\"Grand Theft Auto: San Andreas\",\"Super Mario World\",\"Brain Age: Train Your Brain in Minutes a Day\",\"Pokemon Diamond/Pokemon Pearl\",\"Super Mario Land\",\"Super Mario Bros. 3\",\"Grand Theft Auto V\",\"Grand Theft Auto: Vice City\",\"Pokemon Ruby/Pokemon Sapphire\",\"Pokemon Black/Pokemon White\",\"Brain Age 2: More Training in Minutes a Day\",\"Gran Turismo 3: A-Spec\",\"Call of Duty: Modern Warfare 3\",\"Pok\\u00e9mon Yellow: Special Pikachu Edition\",\"Call of Duty: Black Ops\",\"Pokemon X/Pokemon Y\",\"Call of Duty: Black Ops 3\",\"Call of Duty: Black Ops II\",\"Call of Duty: Black Ops II\",\"Call of Duty: Modern Warfare 2\",\"Call of Duty: Modern Warfare 3\",\"Grand Theft Auto III\",\"Super Smash Bros. Brawl\",\"Call of Duty: Black Ops\",\"Animal Crossing: Wild World\",\"Mario Kart 7\",\"Halo 3\",\"Grand Theft Auto V\",\"Pokemon HeartGold/Pokemon SoulSilver\",\"Super Mario 64\",\"Gran Turismo 4\",\"Super Mario Galaxy\",\"Pokemon Omega Ruby/Pokemon Alpha Sapphire\",\"Super Mario Land 2: 6 Golden Coins\",\"Grand Theft Auto IV\",\"Gran Turismo\",\"Super Mario 3D Land\",\"Gran Turismo 5\",\"Call of Duty: Modern Warfare 2\",\"Grand Theft Auto IV\",\"Super Mario All-Stars\",\"Pokemon FireRed/Pokemon LeafGreen\",\"Super Mario 64\",\"Just Dance 3\",\"Call of Duty: Ghosts\",\"Halo: Reach\",\"Mario Kart 64\",\"New Super Mario Bros. 2\",\"Halo 4\",\"Final Fantasy VII\",\"Call of Duty: Ghosts\",\"Just Dance 2\",\"Gran Turismo 2\",\"Call of Duty 4: Modern Warfare\",\"Donkey Kong Country\",\"Minecraft\",\"Animal Crossing: New Leaf\",\"Mario Party DS\",\"The Elder Scrolls V: Skyrim\",\"Super Mario Kart\",\"FIFA 16\",\"Wii Party\",\"Halo 2\",\"Mario Party 8\",\"Pokemon Black 2/Pokemon White 2\",\"FIFA Soccer 13\",\"The Sims 3\",\"GoldenEye 007\",\"Mario & Sonic at the Olympic Games\",\"Final Fantasy X\",\"Final Fantasy VIII\",\"Pok\\u00e9mon Platinum Version\",\"Pac-Man\",\"Grand Theft Auto: Liberty City Stories\",\"Super Mario Galaxy 2\",\"Star Wars Battlefront (2015)\",\"Call of Duty: Advanced Warfare\",\"The Legend of Zelda: Ocarina of Time\",\"Crash Bandicoot 2: Cortex Strikes Back\",\"Super Mario Bros. 2\",\"Super Smash Bros. for Wii U and 3DS\",\"Call of Duty: World at War\",\"Battlefield 3\"],\"x\":[1,2,3,4,5,6,7,8,9,10,11,12,13,14,15,16,17,18,19,20,21,22,23,24,25,26,27,28,29,30,31,32,33,34,35,36,37,38,39,40,41,42,43,44,45,46,47,48,49,50,51,52,53,54,55,56,57,58,59,60,61,62,63,64,65,66,67,68,69,70,71,72,73,74,75,76,77,78,79,80,81,82,83,84,85,86,87,88,89,90,91,92,93,94,95,96,97,98,99,100],\"y\":[29.02,3.58,12.88,11.01,8.89,2.26,9.23,9.2,7.06,0.63,11.0,7.57,6.18,8.03,8.59,4.94,9.27,0.4,3.75,9.26,4.52,2.71,3.44,5.31,5.49,3.9,3.28,5.36,5.09,4.28,5.04,3.73,4.05,5.81,5.88,4.3,3.63,5.82,4.51,2.61,4.44,3.52,3.91,2.83,5.81,2.77,2.85,0.01,3.4,3.37,2.04,3.1,3.87,2.99,4.88,3.69,3.76,2.15,2.65,3.11,3.15,2.63,1.98,1.94,3.07,2.36,2.47,3.73,2.89,3.42,2.38,1.71,2.83,2.32,1.88,2.86,1.24,6.06,3.53,1.53,2.3,1.86,5.05,6.42,2.01,3.9,2.07,1.72,1.78,0.45,2.83,2.42,3.29,3.3,1.89,2.17,1.18,1.35,1.9,2.13],\"type\":\"scatter\"},{\"marker\":{\"color\":\"rgba(150, 26, 80, 0.8)\",\"size\":8},\"mode\":\"markers\",\"name\":\"Japan\",\"text\":[\"Wii Sports\",\"Super Mario Bros.\",\"Mario Kart Wii\",\"Wii Sports Resort\",\"Pokemon Red/Pokemon Blue\",\"Tetris\",\"New Super Mario Bros.\",\"Wii Play\",\"New Super Mario Bros. Wii\",\"Duck Hunt\",\"Nintendogs\",\"Mario Kart DS\",\"Pokemon Gold/Pokemon Silver\",\"Wii Fit\",\"Wii Fit Plus\",\"Kinect Adventures!\",\"Grand Theft Auto V\",\"Grand Theft Auto: San Andreas\",\"Super Mario World\",\"Brain Age: Train Your Brain in Minutes a Day\",\"Pokemon Diamond/Pokemon Pearl\",\"Super Mario Land\",\"Super Mario Bros. 3\",\"Grand Theft Auto V\",\"Grand Theft Auto: Vice City\",\"Pokemon Ruby/Pokemon Sapphire\",\"Pokemon Black/Pokemon White\",\"Brain Age 2: More Training in Minutes a Day\",\"Gran Turismo 3: A-Spec\",\"Call of Duty: Modern Warfare 3\",\"Pok\\u00e9mon Yellow: Special Pikachu Edition\",\"Call of Duty: Black Ops\",\"Pokemon X/Pokemon Y\",\"Call of Duty: Black Ops 3\",\"Call of Duty: Black Ops II\",\"Call of Duty: Black Ops II\",\"Call of Duty: Modern Warfare 2\",\"Call of Duty: Modern Warfare 3\",\"Grand Theft Auto III\",\"Super Smash Bros. Brawl\",\"Call of Duty: Black Ops\",\"Animal Crossing: Wild World\",\"Mario Kart 7\",\"Halo 3\",\"Grand Theft Auto V\",\"Pokemon HeartGold/Pokemon SoulSilver\",\"Super Mario 64\",\"Gran Turismo 4\",\"Super Mario Galaxy\",\"Pokemon Omega Ruby/Pokemon Alpha Sapphire\",\"Super Mario Land 2: 6 Golden Coins\",\"Grand Theft Auto IV\",\"Gran Turismo\",\"Super Mario 3D Land\",\"Gran Turismo 5\",\"Call of Duty: Modern Warfare 2\",\"Grand Theft Auto IV\",\"Super Mario All-Stars\",\"Pokemon FireRed/Pokemon LeafGreen\",\"Super Mario 64\",\"Just Dance 3\",\"Call of Duty: Ghosts\",\"Halo: Reach\",\"Mario Kart 64\",\"New Super Mario Bros. 2\",\"Halo 4\",\"Final Fantasy VII\",\"Call of Duty: Ghosts\",\"Just Dance 2\",\"Gran Turismo 2\",\"Call of Duty 4: Modern Warfare\",\"Donkey Kong Country\",\"Minecraft\",\"Animal Crossing: New Leaf\",\"Mario Party DS\",\"The Elder Scrolls V: Skyrim\",\"Super Mario Kart\",\"FIFA 16\",\"Wii Party\",\"Halo 2\",\"Mario Party 8\",\"Pokemon Black 2/Pokemon White 2\",\"FIFA Soccer 13\",\"The Sims 3\",\"GoldenEye 007\",\"Mario & Sonic at the Olympic Games\",\"Final Fantasy X\",\"Final Fantasy VIII\",\"Pok\\u00e9mon Platinum Version\",\"Pac-Man\",\"Grand Theft Auto: Liberty City Stories\",\"Super Mario Galaxy 2\",\"Star Wars Battlefront (2015)\",\"Call of Duty: Advanced Warfare\",\"The Legend of Zelda: Ocarina of Time\",\"Crash Bandicoot 2: Cortex Strikes Back\",\"Super Mario Bros. 2\",\"Super Smash Bros. for Wii U and 3DS\",\"Call of Duty: World at War\",\"Battlefield 3\"],\"x\":[1,2,3,4,5,6,7,8,9,10,11,12,13,14,15,16,17,18,19,20,21,22,23,24,25,26,27,28,29,30,31,32,33,34,35,36,37,38,39,40,41,42,43,44,45,46,47,48,49,50,51,52,53,54,55,56,57,58,59,60,61,62,63,64,65,66,67,68,69,70,71,72,73,74,75,76,77,78,79,80,81,82,83,84,85,86,87,88,89,90,91,92,93,94,95,96,97,98,99,100],\"y\":[3.77,6.81,3.79,3.28,10.22,4.22,6.5,2.93,4.7,0.28,1.93,4.13,7.2,3.6,2.53,0.24,0.97,0.41,3.54,4.16,6.04,4.18,3.84,0.06,0.47,5.38,5.65,5.32,1.87,0.13,3.12,0.11,4.34,0.35,0.65,0.07,0.08,0.49,0.3,2.66,0.48,5.33,2.67,0.13,0.36,3.96,1.91,1.1,1.2,3.08,2.69,0.14,2.54,2.13,0.81,0.38,0.44,2.12,3.15,1.25,0.0,0.04,0.08,2.23,2.47,0.04,3.28,0.38,0.01,1.69,0.13,3.0,0.02,4.36,1.98,0.1,3.81,0.06,2.49,0.05,1.58,3.14,0.13,0.0,0.13,0.66,2.73,3.63,2.69,0.0,0.24,0.98,0.22,0.14,1.45,1.31,0.7,2.42,0.0,0.06],\"type\":\"scatter\"},{\"marker\":{\"color\":\"lime\",\"size\":8},\"mode\":\"markers\",\"name\":\"Other\",\"text\":[\"Wii Sports\",\"Super Mario Bros.\",\"Mario Kart Wii\",\"Wii Sports Resort\",\"Pokemon Red/Pokemon Blue\",\"Tetris\",\"New Super Mario Bros.\",\"Wii Play\",\"New Super Mario Bros. Wii\",\"Duck Hunt\",\"Nintendogs\",\"Mario Kart DS\",\"Pokemon Gold/Pokemon Silver\",\"Wii Fit\",\"Wii Fit Plus\",\"Kinect Adventures!\",\"Grand Theft Auto V\",\"Grand Theft Auto: San Andreas\",\"Super Mario World\",\"Brain Age: Train Your Brain in Minutes a Day\",\"Pokemon Diamond/Pokemon Pearl\",\"Super Mario Land\",\"Super Mario Bros. 3\",\"Grand Theft Auto V\",\"Grand Theft Auto: Vice City\",\"Pokemon Ruby/Pokemon Sapphire\",\"Pokemon Black/Pokemon White\",\"Brain Age 2: More Training in Minutes a Day\",\"Gran Turismo 3: A-Spec\",\"Call of Duty: Modern Warfare 3\",\"Pok\\u00e9mon Yellow: Special Pikachu Edition\",\"Call of Duty: Black Ops\",\"Pokemon X/Pokemon Y\",\"Call of Duty: Black Ops 3\",\"Call of Duty: Black Ops II\",\"Call of Duty: Black Ops II\",\"Call of Duty: Modern Warfare 2\",\"Call of Duty: Modern Warfare 3\",\"Grand Theft Auto III\",\"Super Smash Bros. Brawl\",\"Call of Duty: Black Ops\",\"Animal Crossing: Wild World\",\"Mario Kart 7\",\"Halo 3\",\"Grand Theft Auto V\",\"Pokemon HeartGold/Pokemon SoulSilver\",\"Super Mario 64\",\"Gran Turismo 4\",\"Super Mario Galaxy\",\"Pokemon Omega Ruby/Pokemon Alpha Sapphire\",\"Super Mario Land 2: 6 Golden Coins\",\"Grand Theft Auto IV\",\"Gran Turismo\",\"Super Mario 3D Land\",\"Gran Turismo 5\",\"Call of Duty: Modern Warfare 2\",\"Grand Theft Auto IV\",\"Super Mario All-Stars\",\"Pokemon FireRed/Pokemon LeafGreen\",\"Super Mario 64\",\"Just Dance 3\",\"Call of Duty: Ghosts\",\"Halo: Reach\",\"Mario Kart 64\",\"New Super Mario Bros. 2\",\"Halo 4\",\"Final Fantasy VII\",\"Call of Duty: Ghosts\",\"Just Dance 2\",\"Gran Turismo 2\",\"Call of Duty 4: Modern Warfare\",\"Donkey Kong Country\",\"Minecraft\",\"Animal Crossing: New Leaf\",\"Mario Party DS\",\"The Elder Scrolls V: Skyrim\",\"Super Mario Kart\",\"FIFA 16\",\"Wii Party\",\"Halo 2\",\"Mario Party 8\",\"Pokemon Black 2/Pokemon White 2\",\"FIFA Soccer 13\",\"The Sims 3\",\"GoldenEye 007\",\"Mario & Sonic at the Olympic Games\",\"Final Fantasy X\",\"Final Fantasy VIII\",\"Pok\\u00e9mon Platinum Version\",\"Pac-Man\",\"Grand Theft Auto: Liberty City Stories\",\"Super Mario Galaxy 2\",\"Star Wars Battlefront (2015)\",\"Call of Duty: Advanced Warfare\",\"The Legend of Zelda: Ocarina of Time\",\"Crash Bandicoot 2: Cortex Strikes Back\",\"Super Mario Bros. 2\",\"Super Smash Bros. for Wii U and 3DS\",\"Call of Duty: World at War\",\"Battlefield 3\"],\"x\":[1,2,3,4,5,6,7,8,9,10,11,12,13,14,15,16,17,18,19,20,21,22,23,24,25,26,27,28,29,30,31,32,33,34,35,36,37,38,39,40,41,42,43,44,45,46,47,48,49,50,51,52,53,54,55,56,57,58,59,60,61,62,63,64,65,66,67,68,69,70,71,72,73,74,75,76,77,78,79,80,81,82,83,84,85,86,87,88,89,90,91,92,93,94,95,96,97,98,99,100],\"y\":[8.46,0.77,3.31,2.96,1.0,0.58,2.9,2.85,2.26,0.47,2.75,1.92,0.71,2.15,1.79,1.67,4.14,10.57,0.55,2.05,1.37,0.42,0.46,1.38,1.78,0.5,0.82,1.18,1.16,1.32,0.59,1.13,0.79,2.31,2.52,1.12,1.29,1.62,1.3,1.02,1.83,0.88,0.89,1.21,2.02,0.77,0.23,7.53,0.76,0.65,0.29,1.03,0.52,0.78,2.12,1.63,1.62,0.29,0.35,0.98,1.07,0.82,0.78,0.15,0.63,0.73,0.96,1.38,0.78,0.5,0.9,0.23,0.77,0.41,0.7,0.85,0.18,1.26,0.68,0.08,0.73,0.43,2.01,0.71,0.15,0.91,0.33,0.23,0.55,0.08,1.75,0.64,1.23,1.37,0.16,0.31,0.19,0.43,0.69,0.69],\"type\":\"scatter\"}],                        {\"paper_bgcolor\":\"rgb(243, 243, 243)\",\"plot_bgcolor\":\"rgb(243, 243, 243)\",\"template\":{\"data\":{\"barpolar\":[{\"marker\":{\"line\":{\"color\":\"#E5ECF6\",\"width\":0.5},\"pattern\":{\"fillmode\":\"overlay\",\"size\":10,\"solidity\":0.2}},\"type\":\"barpolar\"}],\"bar\":[{\"error_x\":{\"color\":\"#2a3f5f\"},\"error_y\":{\"color\":\"#2a3f5f\"},\"marker\":{\"line\":{\"color\":\"#E5ECF6\",\"width\":0.5},\"pattern\":{\"fillmode\":\"overlay\",\"size\":10,\"solidity\":0.2}},\"type\":\"bar\"}],\"carpet\":[{\"aaxis\":{\"endlinecolor\":\"#2a3f5f\",\"gridcolor\":\"white\",\"linecolor\":\"white\",\"minorgridcolor\":\"white\",\"startlinecolor\":\"#2a3f5f\"},\"baxis\":{\"endlinecolor\":\"#2a3f5f\",\"gridcolor\":\"white\",\"linecolor\":\"white\",\"minorgridcolor\":\"white\",\"startlinecolor\":\"#2a3f5f\"},\"type\":\"carpet\"}],\"choropleth\":[{\"colorbar\":{\"outlinewidth\":0,\"ticks\":\"\"},\"type\":\"choropleth\"}],\"contourcarpet\":[{\"colorbar\":{\"outlinewidth\":0,\"ticks\":\"\"},\"type\":\"contourcarpet\"}],\"contour\":[{\"colorbar\":{\"outlinewidth\":0,\"ticks\":\"\"},\"colorscale\":[[0.0,\"#0d0887\"],[0.1111111111111111,\"#46039f\"],[0.2222222222222222,\"#7201a8\"],[0.3333333333333333,\"#9c179e\"],[0.4444444444444444,\"#bd3786\"],[0.5555555555555556,\"#d8576b\"],[0.6666666666666666,\"#ed7953\"],[0.7777777777777778,\"#fb9f3a\"],[0.8888888888888888,\"#fdca26\"],[1.0,\"#f0f921\"]],\"type\":\"contour\"}],\"heatmapgl\":[{\"colorbar\":{\"outlinewidth\":0,\"ticks\":\"\"},\"colorscale\":[[0.0,\"#0d0887\"],[0.1111111111111111,\"#46039f\"],[0.2222222222222222,\"#7201a8\"],[0.3333333333333333,\"#9c179e\"],[0.4444444444444444,\"#bd3786\"],[0.5555555555555556,\"#d8576b\"],[0.6666666666666666,\"#ed7953\"],[0.7777777777777778,\"#fb9f3a\"],[0.8888888888888888,\"#fdca26\"],[1.0,\"#f0f921\"]],\"type\":\"heatmapgl\"}],\"heatmap\":[{\"colorbar\":{\"outlinewidth\":0,\"ticks\":\"\"},\"colorscale\":[[0.0,\"#0d0887\"],[0.1111111111111111,\"#46039f\"],[0.2222222222222222,\"#7201a8\"],[0.3333333333333333,\"#9c179e\"],[0.4444444444444444,\"#bd3786\"],[0.5555555555555556,\"#d8576b\"],[0.6666666666666666,\"#ed7953\"],[0.7777777777777778,\"#fb9f3a\"],[0.8888888888888888,\"#fdca26\"],[1.0,\"#f0f921\"]],\"type\":\"heatmap\"}],\"histogram2dcontour\":[{\"colorbar\":{\"outlinewidth\":0,\"ticks\":\"\"},\"colorscale\":[[0.0,\"#0d0887\"],[0.1111111111111111,\"#46039f\"],[0.2222222222222222,\"#7201a8\"],[0.3333333333333333,\"#9c179e\"],[0.4444444444444444,\"#bd3786\"],[0.5555555555555556,\"#d8576b\"],[0.6666666666666666,\"#ed7953\"],[0.7777777777777778,\"#fb9f3a\"],[0.8888888888888888,\"#fdca26\"],[1.0,\"#f0f921\"]],\"type\":\"histogram2dcontour\"}],\"histogram2d\":[{\"colorbar\":{\"outlinewidth\":0,\"ticks\":\"\"},\"colorscale\":[[0.0,\"#0d0887\"],[0.1111111111111111,\"#46039f\"],[0.2222222222222222,\"#7201a8\"],[0.3333333333333333,\"#9c179e\"],[0.4444444444444444,\"#bd3786\"],[0.5555555555555556,\"#d8576b\"],[0.6666666666666666,\"#ed7953\"],[0.7777777777777778,\"#fb9f3a\"],[0.8888888888888888,\"#fdca26\"],[1.0,\"#f0f921\"]],\"type\":\"histogram2d\"}],\"histogram\":[{\"marker\":{\"pattern\":{\"fillmode\":\"overlay\",\"size\":10,\"solidity\":0.2}},\"type\":\"histogram\"}],\"mesh3d\":[{\"colorbar\":{\"outlinewidth\":0,\"ticks\":\"\"},\"type\":\"mesh3d\"}],\"parcoords\":[{\"line\":{\"colorbar\":{\"outlinewidth\":0,\"ticks\":\"\"}},\"type\":\"parcoords\"}],\"pie\":[{\"automargin\":true,\"type\":\"pie\"}],\"scatter3d\":[{\"line\":{\"colorbar\":{\"outlinewidth\":0,\"ticks\":\"\"}},\"marker\":{\"colorbar\":{\"outlinewidth\":0,\"ticks\":\"\"}},\"type\":\"scatter3d\"}],\"scattercarpet\":[{\"marker\":{\"colorbar\":{\"outlinewidth\":0,\"ticks\":\"\"}},\"type\":\"scattercarpet\"}],\"scattergeo\":[{\"marker\":{\"colorbar\":{\"outlinewidth\":0,\"ticks\":\"\"}},\"type\":\"scattergeo\"}],\"scattergl\":[{\"marker\":{\"colorbar\":{\"outlinewidth\":0,\"ticks\":\"\"}},\"type\":\"scattergl\"}],\"scattermapbox\":[{\"marker\":{\"colorbar\":{\"outlinewidth\":0,\"ticks\":\"\"}},\"type\":\"scattermapbox\"}],\"scatterpolargl\":[{\"marker\":{\"colorbar\":{\"outlinewidth\":0,\"ticks\":\"\"}},\"type\":\"scatterpolargl\"}],\"scatterpolar\":[{\"marker\":{\"colorbar\":{\"outlinewidth\":0,\"ticks\":\"\"}},\"type\":\"scatterpolar\"}],\"scatter\":[{\"fillpattern\":{\"fillmode\":\"overlay\",\"size\":10,\"solidity\":0.2},\"type\":\"scatter\"}],\"scatterternary\":[{\"marker\":{\"colorbar\":{\"outlinewidth\":0,\"ticks\":\"\"}},\"type\":\"scatterternary\"}],\"surface\":[{\"colorbar\":{\"outlinewidth\":0,\"ticks\":\"\"},\"colorscale\":[[0.0,\"#0d0887\"],[0.1111111111111111,\"#46039f\"],[0.2222222222222222,\"#7201a8\"],[0.3333333333333333,\"#9c179e\"],[0.4444444444444444,\"#bd3786\"],[0.5555555555555556,\"#d8576b\"],[0.6666666666666666,\"#ed7953\"],[0.7777777777777778,\"#fb9f3a\"],[0.8888888888888888,\"#fdca26\"],[1.0,\"#f0f921\"]],\"type\":\"surface\"}],\"table\":[{\"cells\":{\"fill\":{\"color\":\"#EBF0F8\"},\"line\":{\"color\":\"white\"}},\"header\":{\"fill\":{\"color\":\"#C8D4E3\"},\"line\":{\"color\":\"white\"}},\"type\":\"table\"}]},\"layout\":{\"annotationdefaults\":{\"arrowcolor\":\"#2a3f5f\",\"arrowhead\":0,\"arrowwidth\":1},\"autotypenumbers\":\"strict\",\"coloraxis\":{\"colorbar\":{\"outlinewidth\":0,\"ticks\":\"\"}},\"colorscale\":{\"diverging\":[[0,\"#8e0152\"],[0.1,\"#c51b7d\"],[0.2,\"#de77ae\"],[0.3,\"#f1b6da\"],[0.4,\"#fde0ef\"],[0.5,\"#f7f7f7\"],[0.6,\"#e6f5d0\"],[0.7,\"#b8e186\"],[0.8,\"#7fbc41\"],[0.9,\"#4d9221\"],[1,\"#276419\"]],\"sequential\":[[0.0,\"#0d0887\"],[0.1111111111111111,\"#46039f\"],[0.2222222222222222,\"#7201a8\"],[0.3333333333333333,\"#9c179e\"],[0.4444444444444444,\"#bd3786\"],[0.5555555555555556,\"#d8576b\"],[0.6666666666666666,\"#ed7953\"],[0.7777777777777778,\"#fb9f3a\"],[0.8888888888888888,\"#fdca26\"],[1.0,\"#f0f921\"]],\"sequentialminus\":[[0.0,\"#0d0887\"],[0.1111111111111111,\"#46039f\"],[0.2222222222222222,\"#7201a8\"],[0.3333333333333333,\"#9c179e\"],[0.4444444444444444,\"#bd3786\"],[0.5555555555555556,\"#d8576b\"],[0.6666666666666666,\"#ed7953\"],[0.7777777777777778,\"#fb9f3a\"],[0.8888888888888888,\"#fdca26\"],[1.0,\"#f0f921\"]]},\"colorway\":[\"#636efa\",\"#EF553B\",\"#00cc96\",\"#ab63fa\",\"#FFA15A\",\"#19d3f3\",\"#FF6692\",\"#B6E880\",\"#FF97FF\",\"#FECB52\"],\"font\":{\"color\":\"#2a3f5f\"},\"geo\":{\"bgcolor\":\"white\",\"lakecolor\":\"white\",\"landcolor\":\"#E5ECF6\",\"showlakes\":true,\"showland\":true,\"subunitcolor\":\"white\"},\"hoverlabel\":{\"align\":\"left\"},\"hovermode\":\"closest\",\"mapbox\":{\"style\":\"light\"},\"paper_bgcolor\":\"white\",\"plot_bgcolor\":\"#E5ECF6\",\"polar\":{\"angularaxis\":{\"gridcolor\":\"white\",\"linecolor\":\"white\",\"ticks\":\"\"},\"bgcolor\":\"#E5ECF6\",\"radialaxis\":{\"gridcolor\":\"white\",\"linecolor\":\"white\",\"ticks\":\"\"}},\"scene\":{\"xaxis\":{\"backgroundcolor\":\"#E5ECF6\",\"gridcolor\":\"white\",\"gridwidth\":2,\"linecolor\":\"white\",\"showbackground\":true,\"ticks\":\"\",\"zerolinecolor\":\"white\"},\"yaxis\":{\"backgroundcolor\":\"#E5ECF6\",\"gridcolor\":\"white\",\"gridwidth\":2,\"linecolor\":\"white\",\"showbackground\":true,\"ticks\":\"\",\"zerolinecolor\":\"white\"},\"zaxis\":{\"backgroundcolor\":\"#E5ECF6\",\"gridcolor\":\"white\",\"gridwidth\":2,\"linecolor\":\"white\",\"showbackground\":true,\"ticks\":\"\",\"zerolinecolor\":\"white\"}},\"shapedefaults\":{\"line\":{\"color\":\"#2a3f5f\"}},\"ternary\":{\"aaxis\":{\"gridcolor\":\"white\",\"linecolor\":\"white\",\"ticks\":\"\"},\"baxis\":{\"gridcolor\":\"white\",\"linecolor\":\"white\",\"ticks\":\"\"},\"bgcolor\":\"#E5ECF6\",\"caxis\":{\"gridcolor\":\"white\",\"linecolor\":\"white\",\"ticks\":\"\"}},\"title\":{\"x\":0.05},\"xaxis\":{\"automargin\":true,\"gridcolor\":\"white\",\"linecolor\":\"white\",\"ticks\":\"\",\"title\":{\"standoff\":15},\"zerolinecolor\":\"white\",\"zerolinewidth\":2},\"yaxis\":{\"automargin\":true,\"gridcolor\":\"white\",\"linecolor\":\"white\",\"ticks\":\"\",\"title\":{\"standoff\":15},\"zerolinecolor\":\"white\",\"zerolinewidth\":2}}},\"title\":{\"text\":\"North America, Europe, Japan and Other Sales of Top 100 Video Games\"},\"xaxis\":{\"gridcolor\":\"white\",\"ticklen\":5,\"title\":{\"text\":\"Rank\"},\"zeroline\":false,\"zerolinewidth\":1},\"yaxis\":{\"gridcolor\":\"white\",\"ticklen\":5,\"title\":{\"text\":\"Sales(In Millions)\"},\"zeroline\":false,\"zerolinewidth\":1}},                        {\"responsive\": true}                    ).then(function(){\n",
       "                            \n",
       "var gd = document.getElementById('26dde0bc-0d8e-4380-8314-811dd4f79c8c');\n",
       "var x = new MutationObserver(function (mutations, observer) {{\n",
       "        var display = window.getComputedStyle(gd).display;\n",
       "        if (!display || display === 'none') {{\n",
       "            console.log([gd, 'removed!']);\n",
       "            Plotly.purge(gd);\n",
       "            observer.disconnect();\n",
       "        }}\n",
       "}});\n",
       "\n",
       "// Listen for the removal of the full notebook cells\n",
       "var notebookContainer = gd.closest('#notebook-container');\n",
       "if (notebookContainer) {{\n",
       "    x.observe(notebookContainer, {childList: true});\n",
       "}}\n",
       "\n",
       "// Listen for the clearing of the current output cell\n",
       "var outputEl = gd.closest('.output');\n",
       "if (outputEl) {{\n",
       "    x.observe(outputEl, {childList: true});\n",
       "}}\n",
       "\n",
       "                        })                };                });            </script>        </div>"
      ]
     },
     "metadata": {},
     "output_type": "display_data"
    }
   ],
   "source": [
    "trace1 = go.Scatter(\n",
    "                    x = vg.Rank,\n",
    "                    y = vg.NA_Sales,\n",
    "                    mode = \"markers\",\n",
    "                    name = \"North America\",\n",
    "                    marker = dict(color = 'rgba(28, 149, 249, 0.8)',size=8),\n",
    "                    text= vg.Name)\n",
    "\n",
    "trace2 = go.Scatter(\n",
    "                    x = vg.Rank,\n",
    "                    y = vg.EU_Sales,\n",
    "                    mode = \"markers\",\n",
    "                    name = \"Europe\",\n",
    "                    marker = dict(color = 'rgba(249, 94, 28, 0.8)',size=8),\n",
    "                    text= vg.Name)\n",
    "trace3 = go.Scatter(\n",
    "                    x = vg.Rank,\n",
    "                    y = vg.JP_Sales,\n",
    "                    mode = \"markers\",\n",
    "                    name = \"Japan\",\n",
    "                    marker = dict(color = 'rgba(150, 26, 80, 0.8)',size=8),\n",
    "                    text= vg.Name)\n",
    "trace4 = go.Scatter(\n",
    "                    x = vg.Rank,\n",
    "                    y = vg.Other_Sales,\n",
    "                    mode = \"markers\",\n",
    "                    name = \"Other\",\n",
    "                    marker = dict(color = 'lime',size=8),\n",
    "                    text= vg.Name)\n",
    "                    \n",
    "\n",
    "data = [trace1, trace2,trace3,trace4]\n",
    "layout = dict(title = 'North America, Europe, Japan and Other Sales of Top 100 Video Games',\n",
    "              xaxis= dict(title= 'Rank',ticklen= 5,zeroline= False,zerolinewidth=1,gridcolor=\"white\"),\n",
    "              yaxis= dict(title= 'Sales(In Millions)',ticklen= 5,zeroline= False,zerolinewidth=1,gridcolor=\"white\",),\n",
    "              paper_bgcolor='rgb(243, 243, 243)',\n",
    "              plot_bgcolor='rgb(243, 243, 243)' )\n",
    "fig = dict(data = data, layout = layout)\n",
    "iplot(fig)"
   ]
  },
  {
   "cell_type": "code",
   "execution_count": 22,
   "id": "a6832ba0",
   "metadata": {},
   "outputs": [
    {
     "data": {
      "application/vnd.plotly.v1+json": {
       "config": {
        "linkText": "Export to plot.ly",
        "plotlyServerURL": "https://plot.ly",
        "showLink": false
       },
       "data": [
        {
         "marker": {
          "color": [
           82.74,
           40.24,
           35.82,
           33,
           31.37,
           30.26,
           30.01,
           29.02,
           28.62,
           28.31,
           24.76,
           23.42,
           23.1,
           22.72,
           22,
           21.82,
           21.4,
           20.81,
           20.61,
           20.22,
           18.36,
           18.14,
           17.28,
           16.38,
           16.15,
           15.85,
           15.32,
           15.3,
           14.98,
           14.76,
           14.64,
           14.64,
           14.35,
           14.24,
           14.03,
           13.73,
           13.51,
           13.46,
           13.1,
           13.04,
           12.73,
           12.27,
           12.21,
           12.14,
           11.98,
           11.9,
           11.89,
           11.66,
           11.52,
           11.33,
           11.18,
           11.02,
           10.95,
           10.79,
           10.77,
           10.69,
           10.57,
           10.55,
           10.49,
           10.42,
           10.26,
           10.21,
           9.88,
           9.87,
           9.82,
           9.76,
           9.72,
           9.59,
           9.52,
           9.49,
           9.32,
           9.3,
           9.2,
           9.09,
           9.02,
           8.84,
           8.76,
           8.49,
           8.49,
           8.49,
           8.42,
           8.33,
           8.24,
           8.11,
           8.09,
           8.06,
           8.05,
           7.86,
           7.84,
           7.81,
           7.72,
           7.69,
           7.67,
           7.6,
           7.6,
           7.58,
           7.46,
           7.45,
           7.37,
           7.34
          ],
          "colorscale": [
           [
            0,
            "rgb(0,0,131)"
           ],
           [
            0.2,
            "rgb(0,60,170)"
           ],
           [
            0.4,
            "rgb(5,255,255)"
           ],
           [
            0.6,
            "rgb(255,255,0)"
           ],
           [
            0.8,
            "rgb(250,0,0)"
           ],
           [
            1,
            "rgb(128,0,0)"
           ]
          ],
          "showscale": true,
          "size": [
           82.74,
           40.24,
           35.82,
           33,
           31.37,
           30.26,
           30.01,
           29.02,
           28.62,
           28.31,
           24.76,
           23.42,
           23.1,
           22.72,
           22,
           21.82,
           21.4,
           20.81,
           20.61,
           20.22,
           18.36,
           18.14,
           17.28,
           16.38,
           16.15,
           15.85,
           15.32,
           15.3,
           14.98,
           14.76,
           14.64,
           14.64,
           14.35,
           14.24,
           14.03,
           13.73,
           13.51,
           13.46,
           13.1,
           13.04,
           12.73,
           12.27,
           12.21,
           12.14,
           11.98,
           11.9,
           11.89,
           11.66,
           11.52,
           11.33,
           11.18,
           11.02,
           10.95,
           10.79,
           10.77,
           10.69,
           10.57,
           10.55,
           10.49,
           10.42,
           10.26,
           10.21,
           9.88,
           9.87,
           9.82,
           9.76,
           9.72,
           9.59,
           9.52,
           9.49,
           9.32,
           9.3,
           9.2,
           9.09,
           9.02,
           8.84,
           8.76,
           8.49,
           8.49,
           8.49,
           8.42,
           8.33,
           8.24,
           8.11,
           8.09,
           8.06,
           8.05,
           7.86,
           7.84,
           7.81,
           7.72,
           7.69,
           7.67,
           7.6,
           7.6,
           7.58,
           7.46,
           7.45,
           7.37,
           7.34
          ]
         },
         "mode": "markers",
         "text": [
          "Name:Wii Sports, Publisher:Nintendo",
          "Name:Super Mario Bros., Publisher:Nintendo",
          "Name:Mario Kart Wii, Publisher:Nintendo",
          "Name:Wii Sports Resort, Publisher:Nintendo",
          "Name:Pokemon Red/Pokemon Blue, Publisher:Nintendo",
          "Name:Tetris, Publisher:Nintendo",
          "Name:New Super Mario Bros., Publisher:Nintendo",
          "Name:Wii Play, Publisher:Nintendo",
          "Name:New Super Mario Bros. Wii, Publisher:Nintendo",
          "Name:Duck Hunt, Publisher:Nintendo",
          "Name:Nintendogs, Publisher:Nintendo",
          "Name:Mario Kart DS, Publisher:Nintendo",
          "Name:Pokemon Gold/Pokemon Silver, Publisher:Nintendo",
          "Name:Wii Fit, Publisher:Nintendo",
          "Name:Wii Fit Plus, Publisher:Nintendo",
          "Name:Kinect Adventures!, Publisher:Microsoft Game Studios",
          "Name:Grand Theft Auto V, Publisher:Take-Two Interactive",
          "Name:Grand Theft Auto: San Andreas, Publisher:Take-Two Interactive",
          "Name:Super Mario World, Publisher:Nintendo",
          "Name:Brain Age: Train Your Brain in Minutes a Day, Publisher:Nintendo",
          "Name:Pokemon Diamond/Pokemon Pearl, Publisher:Nintendo",
          "Name:Super Mario Land, Publisher:Nintendo",
          "Name:Super Mario Bros. 3, Publisher:Nintendo",
          "Name:Grand Theft Auto V, Publisher:Take-Two Interactive",
          "Name:Grand Theft Auto: Vice City, Publisher:Take-Two Interactive",
          "Name:Pokemon Ruby/Pokemon Sapphire, Publisher:Nintendo",
          "Name:Pokemon Black/Pokemon White, Publisher:Nintendo",
          "Name:Brain Age 2: More Training in Minutes a Day, Publisher:Nintendo",
          "Name:Gran Turismo 3: A-Spec, Publisher:Sony Computer Entertainment",
          "Name:Call of Duty: Modern Warfare 3, Publisher:Activision",
          "Name:Pokémon Yellow: Special Pikachu Edition, Publisher:Nintendo",
          "Name:Call of Duty: Black Ops, Publisher:Activision",
          "Name:Pokemon X/Pokemon Y, Publisher:Nintendo",
          "Name:Call of Duty: Black Ops 3, Publisher:Activision",
          "Name:Call of Duty: Black Ops II, Publisher:Activision",
          "Name:Call of Duty: Black Ops II, Publisher:Activision",
          "Name:Call of Duty: Modern Warfare 2, Publisher:Activision",
          "Name:Call of Duty: Modern Warfare 3, Publisher:Activision",
          "Name:Grand Theft Auto III, Publisher:Take-Two Interactive",
          "Name:Super Smash Bros. Brawl, Publisher:Nintendo",
          "Name:Call of Duty: Black Ops, Publisher:Activision",
          "Name:Animal Crossing: Wild World, Publisher:Nintendo",
          "Name:Mario Kart 7, Publisher:Nintendo",
          "Name:Halo 3, Publisher:Microsoft Game Studios",
          "Name:Grand Theft Auto V, Publisher:Take-Two Interactive",
          "Name:Pokemon HeartGold/Pokemon SoulSilver, Publisher:Nintendo",
          "Name:Super Mario 64, Publisher:Nintendo",
          "Name:Gran Turismo 4, Publisher:Sony Computer Entertainment",
          "Name:Super Mario Galaxy, Publisher:Nintendo",
          "Name:Pokemon Omega Ruby/Pokemon Alpha Sapphire, Publisher:Nintendo",
          "Name:Super Mario Land 2: 6 Golden Coins, Publisher:Nintendo",
          "Name:Grand Theft Auto IV, Publisher:Take-Two Interactive",
          "Name:Gran Turismo, Publisher:Sony Computer Entertainment",
          "Name:Super Mario 3D Land, Publisher:Nintendo",
          "Name:Gran Turismo 5, Publisher:Sony Computer Entertainment",
          "Name:Call of Duty: Modern Warfare 2, Publisher:Activision",
          "Name:Grand Theft Auto IV, Publisher:Take-Two Interactive",
          "Name:Super Mario All-Stars, Publisher:Nintendo",
          "Name:Pokemon FireRed/Pokemon LeafGreen, Publisher:Nintendo",
          "Name:Super Mario 64, Publisher:Nintendo",
          "Name:Just Dance 3, Publisher:Ubisoft",
          "Name:Call of Duty: Ghosts, Publisher:Activision",
          "Name:Halo: Reach, Publisher:Microsoft Game Studios",
          "Name:Mario Kart 64, Publisher:Nintendo",
          "Name:New Super Mario Bros. 2, Publisher:Nintendo",
          "Name:Halo 4, Publisher:Microsoft Game Studios",
          "Name:Final Fantasy VII, Publisher:Sony Computer Entertainment",
          "Name:Call of Duty: Ghosts, Publisher:Activision",
          "Name:Just Dance 2, Publisher:Ubisoft",
          "Name:Gran Turismo 2, Publisher:Sony Computer Entertainment",
          "Name:Call of Duty 4: Modern Warfare, Publisher:Activision",
          "Name:Donkey Kong Country, Publisher:Nintendo",
          "Name:Minecraft, Publisher:Microsoft Game Studios",
          "Name:Animal Crossing: New Leaf, Publisher:Nintendo",
          "Name:Mario Party DS, Publisher:Nintendo",
          "Name:The Elder Scrolls V: Skyrim, Publisher:Bethesda Softworks",
          "Name:Super Mario Kart, Publisher:Nintendo",
          "Name:FIFA 16, Publisher:Electronic Arts",
          "Name:Wii Party, Publisher:Nintendo",
          "Name:Halo 2, Publisher:Microsoft Game Studios",
          "Name:Mario Party 8, Publisher:Nintendo",
          "Name:Pokemon Black 2/Pokemon White 2, Publisher:Nintendo",
          "Name:FIFA Soccer 13, Publisher:Electronic Arts",
          "Name:The Sims 3, Publisher:Electronic Arts",
          "Name:GoldenEye 007, Publisher:Nintendo",
          "Name:Mario & Sonic at the Olympic Games, Publisher:Sega",
          "Name:Final Fantasy X, Publisher:Sony Computer Entertainment",
          "Name:Final Fantasy VIII, Publisher:SquareSoft",
          "Name:Pokémon Platinum Version, Publisher:Nintendo",
          "Name:Pac-Man, Publisher:Atari",
          "Name:Grand Theft Auto: Liberty City Stories, Publisher:Take-Two Interactive",
          "Name:Super Mario Galaxy 2, Publisher:Nintendo",
          "Name:Star Wars Battlefront (2015), Publisher:Electronic Arts",
          "Name:Call of Duty: Advanced Warfare, Publisher:Activision",
          "Name:The Legend of Zelda: Ocarina of Time, Publisher:Nintendo",
          "Name:Crash Bandicoot 2: Cortex Strikes Back, Publisher:Sony Computer Entertainment",
          "Name:Super Mario Bros. 2, Publisher:Nintendo",
          "Name:Super Smash Bros. for Wii U and 3DS, Publisher:Nintendo",
          "Name:Call of Duty: World at War, Publisher:Activision",
          "Name:Battlefield 3, Publisher:Electronic Arts"
         ],
         "type": "scatter",
         "x": [
          1,
          2,
          3,
          4,
          5,
          6,
          7,
          8,
          9,
          10,
          11,
          12,
          13,
          14,
          15,
          16,
          17,
          18,
          19,
          20,
          21,
          22,
          23,
          24,
          25,
          26,
          27,
          28,
          29,
          30,
          31,
          32,
          33,
          34,
          35,
          36,
          37,
          38,
          39,
          40,
          41,
          42,
          43,
          44,
          45,
          46,
          47,
          48,
          49,
          50,
          51,
          52,
          53,
          54,
          55,
          56,
          57,
          58,
          59,
          60,
          61,
          62,
          63,
          64,
          65,
          66,
          67,
          68,
          69,
          70,
          71,
          72,
          73,
          74,
          75,
          76,
          77,
          78,
          79,
          80,
          81,
          82,
          83,
          84,
          85,
          86,
          87,
          88,
          89,
          90,
          91,
          92,
          93,
          94,
          95,
          96,
          97,
          98,
          99,
          100
         ],
         "y": [
          2006,
          1985,
          2008,
          2009,
          1996,
          1989,
          2006,
          2006,
          2009,
          1984,
          2005,
          2005,
          1999,
          2007,
          2009,
          2010,
          2013,
          2004,
          1990,
          2005,
          2006,
          1989,
          1988,
          2013,
          2002,
          2002,
          2010,
          2005,
          2001,
          2011,
          1998,
          2010,
          2013,
          2015,
          2012,
          2012,
          2009,
          2011,
          2001,
          2008,
          2010,
          2005,
          2011,
          2007,
          2014,
          2009,
          1996,
          2004,
          2007,
          2014,
          1992,
          2008,
          1997,
          2011,
          2010,
          2009,
          2008,
          1993,
          2004,
          2004,
          2011,
          2013,
          2010,
          1996,
          2012,
          2012,
          1997,
          2013,
          2010,
          1999,
          2007,
          1994,
          2013,
          2012,
          2007,
          2011,
          1992,
          2015,
          2010,
          2004,
          2007,
          2012,
          2012,
          2009,
          1997,
          2007,
          2001,
          1999,
          2008,
          1982,
          2005,
          2010,
          2015,
          2014,
          1998,
          1997,
          1988,
          2014,
          2008,
          2011
         ]
        }
       ],
       "layout": {
        "paper_bgcolor": "rgb(240, 240, 240)",
        "plot_bgcolor": "rgb(240, 240, 240)",
        "template": {
         "data": {
          "bar": [
           {
            "error_x": {
             "color": "#2a3f5f"
            },
            "error_y": {
             "color": "#2a3f5f"
            },
            "marker": {
             "line": {
              "color": "#E5ECF6",
              "width": 0.5
             },
             "pattern": {
              "fillmode": "overlay",
              "size": 10,
              "solidity": 0.2
             }
            },
            "type": "bar"
           }
          ],
          "barpolar": [
           {
            "marker": {
             "line": {
              "color": "#E5ECF6",
              "width": 0.5
             },
             "pattern": {
              "fillmode": "overlay",
              "size": 10,
              "solidity": 0.2
             }
            },
            "type": "barpolar"
           }
          ],
          "carpet": [
           {
            "aaxis": {
             "endlinecolor": "#2a3f5f",
             "gridcolor": "white",
             "linecolor": "white",
             "minorgridcolor": "white",
             "startlinecolor": "#2a3f5f"
            },
            "baxis": {
             "endlinecolor": "#2a3f5f",
             "gridcolor": "white",
             "linecolor": "white",
             "minorgridcolor": "white",
             "startlinecolor": "#2a3f5f"
            },
            "type": "carpet"
           }
          ],
          "choropleth": [
           {
            "colorbar": {
             "outlinewidth": 0,
             "ticks": ""
            },
            "type": "choropleth"
           }
          ],
          "contour": [
           {
            "colorbar": {
             "outlinewidth": 0,
             "ticks": ""
            },
            "colorscale": [
             [
              0,
              "#0d0887"
             ],
             [
              0.1111111111111111,
              "#46039f"
             ],
             [
              0.2222222222222222,
              "#7201a8"
             ],
             [
              0.3333333333333333,
              "#9c179e"
             ],
             [
              0.4444444444444444,
              "#bd3786"
             ],
             [
              0.5555555555555556,
              "#d8576b"
             ],
             [
              0.6666666666666666,
              "#ed7953"
             ],
             [
              0.7777777777777778,
              "#fb9f3a"
             ],
             [
              0.8888888888888888,
              "#fdca26"
             ],
             [
              1,
              "#f0f921"
             ]
            ],
            "type": "contour"
           }
          ],
          "contourcarpet": [
           {
            "colorbar": {
             "outlinewidth": 0,
             "ticks": ""
            },
            "type": "contourcarpet"
           }
          ],
          "heatmap": [
           {
            "colorbar": {
             "outlinewidth": 0,
             "ticks": ""
            },
            "colorscale": [
             [
              0,
              "#0d0887"
             ],
             [
              0.1111111111111111,
              "#46039f"
             ],
             [
              0.2222222222222222,
              "#7201a8"
             ],
             [
              0.3333333333333333,
              "#9c179e"
             ],
             [
              0.4444444444444444,
              "#bd3786"
             ],
             [
              0.5555555555555556,
              "#d8576b"
             ],
             [
              0.6666666666666666,
              "#ed7953"
             ],
             [
              0.7777777777777778,
              "#fb9f3a"
             ],
             [
              0.8888888888888888,
              "#fdca26"
             ],
             [
              1,
              "#f0f921"
             ]
            ],
            "type": "heatmap"
           }
          ],
          "heatmapgl": [
           {
            "colorbar": {
             "outlinewidth": 0,
             "ticks": ""
            },
            "colorscale": [
             [
              0,
              "#0d0887"
             ],
             [
              0.1111111111111111,
              "#46039f"
             ],
             [
              0.2222222222222222,
              "#7201a8"
             ],
             [
              0.3333333333333333,
              "#9c179e"
             ],
             [
              0.4444444444444444,
              "#bd3786"
             ],
             [
              0.5555555555555556,
              "#d8576b"
             ],
             [
              0.6666666666666666,
              "#ed7953"
             ],
             [
              0.7777777777777778,
              "#fb9f3a"
             ],
             [
              0.8888888888888888,
              "#fdca26"
             ],
             [
              1,
              "#f0f921"
             ]
            ],
            "type": "heatmapgl"
           }
          ],
          "histogram": [
           {
            "marker": {
             "pattern": {
              "fillmode": "overlay",
              "size": 10,
              "solidity": 0.2
             }
            },
            "type": "histogram"
           }
          ],
          "histogram2d": [
           {
            "colorbar": {
             "outlinewidth": 0,
             "ticks": ""
            },
            "colorscale": [
             [
              0,
              "#0d0887"
             ],
             [
              0.1111111111111111,
              "#46039f"
             ],
             [
              0.2222222222222222,
              "#7201a8"
             ],
             [
              0.3333333333333333,
              "#9c179e"
             ],
             [
              0.4444444444444444,
              "#bd3786"
             ],
             [
              0.5555555555555556,
              "#d8576b"
             ],
             [
              0.6666666666666666,
              "#ed7953"
             ],
             [
              0.7777777777777778,
              "#fb9f3a"
             ],
             [
              0.8888888888888888,
              "#fdca26"
             ],
             [
              1,
              "#f0f921"
             ]
            ],
            "type": "histogram2d"
           }
          ],
          "histogram2dcontour": [
           {
            "colorbar": {
             "outlinewidth": 0,
             "ticks": ""
            },
            "colorscale": [
             [
              0,
              "#0d0887"
             ],
             [
              0.1111111111111111,
              "#46039f"
             ],
             [
              0.2222222222222222,
              "#7201a8"
             ],
             [
              0.3333333333333333,
              "#9c179e"
             ],
             [
              0.4444444444444444,
              "#bd3786"
             ],
             [
              0.5555555555555556,
              "#d8576b"
             ],
             [
              0.6666666666666666,
              "#ed7953"
             ],
             [
              0.7777777777777778,
              "#fb9f3a"
             ],
             [
              0.8888888888888888,
              "#fdca26"
             ],
             [
              1,
              "#f0f921"
             ]
            ],
            "type": "histogram2dcontour"
           }
          ],
          "mesh3d": [
           {
            "colorbar": {
             "outlinewidth": 0,
             "ticks": ""
            },
            "type": "mesh3d"
           }
          ],
          "parcoords": [
           {
            "line": {
             "colorbar": {
              "outlinewidth": 0,
              "ticks": ""
             }
            },
            "type": "parcoords"
           }
          ],
          "pie": [
           {
            "automargin": true,
            "type": "pie"
           }
          ],
          "scatter": [
           {
            "fillpattern": {
             "fillmode": "overlay",
             "size": 10,
             "solidity": 0.2
            },
            "type": "scatter"
           }
          ],
          "scatter3d": [
           {
            "line": {
             "colorbar": {
              "outlinewidth": 0,
              "ticks": ""
             }
            },
            "marker": {
             "colorbar": {
              "outlinewidth": 0,
              "ticks": ""
             }
            },
            "type": "scatter3d"
           }
          ],
          "scattercarpet": [
           {
            "marker": {
             "colorbar": {
              "outlinewidth": 0,
              "ticks": ""
             }
            },
            "type": "scattercarpet"
           }
          ],
          "scattergeo": [
           {
            "marker": {
             "colorbar": {
              "outlinewidth": 0,
              "ticks": ""
             }
            },
            "type": "scattergeo"
           }
          ],
          "scattergl": [
           {
            "marker": {
             "colorbar": {
              "outlinewidth": 0,
              "ticks": ""
             }
            },
            "type": "scattergl"
           }
          ],
          "scattermapbox": [
           {
            "marker": {
             "colorbar": {
              "outlinewidth": 0,
              "ticks": ""
             }
            },
            "type": "scattermapbox"
           }
          ],
          "scatterpolar": [
           {
            "marker": {
             "colorbar": {
              "outlinewidth": 0,
              "ticks": ""
             }
            },
            "type": "scatterpolar"
           }
          ],
          "scatterpolargl": [
           {
            "marker": {
             "colorbar": {
              "outlinewidth": 0,
              "ticks": ""
             }
            },
            "type": "scatterpolargl"
           }
          ],
          "scatterternary": [
           {
            "marker": {
             "colorbar": {
              "outlinewidth": 0,
              "ticks": ""
             }
            },
            "type": "scatterternary"
           }
          ],
          "surface": [
           {
            "colorbar": {
             "outlinewidth": 0,
             "ticks": ""
            },
            "colorscale": [
             [
              0,
              "#0d0887"
             ],
             [
              0.1111111111111111,
              "#46039f"
             ],
             [
              0.2222222222222222,
              "#7201a8"
             ],
             [
              0.3333333333333333,
              "#9c179e"
             ],
             [
              0.4444444444444444,
              "#bd3786"
             ],
             [
              0.5555555555555556,
              "#d8576b"
             ],
             [
              0.6666666666666666,
              "#ed7953"
             ],
             [
              0.7777777777777778,
              "#fb9f3a"
             ],
             [
              0.8888888888888888,
              "#fdca26"
             ],
             [
              1,
              "#f0f921"
             ]
            ],
            "type": "surface"
           }
          ],
          "table": [
           {
            "cells": {
             "fill": {
              "color": "#EBF0F8"
             },
             "line": {
              "color": "white"
             }
            },
            "header": {
             "fill": {
              "color": "#C8D4E3"
             },
             "line": {
              "color": "white"
             }
            },
            "type": "table"
           }
          ]
         },
         "layout": {
          "annotationdefaults": {
           "arrowcolor": "#2a3f5f",
           "arrowhead": 0,
           "arrowwidth": 1
          },
          "autotypenumbers": "strict",
          "coloraxis": {
           "colorbar": {
            "outlinewidth": 0,
            "ticks": ""
           }
          },
          "colorscale": {
           "diverging": [
            [
             0,
             "#8e0152"
            ],
            [
             0.1,
             "#c51b7d"
            ],
            [
             0.2,
             "#de77ae"
            ],
            [
             0.3,
             "#f1b6da"
            ],
            [
             0.4,
             "#fde0ef"
            ],
            [
             0.5,
             "#f7f7f7"
            ],
            [
             0.6,
             "#e6f5d0"
            ],
            [
             0.7,
             "#b8e186"
            ],
            [
             0.8,
             "#7fbc41"
            ],
            [
             0.9,
             "#4d9221"
            ],
            [
             1,
             "#276419"
            ]
           ],
           "sequential": [
            [
             0,
             "#0d0887"
            ],
            [
             0.1111111111111111,
             "#46039f"
            ],
            [
             0.2222222222222222,
             "#7201a8"
            ],
            [
             0.3333333333333333,
             "#9c179e"
            ],
            [
             0.4444444444444444,
             "#bd3786"
            ],
            [
             0.5555555555555556,
             "#d8576b"
            ],
            [
             0.6666666666666666,
             "#ed7953"
            ],
            [
             0.7777777777777778,
             "#fb9f3a"
            ],
            [
             0.8888888888888888,
             "#fdca26"
            ],
            [
             1,
             "#f0f921"
            ]
           ],
           "sequentialminus": [
            [
             0,
             "#0d0887"
            ],
            [
             0.1111111111111111,
             "#46039f"
            ],
            [
             0.2222222222222222,
             "#7201a8"
            ],
            [
             0.3333333333333333,
             "#9c179e"
            ],
            [
             0.4444444444444444,
             "#bd3786"
            ],
            [
             0.5555555555555556,
             "#d8576b"
            ],
            [
             0.6666666666666666,
             "#ed7953"
            ],
            [
             0.7777777777777778,
             "#fb9f3a"
            ],
            [
             0.8888888888888888,
             "#fdca26"
            ],
            [
             1,
             "#f0f921"
            ]
           ]
          },
          "colorway": [
           "#636efa",
           "#EF553B",
           "#00cc96",
           "#ab63fa",
           "#FFA15A",
           "#19d3f3",
           "#FF6692",
           "#B6E880",
           "#FF97FF",
           "#FECB52"
          ],
          "font": {
           "color": "#2a3f5f"
          },
          "geo": {
           "bgcolor": "white",
           "lakecolor": "white",
           "landcolor": "#E5ECF6",
           "showlakes": true,
           "showland": true,
           "subunitcolor": "white"
          },
          "hoverlabel": {
           "align": "left"
          },
          "hovermode": "closest",
          "mapbox": {
           "style": "light"
          },
          "paper_bgcolor": "white",
          "plot_bgcolor": "#E5ECF6",
          "polar": {
           "angularaxis": {
            "gridcolor": "white",
            "linecolor": "white",
            "ticks": ""
           },
           "bgcolor": "#E5ECF6",
           "radialaxis": {
            "gridcolor": "white",
            "linecolor": "white",
            "ticks": ""
           }
          },
          "scene": {
           "xaxis": {
            "backgroundcolor": "#E5ECF6",
            "gridcolor": "white",
            "gridwidth": 2,
            "linecolor": "white",
            "showbackground": true,
            "ticks": "",
            "zerolinecolor": "white"
           },
           "yaxis": {
            "backgroundcolor": "#E5ECF6",
            "gridcolor": "white",
            "gridwidth": 2,
            "linecolor": "white",
            "showbackground": true,
            "ticks": "",
            "zerolinecolor": "white"
           },
           "zaxis": {
            "backgroundcolor": "#E5ECF6",
            "gridcolor": "white",
            "gridwidth": 2,
            "linecolor": "white",
            "showbackground": true,
            "ticks": "",
            "zerolinecolor": "white"
           }
          },
          "shapedefaults": {
           "line": {
            "color": "#2a3f5f"
           }
          },
          "ternary": {
           "aaxis": {
            "gridcolor": "white",
            "linecolor": "white",
            "ticks": ""
           },
           "baxis": {
            "gridcolor": "white",
            "linecolor": "white",
            "ticks": ""
           },
           "bgcolor": "#E5ECF6",
           "caxis": {
            "gridcolor": "white",
            "linecolor": "white",
            "ticks": ""
           }
          },
          "title": {
           "x": 0.05
          },
          "xaxis": {
           "automargin": true,
           "gridcolor": "white",
           "linecolor": "white",
           "ticks": "",
           "title": {
            "standoff": 15
           },
           "zerolinecolor": "white",
           "zerolinewidth": 2
          },
          "yaxis": {
           "automargin": true,
           "gridcolor": "white",
           "linecolor": "white",
           "ticks": "",
           "title": {
            "standoff": 15
           },
           "zerolinecolor": "white",
           "zerolinewidth": 2
          }
         }
        },
        "title": {
         "text": "Release Years of Top 100 Video Games According to Global Sales"
        },
        "xaxis": {
         "gridcolor": "rgb(205, 205, 205)",
         "gridwidth": 2,
         "ticklen": 5,
         "title": {
          "text": "Rank"
         },
         "zerolinewidth": 1
        },
        "yaxis": {
         "gridcolor": "rgb(205, 205, 205)",
         "gridwidth": 2,
         "ticklen": 5,
         "title": {
          "text": "Years"
         },
         "zerolinewidth": 1
        }
       }
      },
      "text/html": [
       "<div>                            <div id=\"ee509209-1998-4b86-ae15-98be29051333\" class=\"plotly-graph-div\" style=\"height:525px; width:100%;\"></div>            <script type=\"text/javascript\">                require([\"plotly\"], function(Plotly) {                    window.PLOTLYENV=window.PLOTLYENV || {};                                    if (document.getElementById(\"ee509209-1998-4b86-ae15-98be29051333\")) {                    Plotly.newPlot(                        \"ee509209-1998-4b86-ae15-98be29051333\",                        [{\"marker\":{\"color\":[82.74,40.24,35.82,33.0,31.37,30.26,30.01,29.02,28.62,28.31,24.76,23.42,23.1,22.72,22.0,21.82,21.4,20.81,20.61,20.22,18.36,18.14,17.28,16.38,16.15,15.85,15.32,15.3,14.98,14.76,14.64,14.64,14.35,14.24,14.03,13.73,13.51,13.46,13.1,13.04,12.73,12.27,12.21,12.14,11.98,11.9,11.89,11.66,11.52,11.33,11.18,11.02,10.95,10.79,10.77,10.69,10.57,10.55,10.49,10.42,10.26,10.21,9.88,9.87,9.82,9.76,9.72,9.59,9.52,9.49,9.32,9.3,9.2,9.09,9.02,8.84,8.76,8.49,8.49,8.49,8.42,8.33,8.24,8.11,8.09,8.06,8.05,7.86,7.84,7.81,7.72,7.69,7.67,7.6,7.6,7.58,7.46,7.45,7.37,7.34],\"colorscale\":[[0.0,\"rgb(0,0,131)\"],[0.2,\"rgb(0,60,170)\"],[0.4,\"rgb(5,255,255)\"],[0.6,\"rgb(255,255,0)\"],[0.8,\"rgb(250,0,0)\"],[1.0,\"rgb(128,0,0)\"]],\"showscale\":true,\"size\":[82.74,40.24,35.82,33.0,31.37,30.26,30.01,29.02,28.62,28.31,24.76,23.42,23.1,22.72,22.0,21.82,21.4,20.81,20.61,20.22,18.36,18.14,17.28,16.38,16.15,15.85,15.32,15.3,14.98,14.76,14.64,14.64,14.35,14.24,14.03,13.73,13.51,13.46,13.1,13.04,12.73,12.27,12.21,12.14,11.98,11.9,11.89,11.66,11.52,11.33,11.18,11.02,10.95,10.79,10.77,10.69,10.57,10.55,10.49,10.42,10.26,10.21,9.88,9.87,9.82,9.76,9.72,9.59,9.52,9.49,9.32,9.3,9.2,9.09,9.02,8.84,8.76,8.49,8.49,8.49,8.42,8.33,8.24,8.11,8.09,8.06,8.05,7.86,7.84,7.81,7.72,7.69,7.67,7.6,7.6,7.58,7.46,7.45,7.37,7.34]},\"mode\":\"markers\",\"text\":[\"Name:Wii Sports, Publisher:Nintendo\",\"Name:Super Mario Bros., Publisher:Nintendo\",\"Name:Mario Kart Wii, Publisher:Nintendo\",\"Name:Wii Sports Resort, Publisher:Nintendo\",\"Name:Pokemon Red/Pokemon Blue, Publisher:Nintendo\",\"Name:Tetris, Publisher:Nintendo\",\"Name:New Super Mario Bros., Publisher:Nintendo\",\"Name:Wii Play, Publisher:Nintendo\",\"Name:New Super Mario Bros. Wii, Publisher:Nintendo\",\"Name:Duck Hunt, Publisher:Nintendo\",\"Name:Nintendogs, Publisher:Nintendo\",\"Name:Mario Kart DS, Publisher:Nintendo\",\"Name:Pokemon Gold/Pokemon Silver, Publisher:Nintendo\",\"Name:Wii Fit, Publisher:Nintendo\",\"Name:Wii Fit Plus, Publisher:Nintendo\",\"Name:Kinect Adventures!, Publisher:Microsoft Game Studios\",\"Name:Grand Theft Auto V, Publisher:Take-Two Interactive\",\"Name:Grand Theft Auto: San Andreas, Publisher:Take-Two Interactive\",\"Name:Super Mario World, Publisher:Nintendo\",\"Name:Brain Age: Train Your Brain in Minutes a Day, Publisher:Nintendo\",\"Name:Pokemon Diamond/Pokemon Pearl, Publisher:Nintendo\",\"Name:Super Mario Land, Publisher:Nintendo\",\"Name:Super Mario Bros. 3, Publisher:Nintendo\",\"Name:Grand Theft Auto V, Publisher:Take-Two Interactive\",\"Name:Grand Theft Auto: Vice City, Publisher:Take-Two Interactive\",\"Name:Pokemon Ruby/Pokemon Sapphire, Publisher:Nintendo\",\"Name:Pokemon Black/Pokemon White, Publisher:Nintendo\",\"Name:Brain Age 2: More Training in Minutes a Day, Publisher:Nintendo\",\"Name:Gran Turismo 3: A-Spec, Publisher:Sony Computer Entertainment\",\"Name:Call of Duty: Modern Warfare 3, Publisher:Activision\",\"Name:Pok\\u00e9mon Yellow: Special Pikachu Edition, Publisher:Nintendo\",\"Name:Call of Duty: Black Ops, Publisher:Activision\",\"Name:Pokemon X/Pokemon Y, Publisher:Nintendo\",\"Name:Call of Duty: Black Ops 3, Publisher:Activision\",\"Name:Call of Duty: Black Ops II, Publisher:Activision\",\"Name:Call of Duty: Black Ops II, Publisher:Activision\",\"Name:Call of Duty: Modern Warfare 2, Publisher:Activision\",\"Name:Call of Duty: Modern Warfare 3, Publisher:Activision\",\"Name:Grand Theft Auto III, Publisher:Take-Two Interactive\",\"Name:Super Smash Bros. Brawl, Publisher:Nintendo\",\"Name:Call of Duty: Black Ops, Publisher:Activision\",\"Name:Animal Crossing: Wild World, Publisher:Nintendo\",\"Name:Mario Kart 7, Publisher:Nintendo\",\"Name:Halo 3, Publisher:Microsoft Game Studios\",\"Name:Grand Theft Auto V, Publisher:Take-Two Interactive\",\"Name:Pokemon HeartGold/Pokemon SoulSilver, Publisher:Nintendo\",\"Name:Super Mario 64, Publisher:Nintendo\",\"Name:Gran Turismo 4, Publisher:Sony Computer Entertainment\",\"Name:Super Mario Galaxy, Publisher:Nintendo\",\"Name:Pokemon Omega Ruby/Pokemon Alpha Sapphire, Publisher:Nintendo\",\"Name:Super Mario Land 2: 6 Golden Coins, Publisher:Nintendo\",\"Name:Grand Theft Auto IV, Publisher:Take-Two Interactive\",\"Name:Gran Turismo, Publisher:Sony Computer Entertainment\",\"Name:Super Mario 3D Land, Publisher:Nintendo\",\"Name:Gran Turismo 5, Publisher:Sony Computer Entertainment\",\"Name:Call of Duty: Modern Warfare 2, Publisher:Activision\",\"Name:Grand Theft Auto IV, Publisher:Take-Two Interactive\",\"Name:Super Mario All-Stars, Publisher:Nintendo\",\"Name:Pokemon FireRed/Pokemon LeafGreen, Publisher:Nintendo\",\"Name:Super Mario 64, Publisher:Nintendo\",\"Name:Just Dance 3, Publisher:Ubisoft\",\"Name:Call of Duty: Ghosts, Publisher:Activision\",\"Name:Halo: Reach, Publisher:Microsoft Game Studios\",\"Name:Mario Kart 64, Publisher:Nintendo\",\"Name:New Super Mario Bros. 2, Publisher:Nintendo\",\"Name:Halo 4, Publisher:Microsoft Game Studios\",\"Name:Final Fantasy VII, Publisher:Sony Computer Entertainment\",\"Name:Call of Duty: Ghosts, Publisher:Activision\",\"Name:Just Dance 2, Publisher:Ubisoft\",\"Name:Gran Turismo 2, Publisher:Sony Computer Entertainment\",\"Name:Call of Duty 4: Modern Warfare, Publisher:Activision\",\"Name:Donkey Kong Country, Publisher:Nintendo\",\"Name:Minecraft, Publisher:Microsoft Game Studios\",\"Name:Animal Crossing: New Leaf, Publisher:Nintendo\",\"Name:Mario Party DS, Publisher:Nintendo\",\"Name:The Elder Scrolls V: Skyrim, Publisher:Bethesda Softworks\",\"Name:Super Mario Kart, Publisher:Nintendo\",\"Name:FIFA 16, Publisher:Electronic Arts\",\"Name:Wii Party, Publisher:Nintendo\",\"Name:Halo 2, Publisher:Microsoft Game Studios\",\"Name:Mario Party 8, Publisher:Nintendo\",\"Name:Pokemon Black 2/Pokemon White 2, Publisher:Nintendo\",\"Name:FIFA Soccer 13, Publisher:Electronic Arts\",\"Name:The Sims 3, Publisher:Electronic Arts\",\"Name:GoldenEye 007, Publisher:Nintendo\",\"Name:Mario & Sonic at the Olympic Games, Publisher:Sega\",\"Name:Final Fantasy X, Publisher:Sony Computer Entertainment\",\"Name:Final Fantasy VIII, Publisher:SquareSoft\",\"Name:Pok\\u00e9mon Platinum Version, Publisher:Nintendo\",\"Name:Pac-Man, Publisher:Atari\",\"Name:Grand Theft Auto: Liberty City Stories, Publisher:Take-Two Interactive\",\"Name:Super Mario Galaxy 2, Publisher:Nintendo\",\"Name:Star Wars Battlefront (2015), Publisher:Electronic Arts\",\"Name:Call of Duty: Advanced Warfare, Publisher:Activision\",\"Name:The Legend of Zelda: Ocarina of Time, Publisher:Nintendo\",\"Name:Crash Bandicoot 2: Cortex Strikes Back, Publisher:Sony Computer Entertainment\",\"Name:Super Mario Bros. 2, Publisher:Nintendo\",\"Name:Super Smash Bros. for Wii U and 3DS, Publisher:Nintendo\",\"Name:Call of Duty: World at War, Publisher:Activision\",\"Name:Battlefield 3, Publisher:Electronic Arts\"],\"x\":[1,2,3,4,5,6,7,8,9,10,11,12,13,14,15,16,17,18,19,20,21,22,23,24,25,26,27,28,29,30,31,32,33,34,35,36,37,38,39,40,41,42,43,44,45,46,47,48,49,50,51,52,53,54,55,56,57,58,59,60,61,62,63,64,65,66,67,68,69,70,71,72,73,74,75,76,77,78,79,80,81,82,83,84,85,86,87,88,89,90,91,92,93,94,95,96,97,98,99,100],\"y\":[2006.0,1985.0,2008.0,2009.0,1996.0,1989.0,2006.0,2006.0,2009.0,1984.0,2005.0,2005.0,1999.0,2007.0,2009.0,2010.0,2013.0,2004.0,1990.0,2005.0,2006.0,1989.0,1988.0,2013.0,2002.0,2002.0,2010.0,2005.0,2001.0,2011.0,1998.0,2010.0,2013.0,2015.0,2012.0,2012.0,2009.0,2011.0,2001.0,2008.0,2010.0,2005.0,2011.0,2007.0,2014.0,2009.0,1996.0,2004.0,2007.0,2014.0,1992.0,2008.0,1997.0,2011.0,2010.0,2009.0,2008.0,1993.0,2004.0,2004.0,2011.0,2013.0,2010.0,1996.0,2012.0,2012.0,1997.0,2013.0,2010.0,1999.0,2007.0,1994.0,2013.0,2012.0,2007.0,2011.0,1992.0,2015.0,2010.0,2004.0,2007.0,2012.0,2012.0,2009.0,1997.0,2007.0,2001.0,1999.0,2008.0,1982.0,2005.0,2010.0,2015.0,2014.0,1998.0,1997.0,1988.0,2014.0,2008.0,2011.0],\"type\":\"scatter\"}],                        {\"paper_bgcolor\":\"rgb(240, 240, 240)\",\"plot_bgcolor\":\"rgb(240, 240, 240)\",\"template\":{\"data\":{\"barpolar\":[{\"marker\":{\"line\":{\"color\":\"#E5ECF6\",\"width\":0.5},\"pattern\":{\"fillmode\":\"overlay\",\"size\":10,\"solidity\":0.2}},\"type\":\"barpolar\"}],\"bar\":[{\"error_x\":{\"color\":\"#2a3f5f\"},\"error_y\":{\"color\":\"#2a3f5f\"},\"marker\":{\"line\":{\"color\":\"#E5ECF6\",\"width\":0.5},\"pattern\":{\"fillmode\":\"overlay\",\"size\":10,\"solidity\":0.2}},\"type\":\"bar\"}],\"carpet\":[{\"aaxis\":{\"endlinecolor\":\"#2a3f5f\",\"gridcolor\":\"white\",\"linecolor\":\"white\",\"minorgridcolor\":\"white\",\"startlinecolor\":\"#2a3f5f\"},\"baxis\":{\"endlinecolor\":\"#2a3f5f\",\"gridcolor\":\"white\",\"linecolor\":\"white\",\"minorgridcolor\":\"white\",\"startlinecolor\":\"#2a3f5f\"},\"type\":\"carpet\"}],\"choropleth\":[{\"colorbar\":{\"outlinewidth\":0,\"ticks\":\"\"},\"type\":\"choropleth\"}],\"contourcarpet\":[{\"colorbar\":{\"outlinewidth\":0,\"ticks\":\"\"},\"type\":\"contourcarpet\"}],\"contour\":[{\"colorbar\":{\"outlinewidth\":0,\"ticks\":\"\"},\"colorscale\":[[0.0,\"#0d0887\"],[0.1111111111111111,\"#46039f\"],[0.2222222222222222,\"#7201a8\"],[0.3333333333333333,\"#9c179e\"],[0.4444444444444444,\"#bd3786\"],[0.5555555555555556,\"#d8576b\"],[0.6666666666666666,\"#ed7953\"],[0.7777777777777778,\"#fb9f3a\"],[0.8888888888888888,\"#fdca26\"],[1.0,\"#f0f921\"]],\"type\":\"contour\"}],\"heatmapgl\":[{\"colorbar\":{\"outlinewidth\":0,\"ticks\":\"\"},\"colorscale\":[[0.0,\"#0d0887\"],[0.1111111111111111,\"#46039f\"],[0.2222222222222222,\"#7201a8\"],[0.3333333333333333,\"#9c179e\"],[0.4444444444444444,\"#bd3786\"],[0.5555555555555556,\"#d8576b\"],[0.6666666666666666,\"#ed7953\"],[0.7777777777777778,\"#fb9f3a\"],[0.8888888888888888,\"#fdca26\"],[1.0,\"#f0f921\"]],\"type\":\"heatmapgl\"}],\"heatmap\":[{\"colorbar\":{\"outlinewidth\":0,\"ticks\":\"\"},\"colorscale\":[[0.0,\"#0d0887\"],[0.1111111111111111,\"#46039f\"],[0.2222222222222222,\"#7201a8\"],[0.3333333333333333,\"#9c179e\"],[0.4444444444444444,\"#bd3786\"],[0.5555555555555556,\"#d8576b\"],[0.6666666666666666,\"#ed7953\"],[0.7777777777777778,\"#fb9f3a\"],[0.8888888888888888,\"#fdca26\"],[1.0,\"#f0f921\"]],\"type\":\"heatmap\"}],\"histogram2dcontour\":[{\"colorbar\":{\"outlinewidth\":0,\"ticks\":\"\"},\"colorscale\":[[0.0,\"#0d0887\"],[0.1111111111111111,\"#46039f\"],[0.2222222222222222,\"#7201a8\"],[0.3333333333333333,\"#9c179e\"],[0.4444444444444444,\"#bd3786\"],[0.5555555555555556,\"#d8576b\"],[0.6666666666666666,\"#ed7953\"],[0.7777777777777778,\"#fb9f3a\"],[0.8888888888888888,\"#fdca26\"],[1.0,\"#f0f921\"]],\"type\":\"histogram2dcontour\"}],\"histogram2d\":[{\"colorbar\":{\"outlinewidth\":0,\"ticks\":\"\"},\"colorscale\":[[0.0,\"#0d0887\"],[0.1111111111111111,\"#46039f\"],[0.2222222222222222,\"#7201a8\"],[0.3333333333333333,\"#9c179e\"],[0.4444444444444444,\"#bd3786\"],[0.5555555555555556,\"#d8576b\"],[0.6666666666666666,\"#ed7953\"],[0.7777777777777778,\"#fb9f3a\"],[0.8888888888888888,\"#fdca26\"],[1.0,\"#f0f921\"]],\"type\":\"histogram2d\"}],\"histogram\":[{\"marker\":{\"pattern\":{\"fillmode\":\"overlay\",\"size\":10,\"solidity\":0.2}},\"type\":\"histogram\"}],\"mesh3d\":[{\"colorbar\":{\"outlinewidth\":0,\"ticks\":\"\"},\"type\":\"mesh3d\"}],\"parcoords\":[{\"line\":{\"colorbar\":{\"outlinewidth\":0,\"ticks\":\"\"}},\"type\":\"parcoords\"}],\"pie\":[{\"automargin\":true,\"type\":\"pie\"}],\"scatter3d\":[{\"line\":{\"colorbar\":{\"outlinewidth\":0,\"ticks\":\"\"}},\"marker\":{\"colorbar\":{\"outlinewidth\":0,\"ticks\":\"\"}},\"type\":\"scatter3d\"}],\"scattercarpet\":[{\"marker\":{\"colorbar\":{\"outlinewidth\":0,\"ticks\":\"\"}},\"type\":\"scattercarpet\"}],\"scattergeo\":[{\"marker\":{\"colorbar\":{\"outlinewidth\":0,\"ticks\":\"\"}},\"type\":\"scattergeo\"}],\"scattergl\":[{\"marker\":{\"colorbar\":{\"outlinewidth\":0,\"ticks\":\"\"}},\"type\":\"scattergl\"}],\"scattermapbox\":[{\"marker\":{\"colorbar\":{\"outlinewidth\":0,\"ticks\":\"\"}},\"type\":\"scattermapbox\"}],\"scatterpolargl\":[{\"marker\":{\"colorbar\":{\"outlinewidth\":0,\"ticks\":\"\"}},\"type\":\"scatterpolargl\"}],\"scatterpolar\":[{\"marker\":{\"colorbar\":{\"outlinewidth\":0,\"ticks\":\"\"}},\"type\":\"scatterpolar\"}],\"scatter\":[{\"fillpattern\":{\"fillmode\":\"overlay\",\"size\":10,\"solidity\":0.2},\"type\":\"scatter\"}],\"scatterternary\":[{\"marker\":{\"colorbar\":{\"outlinewidth\":0,\"ticks\":\"\"}},\"type\":\"scatterternary\"}],\"surface\":[{\"colorbar\":{\"outlinewidth\":0,\"ticks\":\"\"},\"colorscale\":[[0.0,\"#0d0887\"],[0.1111111111111111,\"#46039f\"],[0.2222222222222222,\"#7201a8\"],[0.3333333333333333,\"#9c179e\"],[0.4444444444444444,\"#bd3786\"],[0.5555555555555556,\"#d8576b\"],[0.6666666666666666,\"#ed7953\"],[0.7777777777777778,\"#fb9f3a\"],[0.8888888888888888,\"#fdca26\"],[1.0,\"#f0f921\"]],\"type\":\"surface\"}],\"table\":[{\"cells\":{\"fill\":{\"color\":\"#EBF0F8\"},\"line\":{\"color\":\"white\"}},\"header\":{\"fill\":{\"color\":\"#C8D4E3\"},\"line\":{\"color\":\"white\"}},\"type\":\"table\"}]},\"layout\":{\"annotationdefaults\":{\"arrowcolor\":\"#2a3f5f\",\"arrowhead\":0,\"arrowwidth\":1},\"autotypenumbers\":\"strict\",\"coloraxis\":{\"colorbar\":{\"outlinewidth\":0,\"ticks\":\"\"}},\"colorscale\":{\"diverging\":[[0,\"#8e0152\"],[0.1,\"#c51b7d\"],[0.2,\"#de77ae\"],[0.3,\"#f1b6da\"],[0.4,\"#fde0ef\"],[0.5,\"#f7f7f7\"],[0.6,\"#e6f5d0\"],[0.7,\"#b8e186\"],[0.8,\"#7fbc41\"],[0.9,\"#4d9221\"],[1,\"#276419\"]],\"sequential\":[[0.0,\"#0d0887\"],[0.1111111111111111,\"#46039f\"],[0.2222222222222222,\"#7201a8\"],[0.3333333333333333,\"#9c179e\"],[0.4444444444444444,\"#bd3786\"],[0.5555555555555556,\"#d8576b\"],[0.6666666666666666,\"#ed7953\"],[0.7777777777777778,\"#fb9f3a\"],[0.8888888888888888,\"#fdca26\"],[1.0,\"#f0f921\"]],\"sequentialminus\":[[0.0,\"#0d0887\"],[0.1111111111111111,\"#46039f\"],[0.2222222222222222,\"#7201a8\"],[0.3333333333333333,\"#9c179e\"],[0.4444444444444444,\"#bd3786\"],[0.5555555555555556,\"#d8576b\"],[0.6666666666666666,\"#ed7953\"],[0.7777777777777778,\"#fb9f3a\"],[0.8888888888888888,\"#fdca26\"],[1.0,\"#f0f921\"]]},\"colorway\":[\"#636efa\",\"#EF553B\",\"#00cc96\",\"#ab63fa\",\"#FFA15A\",\"#19d3f3\",\"#FF6692\",\"#B6E880\",\"#FF97FF\",\"#FECB52\"],\"font\":{\"color\":\"#2a3f5f\"},\"geo\":{\"bgcolor\":\"white\",\"lakecolor\":\"white\",\"landcolor\":\"#E5ECF6\",\"showlakes\":true,\"showland\":true,\"subunitcolor\":\"white\"},\"hoverlabel\":{\"align\":\"left\"},\"hovermode\":\"closest\",\"mapbox\":{\"style\":\"light\"},\"paper_bgcolor\":\"white\",\"plot_bgcolor\":\"#E5ECF6\",\"polar\":{\"angularaxis\":{\"gridcolor\":\"white\",\"linecolor\":\"white\",\"ticks\":\"\"},\"bgcolor\":\"#E5ECF6\",\"radialaxis\":{\"gridcolor\":\"white\",\"linecolor\":\"white\",\"ticks\":\"\"}},\"scene\":{\"xaxis\":{\"backgroundcolor\":\"#E5ECF6\",\"gridcolor\":\"white\",\"gridwidth\":2,\"linecolor\":\"white\",\"showbackground\":true,\"ticks\":\"\",\"zerolinecolor\":\"white\"},\"yaxis\":{\"backgroundcolor\":\"#E5ECF6\",\"gridcolor\":\"white\",\"gridwidth\":2,\"linecolor\":\"white\",\"showbackground\":true,\"ticks\":\"\",\"zerolinecolor\":\"white\"},\"zaxis\":{\"backgroundcolor\":\"#E5ECF6\",\"gridcolor\":\"white\",\"gridwidth\":2,\"linecolor\":\"white\",\"showbackground\":true,\"ticks\":\"\",\"zerolinecolor\":\"white\"}},\"shapedefaults\":{\"line\":{\"color\":\"#2a3f5f\"}},\"ternary\":{\"aaxis\":{\"gridcolor\":\"white\",\"linecolor\":\"white\",\"ticks\":\"\"},\"baxis\":{\"gridcolor\":\"white\",\"linecolor\":\"white\",\"ticks\":\"\"},\"bgcolor\":\"#E5ECF6\",\"caxis\":{\"gridcolor\":\"white\",\"linecolor\":\"white\",\"ticks\":\"\"}},\"title\":{\"x\":0.05},\"xaxis\":{\"automargin\":true,\"gridcolor\":\"white\",\"linecolor\":\"white\",\"ticks\":\"\",\"title\":{\"standoff\":15},\"zerolinecolor\":\"white\",\"zerolinewidth\":2},\"yaxis\":{\"automargin\":true,\"gridcolor\":\"white\",\"linecolor\":\"white\",\"ticks\":\"\",\"title\":{\"standoff\":15},\"zerolinecolor\":\"white\",\"zerolinewidth\":2}}},\"title\":{\"text\":\"Release Years of Top 100 Video Games According to Global Sales\"},\"xaxis\":{\"gridcolor\":\"rgb(205, 205, 205)\",\"gridwidth\":2,\"ticklen\":5,\"title\":{\"text\":\"Rank\"},\"zerolinewidth\":1},\"yaxis\":{\"gridcolor\":\"rgb(205, 205, 205)\",\"gridwidth\":2,\"ticklen\":5,\"title\":{\"text\":\"Years\"},\"zerolinewidth\":1}},                        {\"responsive\": true}                    ).then(function(){\n",
       "                            \n",
       "var gd = document.getElementById('ee509209-1998-4b86-ae15-98be29051333');\n",
       "var x = new MutationObserver(function (mutations, observer) {{\n",
       "        var display = window.getComputedStyle(gd).display;\n",
       "        if (!display || display === 'none') {{\n",
       "            console.log([gd, 'removed!']);\n",
       "            Plotly.purge(gd);\n",
       "            observer.disconnect();\n",
       "        }}\n",
       "}});\n",
       "\n",
       "// Listen for the removal of the full notebook cells\n",
       "var notebookContainer = gd.closest('#notebook-container');\n",
       "if (notebookContainer) {{\n",
       "    x.observe(notebookContainer, {childList: true});\n",
       "}}\n",
       "\n",
       "// Listen for the clearing of the current output cell\n",
       "var outputEl = gd.closest('.output');\n",
       "if (outputEl) {{\n",
       "    x.observe(outputEl, {childList: true});\n",
       "}}\n",
       "\n",
       "                        })                };                });            </script>        </div>"
      ]
     },
     "metadata": {},
     "output_type": "display_data"
    }
   ],
   "source": [
    "fig={\n",
    "    \"data\" : [\n",
    "    {\n",
    "        'x': vg.Rank,\n",
    "        'y': vg.Year,\n",
    "        'mode': 'markers',\n",
    "        'marker': {\n",
    "            \"color\":vg.Global_Sales,\n",
    "            'size': vg.Global_Sales,\n",
    "            'showscale': True,\n",
    "            \"colorscale\":'jet'\n",
    "        },\n",
    "        \"text\" :  \"Name:\"+ vg.Name +\",\"+\" Publisher:\" + vg.Publisher\n",
    "        \n",
    "    },\n",
    "],\n",
    "\"layout\":\n",
    "    {\n",
    "    \"title\":\"Release Years of Top 100 Video Games According to Global Sales\",\n",
    "    \"xaxis\":{\n",
    "        \"title\":\"Rank\",\n",
    "        \"gridcolor\":'rgb(205, 205, 205)',\n",
    "        \"zerolinewidth\":1,\n",
    "        \"ticklen\":5,\n",
    "        \"gridwidth\":2,\n",
    "    },\n",
    "    \"yaxis\":{\n",
    "        \"title\":'Years',\n",
    "        \"gridcolor\":'rgb(205, 205, 205)',\n",
    "        \"zerolinewidth\":1,\n",
    "        \"ticklen\":5,\n",
    "        \"gridwidth\":2,\n",
    "    },\n",
    "    \n",
    "    \"paper_bgcolor\":'rgb(240, 240, 240)',\n",
    "    \"plot_bgcolor\":'rgb(240, 240, 240)'\n",
    "    }}\n",
    "\n",
    "iplot(fig)"
   ]
  },
  {
   "cell_type": "code",
   "execution_count": null,
   "id": "41e01771",
   "metadata": {},
   "outputs": [],
   "source": [
    "plt.figure(figsize=(13,10))\n",
    "sns.heatmap(vg.corr(), cmap = \"Blues\", annot=True, linewidth=3)"
   ]
  },
  {
   "cell_type": "code",
   "execution_count": null,
   "id": "91251d30",
   "metadata": {},
   "outputs": [],
   "source": [
    "vg2 = vg.loc[:,[\"Year\",\"Platform\",\"NA_Sales\",\"EU_Sales\" ]]\n",
    "\n",
    "vg2[\"index\"] = np.arange(1,len(vg)+1)\n",
    "# scatter matrix\n",
    "fig = ff.create_scatterplotmatrix(vg2, diag='histogram', index='index',colormap='Picnic',\n",
    "                                  colormap_type='seq',\n",
    "                                  height=1000, width=1200)\n",
    "iplot(fig)"
   ]
  },
  {
   "cell_type": "markdown",
   "id": "4ce241ce",
   "metadata": {},
   "source": [
    "# CHAPTER 13"
   ]
  },
  {
   "cell_type": "code",
   "execution_count": null,
   "id": "71191351",
   "metadata": {},
   "outputs": [],
   "source": [
    "data_year = vg.groupby(by=['Year'])['Global_Sales'].sum()\n",
    "data_year = data_year.reset_index()"
   ]
  },
  {
   "cell_type": "code",
   "execution_count": null,
   "id": "7434a000",
   "metadata": {},
   "outputs": [],
   "source": [
    "plt.figure(figsize=(15, 10))\n",
    "sns.lineplot(x=\"Year\", y=\"Global_Sales\",markers=True, data=data_year)\n",
    "plt.xticks(rotation=90)"
   ]
  },
  {
   "cell_type": "code",
   "execution_count": null,
   "id": "ca80cceb",
   "metadata": {},
   "outputs": [],
   "source": []
  }
 ],
 "metadata": {
  "kernelspec": {
   "display_name": "Python 3 (ipykernel)",
   "language": "python",
   "name": "python3"
  },
  "language_info": {
   "codemirror_mode": {
    "name": "ipython",
    "version": 3
   },
   "file_extension": ".py",
   "mimetype": "text/x-python",
   "name": "python",
   "nbconvert_exporter": "python",
   "pygments_lexer": "ipython3",
   "version": "3.10.7"
  }
 },
 "nbformat": 4,
 "nbformat_minor": 5
}
